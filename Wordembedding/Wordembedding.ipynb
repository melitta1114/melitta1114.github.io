{
  "cells": [
    {
      "cell_type": "code",
      "execution_count": null,
      "metadata": {
        "id": "Dz3l2yMRNQSw"
      },
      "outputs": [],
      "source": [
        "import pandas as pd\n",
        "import numpy as np\n",
        "from bs4 import BeautifulSoup\n",
        "import os\n",
        "import csv\n",
        "from collections import Counter\n",
        "from nltk.tokenize import RegexpTokenizer\n",
        "from nltk.tokenize import sent_tokenize\n",
        "import time\n",
        "import torch\n",
        "from torch.utils.data import Dataset\n",
        "from torch.utils.data import DataLoader\n",
        "from torch.autograd import Variable\n",
        "import torch.optim as optim\n",
        "import torch.nn as nn\n",
        "import torch.nn.functional as F\n",
        "from sklearn.feature_extraction.text import TfidfVectorizer\n",
        "from sklearn.metrics.pairwise import cosine_similarity\n",
        "from sklearn.metrics import mean_squared_error"
      ]
    },
    {
      "cell_type": "code",
      "execution_count": null,
      "metadata": {
        "id": "zuUFBsuaOSR-"
      },
      "outputs": [],
      "source": [
        "def load_and_clean_html(directory_name):\n",
        "    documents = []  # Üres lista a tisztított dokumentumok tárolására\n",
        "\n",
        "    # Végigmegyünk a könyvtárban található összes fájlon\n",
        "    for filename in os.listdir(directory_name):\n",
        "        # Csak a .html kiterjesztésű fájlokat dolgozzuk fel\n",
        "        if filename.endswith('.html'):\n",
        "            # Biztonságos fájlnyitás UTF-8 kódolással\n",
        "            with open(os.path.join(directory_name, filename), 'r', encoding='utf-8') as file:\n",
        "                html = file.read()  # Beolvassuk a HTML fájl teljes tartalmát\n",
        "\n",
        "                # Létrehozunk egy BeautifulSoup objektumot a HTML elemzéséhez\n",
        "                soup = BeautifulSoup(html, 'html.parser')\n",
        "\n",
        "                # Kinyerjük a tiszta szöveget (eltávolítva minden HTML tag-et)\n",
        "                text = soup.get_text()\n",
        "\n",
        "                # Hozzáadjuk a tisztított szöveget a dokumentumlistához\n",
        "                documents.append(text)\n",
        "\n",
        "    return documents  # Visszaadjuk a tisztított dokumentumok listáját"
      ]
    },
    {
      "cell_type": "code",
      "execution_count": null,
      "metadata": {
        "id": "IYgOJftRR-yY"
      },
      "outputs": [],
      "source": [
        "tokenizer = RegexpTokenizer(r'[a-zA-Z]{3,}')"
      ]
    },
    {
      "cell_type": "code",
      "execution_count": null,
      "metadata": {
        "id": "tnHvLz_ESFXe"
      },
      "outputs": [],
      "source": [
        "def get_frequent_words(documents, stop_count=100, corpus_count=10000):\n",
        "\n",
        "    tokens = []  # Üres lista a tokenek (szavak) tárolására\n",
        "\n",
        "    # Minden dokumentum feldolgozása a listában\n",
        "    for doc in documents:\n",
        "        # Tokenizálja a dokumentumot (szavakra bontja) és kisbetűssé alakít, majd hozzáadja a listához\n",
        "        tokens.extend([word.lower() for word in tokenizer.tokenize(doc)])\n",
        "\n",
        "    # Megszámolja minden szó előfordulási gyakoriságát\n",
        "    word_counts = Counter(tokens)\n",
        "\n",
        "    # Szavak szűrése:\n",
        "    # 1. Kihagyja a legelső 'stop_count' darab leggyakoribb szót (általában kötőszavak)\n",
        "    # 2. Kiválasztja a következő 'corpus_count' darab szót\n",
        "    filtered = word_counts.most_common()[stop_count:stop_count + corpus_count]\n",
        "\n",
        "    # Kinyeri csak a szavakat (a gyakoriság nélkül) a szűrt eredményekből\n",
        "    words = [word for word, _ in filtered]\n",
        "\n",
        "    return words"
      ]
    },
    {
      "cell_type": "code",
      "source": [
        "documents = load_and_clean_html(\".\")"
      ],
      "metadata": {
        "id": "6ViZU_Rc_unu"
      },
      "execution_count": null,
      "outputs": []
    },
    {
      "cell_type": "code",
      "source": [
        "words = get_frequent_words(documents)"
      ],
      "metadata": {
        "id": "XXLPkI7v_grY"
      },
      "execution_count": null,
      "outputs": []
    },
    {
      "cell_type": "code",
      "source": [
        "len(words)"
      ],
      "metadata": {
        "colab": {
          "base_uri": "https://localhost:8080/"
        },
        "id": "wiTTB808Aj8Q",
        "outputId": "6df6df61-cfba-4d0d-fadc-5ebbc2d2b89c"
      },
      "execution_count": null,
      "outputs": [
        {
          "output_type": "execute_result",
          "data": {
            "text/plain": [
              "10000"
            ]
          },
          "metadata": {},
          "execution_count": 8
        }
      ]
    },
    {
      "cell_type": "code",
      "source": [
        "word_to_id = {word: idx for idx, word in enumerate(words)} #Minden szóhoz rendelünk egy ID-t"
      ],
      "metadata": {
        "id": "og7mLNEqT6OU"
      },
      "execution_count": null,
      "outputs": []
    },
    {
      "cell_type": "code",
      "source": [
        "def generate_samples(documents, word_to_id, window_size=3):\n",
        "    # Az ablak pozícióinak meghatározása (pl. [-3, -2, -1, 1, 2, 3] window_size=3 esetén)\n",
        "    window_pos = [i for i in range(-window_size, window_size + 1) if i != 0]\n",
        "\n",
        "    # Üres lista a minták tárolására\n",
        "    samples = []\n",
        "\n",
        "    # Szavak halmaza a gyorsabb keresés érdekében\n",
        "    words_set = set(word_to_id.keys())\n",
        "\n",
        "    # Végigmegyünk minden dokumentumon\n",
        "    for document in documents:\n",
        "        # Mondatokra bontjuk a dokumentumot\n",
        "        for sentence in sent_tokenize(document):\n",
        "            # Tokenizálás és kisbetűsítés, csak a szótárban lévő szavakat megtartjuk\n",
        "            tokens = [word.lower() for word in tokenizer.tokenize(sentence) if word.lower() in words_set]\n",
        "\n",
        "            # Végigmegyünk minden szón a mondaton belül\n",
        "            for i, current in enumerate(tokens):\n",
        "                # Megnézzük az összes lehetséges ablakpozíciót\n",
        "                for pos in window_pos:\n",
        "                    j = i + pos  # Számoljuk a szomszéd pozícióját\n",
        "\n",
        "                    # Ellenőrizzük, hogy a pozíció érvényes-e (nem lóg ki a mondatból)\n",
        "                    if 0 <= j < len(tokens):\n",
        "                        # Hozzáadjuk a mintát (központi_szó, kontextus_szó) ID párokkal\n",
        "                        samples.append((word_to_id[current], word_to_id[tokens[j]]))\n",
        "\n",
        "    return samples"
      ],
      "metadata": {
        "id": "Ajqs0aGqBvl_"
      },
      "execution_count": null,
      "outputs": []
    },
    {
      "cell_type": "code",
      "source": [
        "import nltk\n",
        "nltk.download('punkt_tab')"
      ],
      "metadata": {
        "colab": {
          "base_uri": "https://localhost:8080/"
        },
        "id": "9uTic4qvWj0Q",
        "outputId": "7d8a5b77-5a79-4cb0-bb3d-506327b5fbb7"
      },
      "execution_count": null,
      "outputs": [
        {
          "output_type": "stream",
          "name": "stderr",
          "text": [
            "[nltk_data] Downloading package punkt_tab to /root/nltk_data...\n",
            "[nltk_data]   Unzipping tokenizers/punkt_tab.zip.\n"
          ]
        },
        {
          "output_type": "execute_result",
          "data": {
            "text/plain": [
              "True"
            ]
          },
          "metadata": {},
          "execution_count": 11
        }
      ]
    },
    {
      "cell_type": "code",
      "source": [
        "samples = generate_samples(documents, word_to_id)"
      ],
      "metadata": {
        "id": "tz0qomTfWdg1"
      },
      "execution_count": null,
      "outputs": []
    },
    {
      "cell_type": "code",
      "source": [
        "if torch.cuda.is_available():\n",
        "    print('Using CUDA')\n",
        "    device = torch.device('cuda')\n",
        "else:\n",
        "    print('Using CPU')\n",
        "    device = torch.device('cpu')"
      ],
      "metadata": {
        "colab": {
          "base_uri": "https://localhost:8080/"
        },
        "id": "U9qmdgwJW3jv",
        "outputId": "89a9a410-6aaf-4f47-c831-05890a32d833"
      },
      "execution_count": null,
      "outputs": [
        {
          "output_type": "stream",
          "name": "stdout",
          "text": [
            "Using CUDA\n"
          ]
        }
      ]
    },
    {
      "cell_type": "code",
      "source": [
        "def get_onehot_tensor(tensor):\n",
        "    # Kinyerjük a tenzor első dimenziójának méretét (azaz hány szó van)\n",
        "    size = [*tensor.shape][0]  # Például ha tensor.shape = (5,), akkor size = 5\n",
        "\n",
        "    # Létrehozunk egy nullákkal teli tenzort a megfelelő méretben:\n",
        "    # - Sorok száma: size (ennyi szó van)\n",
        "    # - Oszlopok száma: len(word_to_id) (ennyi különböző szó lehet)\n",
        "    inp = torch.zeros(size, len(word_to_id))\n",
        "\n",
        "    # One-hot kódolás létrehozása a scatter_ függvénnyel:\n",
        "    # - 1-es értékeket helyez el a megfelelő pozíciókba\n",
        "    # - tensor.unsqueeze(1): Átalakítja a tenzort oszlopvektorrá (pl. [1,2,3] -> [[1],[2],[3]])\n",
        "    # - 1.: Az érték amit be akarunk állítani (mindig 1-es)\n",
        "    inp = inp.scatter_(1, tensor.unsqueeze(1), 1.)\n",
        "\n",
        "    # Átmozgatjuk a tenzort a megfelelő eszközre (CPU vagy GPU)\n",
        "    inp = inp.to(device)\n",
        "\n",
        "    # Visszaadjuk a tenzort Variable formában és float típusként\n",
        "    return Variable(inp).float()"
      ],
      "metadata": {
        "id": "iflayqdglnIB"
      },
      "execution_count": null,
      "outputs": []
    },
    {
      "cell_type": "code",
      "source": [
        "def one_hot_word(word, word_map):\n",
        "    # Létrehozunk egy nullákkal teli vektort, ami annyi elemű, ahány szó van a szótárban\n",
        "    one_hot_vector = np.zeros(len(word_map))\n",
        "\n",
        "    # Beállítjuk az 1-es értéket a szónak megfelelő pozícióra\n",
        "    # A word_map[word] megadja a szó indexét a szótárban\n",
        "    one_hot_vector[word_map[word]] = 1\n",
        "\n",
        "    # Visszaadjuk a kész one-hot vektort\n",
        "    return one_hot_vector"
      ],
      "metadata": {
        "id": "RlgHS4rllxLb"
      },
      "execution_count": null,
      "outputs": []
    },
    {
      "cell_type": "code",
      "source": [
        "# A Word2vecDataset osztály egy egyedi PyTorch Dataset osztály,\n",
        "# amely segít a Word2Vec modell tanításához szükséges adatok kezelésében.\n",
        "class Word2vecDataset(Dataset):\n",
        "\n",
        "    # Konstruktor: betölti a bemeneti adatokat és paramétereket\n",
        "    def __init__(self, X, y, batch_size, word_map):\n",
        "        # Bemeneti és cél (középső szó) adatok mentése\n",
        "        self.X, self.y = X, y\n",
        "\n",
        "        # Batch méret eltárolása\n",
        "        self.batch_size = batch_size\n",
        "\n",
        "        # Szóhoz tartozó indexek leképzése (word_map: pl. {\"kutya\": 0, \"macska\": 1, ...})\n",
        "        self.word_map = word_map\n",
        "\n",
        "    # Megadja, hogy hány batch van összesen az adathalmazban\n",
        "    def __len__(self):\n",
        "        # Összes X minta / batch méret, felfelé kerekítve (ha nem osztható maradék nélkül)\n",
        "        return int(np.ceil(len(self.X) / float(self.batch_size)))\n",
        "\n",
        "    # Egy adott batch-hez tartozó X és y párok visszaadása\n",
        "    def __getitem__(self, batch_id):\n",
        "        # batch_id alapján kivágjuk az adott batch X elemeit (pl. szomszédos szavak indexei)\n",
        "        batch_X = [i for i in self.X[batch_id * self.batch_size:(batch_id + 1) * self.batch_size]]\n",
        "\n",
        "        # batch_id alapján kivágjuk az adott batch y elemeit (pl. középső szó indexei)\n",
        "        batch_y = [i for i in self.y[batch_id * self.batch_size:(batch_id + 1) * self.batch_size]]\n",
        "\n",
        "        # Mindkettőt one-hot tenzorrá alakítjuk és visszaadjuk\n",
        "        return get_onehot_tensor(torch.tensor(batch_X)), get_onehot_tensor(torch.tensor(batch_y))"
      ],
      "metadata": {
        "id": "2vAl-niMl2Jn"
      },
      "execution_count": null,
      "outputs": []
    },
    {
      "cell_type": "code",
      "source": [
        "# Hányszor tanulja végig a neurális hálózat az összes tanító adatot\n",
        "epochs = 10\n",
        "#Ez azt jelenti, hogy 10-szer végigmegy az összes batch-en (teljes tanulási ciklus)\n",
        "\n",
        "# Hány példát dolgozunk fel egyszerre egy tanítási lépésben\n",
        "batch_size = 1000\n",
        "#Ez azt jelenti, hogy egyszerre 1000 szó-környezet párt használunk fel a tanításhoz\n",
        "\n",
        "# Az embedding vektorok mérete (dimenziószáma)\n",
        "embedding_dimension = 50\n",
        "#A tanult szavak 50-dimenziós vektorként lesznek reprezentálva (ezek lesznek a \"beágyazott\" szóvektorok)\n",
        "\n",
        "# A tanulási ráta (learning rate) a gradiens alapú optimalizáláshoz\n",
        "learning_rate = 0.001\n",
        "#A kis érték azt jelzi, hogy lassabban, de stabilabban tanul a modell (a súlyfrissítések mértéke)\n",
        "\n",
        "#A kontextusablak mérete a Word2Vec modellben\n",
        "window_size = 3\n",
        "#Ez azt jelenti, hogy a középső szótól balra és jobbra max. 3 szót vesz figyelembe a környezetként (pl. [s1, s2, **közép**, s3, s4])"
      ],
      "metadata": {
        "id": "ICjobtD9mDka"
      },
      "execution_count": null,
      "outputs": []
    },
    {
      "cell_type": "code",
      "source": [
        "X, y = zip(*samples)\n",
        "\n",
        "# A Word2vecDataset példányosítása: létrehozunk egy tanító adatokat kezelő objektumot\n",
        "dataset = Word2vecDataset(list(X), list(y), batch_size, word_to_id)\n",
        "# A tanításhoz szükséges DataLoader létrehozása\n",
        "train_dataloader = DataLoader(dataset)\n",
        "\n",
        "# Első súlymátrix (W1) inicializálása: minden szónak lesz egy 50-dimenziós beágyazása\n",
        "W1 = Variable(torch.randn(len(word_to_id), embedding_dimension, device=device).uniform_(0, 0.1).float(), requires_grad=True)\n",
        "# Második súlymátrix (W2) inicializálása: visszavetítés az output rétegre\n",
        "W2 = Variable(torch.randn(embedding_dimension, len(word_to_id), device=device).uniform_(0, 0.1).float(), requires_grad=True)\n",
        "\n",
        "# Optimalizáló létrehozása: SGD (stochastic gradient descent)\n",
        "optimizer = optim.SGD([W1, W2], lr=learning_rate)\n",
        "\n",
        "# Megjelenítjük a két súlymátrixot (beágyazások és output súlyok)\n",
        "W1, W2"
      ],
      "metadata": {
        "colab": {
          "base_uri": "https://localhost:8080/"
        },
        "id": "DmP2NlNXmII7",
        "outputId": "d424a651-ed0b-458d-dfa2-eea5b49052e0"
      },
      "execution_count": null,
      "outputs": [
        {
          "output_type": "execute_result",
          "data": {
            "text/plain": [
              "(tensor([[0.0915, 0.0681, 0.0461,  ..., 0.0581, 0.0052, 0.0978],\n",
              "         [0.0948, 0.0865, 0.0473,  ..., 0.0883, 0.0226, 0.0731],\n",
              "         [0.0781, 0.0315, 0.0723,  ..., 0.0746, 0.0235, 0.0351],\n",
              "         ...,\n",
              "         [0.0527, 0.0923, 0.0482,  ..., 0.0114, 0.0333, 0.0988],\n",
              "         [0.0302, 0.0469, 0.0106,  ..., 0.0761, 0.0134, 0.0843],\n",
              "         [0.0078, 0.0329, 0.0640,  ..., 0.0506, 0.0890, 0.0602]],\n",
              "        device='cuda:0', requires_grad=True),\n",
              " tensor([[0.0491, 0.0389, 0.0167,  ..., 0.0021, 0.0850, 0.0116],\n",
              "         [0.0965, 0.0237, 0.0758,  ..., 0.0671, 0.0643, 0.0746],\n",
              "         [0.0988, 0.0682, 0.0718,  ..., 0.0266, 0.0309, 0.0862],\n",
              "         ...,\n",
              "         [0.0703, 0.0514, 0.0882,  ..., 0.0986, 0.0671, 0.0828],\n",
              "         [0.0170, 0.0170, 0.0654,  ..., 0.0872, 0.0508, 0.0037],\n",
              "         [0.0732, 0.0471, 0.0241,  ..., 0.0166, 0.0576, 0.0620]],\n",
              "        device='cuda:0', requires_grad=True))"
            ]
          },
          "metadata": {},
          "execution_count": 18
        }
      ]
    },
    {
      "cell_type": "code",
      "source": [
        "start = time.time()\n",
        "\n",
        "# Végigmegyünk az epoch-okon (hányszor tanulja végig a modellt az adatokon)\n",
        "for epoch in range(epochs):\n",
        "  # Minden egyes batch-en végrehajtjuk a tanítást\n",
        "    for inputs, outputs in train_dataloader:\n",
        "\n",
        "        inputs = inputs[0].to(device)\n",
        "        outputs = outputs[0].to(device)\n",
        "\n",
        "        # Nullázzuk a gradiens értékeket (fontos minden batch előtt!)\n",
        "        optimizer.zero_grad()\n",
        "\n",
        "        # Az első réteg: input (one-hot) × W1 = beágyazott reprezentációk\n",
        "        features = inputs.mm(W1)\n",
        "        # A második réteg: beágyazások × W2 = kimeneti logitok\n",
        "        y_out = features.mm(W2)\n",
        "\n",
        "        # Keresztentrópia veszteségfüggvény inicializálása\n",
        "        loss = torch.nn.CrossEntropyLoss()\n",
        "        # A tényleges veszteség kiszámítása\n",
        "        l = loss(y_out, outputs)\n",
        "        # Visszaterjesztés (gradiens kiszámítása)\n",
        "        l.backward()\n",
        "\n",
        "        # A súlyok frissítése a gradiens irányában\n",
        "        optimizer.step()\n",
        "\n",
        "    print(f'Epoch {epoch+1}, loss = {l}')\n",
        "\n",
        "print('Ellapsed hours: ', (time.time() - start)/3600)"
      ],
      "metadata": {
        "colab": {
          "base_uri": "https://localhost:8080/"
        },
        "id": "MPUi2e_ZmTpc",
        "outputId": "ff30a812-f0e2-4b78-e6ad-5f9fd1bfe264"
      },
      "execution_count": null,
      "outputs": [
        {
          "output_type": "stream",
          "name": "stdout",
          "text": [
            "Epoch 1, loss = 9.208711624145508\n",
            "Epoch 2, loss = 9.208292007446289\n",
            "Epoch 3, loss = 9.20787239074707\n",
            "Epoch 4, loss = 9.207453727722168\n",
            "Epoch 5, loss = 9.207035064697266\n",
            "Epoch 6, loss = 9.20661449432373\n",
            "Epoch 7, loss = 9.206195831298828\n",
            "Epoch 8, loss = 9.20577621459961\n",
            "Epoch 9, loss = 9.20535659790039\n",
            "Epoch 10, loss = 9.204936027526855\n",
            "Ellapsed hours:  0.6850854672325982\n"
          ]
        }
      ]
    },
    {
      "cell_type": "code",
      "source": [
        "def get_sigmoid_predictions(word):\n",
        "    if word not in word_to_id:\n",
        "        return ['Could not predict context']\n",
        "\n",
        "    # One-hot enkódolás\n",
        "    x = one_hot_word(word, word_to_id)\n",
        "    x = torch.from_numpy(np.array(x)).unsqueeze(0).to(device).float()\n",
        "\n",
        "    # Feed forward\n",
        "    features = x.mm(W1)\n",
        "    y_out = features.mm(W2)\n",
        "\n",
        "    # Sigmoid\n",
        "    return torch.sigmoid(y_out)"
      ],
      "metadata": {
        "id": "wIuQnfQsztH8"
      },
      "execution_count": null,
      "outputs": []
    },
    {
      "cell_type": "code",
      "source": [
        "def get_binary_context(sigmoid_output, threshold=0.5):\n",
        "    # Átalakítás numpy arrayé\n",
        "    sigmoid_values = sigmoid_output.detach().cpu().numpy()[0]\n",
        "\n",
        "    # Fordított szótár létrehozása\n",
        "    inverted_vocab = {v: k for k, v in word_to_id.items()}\n",
        "\n",
        "    # Kontextus szavak kiválasztása a küszöbérték alapján\n",
        "    context_words = []\n",
        "    for idx, val in enumerate(sigmoid_values):\n",
        "        if val > threshold:\n",
        "            context_words.append(inverted_vocab[idx])\n",
        "\n",
        "    return context_words, sigmoid_values"
      ],
      "metadata": {
        "id": "5GFSULnI2wmi"
      },
      "execution_count": null,
      "outputs": []
    },
    {
      "cell_type": "code",
      "source": [
        "sigmoid_output = get_sigmoid_predictions('male')\n",
        "context_words, sigmoid_values = get_binary_context(sigmoid_output)\n",
        "print(\"Kontextus szavak:\", context_words)\n",
        "print(\"Sigmoid értékek:\", sigmoid_values)"
      ],
      "metadata": {
        "colab": {
          "base_uri": "https://localhost:8080/"
        },
        "id": "gPPA7qSr3eIc",
        "outputId": "ddffdbfd-4278-461c-c184-3b6c423644f6"
      },
      "execution_count": null,
      "outputs": [
        {
          "output_type": "stream",
          "name": "stdout",
          "text": [
            "Kontextus szavak: ['way', 'over', 'without', 'life', 'king', 'lady', 'take', 'don', 'even', 'why', 'away', 'thought', 'hand', 'nothing', 'thee', 'young', 'house', 'give', 'eyes', 'long', 'those', 'tell', 'came', 'dear', 'ever', 'look', 'every', 'night', 'last', 'still', 'room', 'many', 'work', 'myself', 'heart', 'miss', 'head', 'went', 'father', 'men', 'same', 'once', 'back', 'poor', 'while', 'place', 'another', 'face', 'its', 'off', 'through', 'friend', 'found', 'gutenberg', 'put', 'whom', 'enter', 'hath', 'seemed', 'indeed', 'mind', 'better', 'having', 'just', 'project', 'world', 'people', 'always', 'yes', 'saw', 'part', 'mother', 'looked', 'things', 'speak', 'under', 'both', 'something', 'against', 'done', 'took', 'quite', 'told', 'nor', 'name', 'right', 'going', 'heard', 'find', 'get', 'door', 'woman', 'left', 'god', 'thing', 'hear', 'three', 'soon', 'herself', 'whose', 'home', 'got', 'chapter', 'set', 'asked', 'new', 'gentleman', 'scene', 'till', 'seen', 'death', 'knew', 'cannot', 'felt', 'began', 'leave', 'full', 'anything', 'because', 'hands', 'since', 'rather', 'whole', 'true', 'sure', 'moment', 'enough', 'therefore', 'word', 'perhaps', 'says', 'looking', 'cried', 'want', 'mine', 'half', 'far', 'hope', 'gave', 'thus', 'almost', 'gone', 'queen', 'believe', 'wife', 'kind', 'honour', 'words', 'present', 'between', 'however', 'best', 'years', 'friends', 'use', 'brother', 'help', 'tis', 'morning', 'keep', 'master', 'money', 'matter', 'person', 'few', 'jones', 'end', 'call', 'artagnan', 'really', 'course', 'turned', 'letter', 'each', 'voice', 'called', 'side', 'husband', 'fellow', 'next', 'son', 'light', 'round', 'does', 'art', 'brought', 'manner', 'often', 'dead', 'alone', 'days', 'wish', 'together', 'fear', 'among', 'answered', 'duke', 'second', 'within', 'taken', 'blood', 'least', 'mean', 'fair', 'business', 'family', 'means', 'nature', 'certain', 'daughter', 'heaven', 'live', 'towards', 'less', 'everything', 'also', 'soul', 'already', 'bed', 'read', 'hour', 'else', 'air', 'rest', 'answer', 'given', 'happy', 'country', 'reason', 'sister', 'sweet', 'boy', 'richard', 'child', 'stood', 'small', 'received', 'turn', 'understand', 'state', 'open', 'company', 'near', 'return', 'case', 'bear', 'power', 'care', 'fortune', 'hold', 'whale', 'whether', 'doth', 'coming', 'lay', 'order', 'comes', 'pray', 'girl', 'yourself', 'table', 'sat', 'ask', 'fire', 'captain', 'mistress', 'times', 'others', 'lost', 'uncle', 'white', 'known', 'works', 'used', 'sea', 'high', 'prince', 'strange', 'returned', 'sort', 'bring', 'eye', 'replied', 'short', 'remember', 'truth', 'ill', 'show', 'sent', 'stand', 'feel', 'town', 'either', 'please', 'exeunt', 'saying', 'madam', 'forth', 'making', 'stay', 'cause', 'none', 'exit', 'nay', 'five', 'point', 'evening', 'passed', 'general', 'act', 'question', 'arms', 'four', 'noble', 'hard', 'certainly', 'law', 'tears', 'suddenly', 'die', 'athos', 'ready', 'henry', 'talk', 'doubt', 'valancy', 'subject', 'water', 'won', 'play', 'behind', 'suppose', 'until', 'terms', 'able', 'pleasure', 'cousin', 'itself', 'lydgate', 'court', 'account', 'body', 'gentlemen', 'doctor', 'thousand', 'servant', 'pretty', 'sleep', 'possible', 'themselves', 'peace', 'immediately', 'women', 'desire', 'afraid', 'john', 'taking', 'meet', 'kept', 'need', 'fact', 'sometimes', 'spoke', 'dorothea', 'sight', 'fell', 'black', 'window', 'george', 'occasion', 'london', 'purpose', 'seems', 'monsieur', 'ship', 'feeling', 'makes', 'bad', 'sophia', 'arm', 'children', 'large', 'met', 'during', 'seeing', 'opinion', 'twenty', 'dark', 'strong', 'above', 'become', 'cold', 'horse', 'sense', 'change', 'fine', 'glad', 'along', 'hair', 'didn', 'several', 'seem', 'late', 'thank', 'elizabeth', 'became', 'free', 'further', 'count', 'idea', 'beauty', 'longer', 'earth', 'book', 'service', 'thoughts', 'wanted', 'paris', 'year', 'conversation', 'street', 'ladies', 'married', 'besides', 'character', 'looks', 'hundred', 'ground', 'porthos', 'grace', 'foundation', 'except', 'added', 'neither', 'wrong', 'spirit', 'appeared', 'lips', 'electronic', 'lucy', 'hours', 'close', 'sit', 'happened', 'fall', 'england', 'sun', 'sound', 'ten', 'news', 'interest', 'music', 'rose', 'marry', 'low', 'knows', 'ought', 'visit', 'opened', 'follow', 'raskolnikov', 'run', 'held', 'joy', 'dinner', 'silence', 'doing', 'past', 'age', 'smile', 'pay', 'youth', 'send', 'page', 'cries', 'pardon', 'public', 'aside', 'different', 'hast', 'try', 'particular', 'entered', 'tried', 'story', 'faith', 'chair', 'fool', 'deal', 'sword', 'tongue', 'usual', 'trouble', 'deep', 'effect', 'wonder', 'aunt', 'red', 'lie', 'laid', 'thinking', 'pass', 'duty', 'meg', 'nora', 'marriage', 'feet', 'form', 'wind', 'france', 'english', 'self', 'watch', 'continued', 'french', 'aramis', 'living', 'write', 'turning', 'hardly', 'gentle', 'allworthy', 'paper', 'walk', 'afterwards', 'view', 'necessary', 'amy', 'clock', 'justice', 'common', 'ago', 'cry', 'pity', 'devil', 'object', 'observed', 'arrived', 'pleased', 'romeo', 'appearance', 'followed', 'goes', 'passion', 'casaubon', 'pale', 'third', 'forward', 'mouth', 'yours', 'sooner', 'promise', 'creature', 'opportunity', 'especially', 'knowledge', 'cut', 'sorry', 'paid', 'dare', 'honest', 'secret', 'unless', 'letters', 'real', 'morrow', 'sake', 'obliged', 'mad', 'quickly', 'easy', 'states', 'worth', 'charge', 'copyright', 'minutes', 'carried', 'beautiful', 'march', 'walked', 'caesar', 'circumstances', 'struck', 'favour', 'standing', 'welcome', 'length', 'minute', 'land', 'sitting', 'road', 'happiness', 'fred', 'ran', 'regard', 'wait', 'laurie', 'getting', 'agreement', 'heavy', 'worse', 'bound', 'falstaff', 'lives', 'comfort', 'impossible', 'human', 'quiet', 'speaking', 'although', 'piece', 'rich', 'trust', 'remained', 'future', 'instead', 'mazarin', 'tone', 'garden', 'whatever', 'laugh', 'attention', 'entirely', 'majesty', 'foot', 'chance', 'natural', 'appear', 'shame', 'clear', 'resolved', 'madame', 'notice', 'gold', 'hence', 'spirits', 'corner', 'loved', 'cardinal', 'dress', 'york', 'success', 'bulstrode', 'save', 'affection', 'six', 'gloucester', 'maid', 'office', 'former', 'party', 'presence', 'lose', 'grave', 'written', 'wine', 'ere', 'war', 'license', 'note', 'glass', 'breath', 'sudden', 'proper', 'early', 'giving', 'meant', 'wished', 'spite', 'thine', 'false', 'presently', 'lived', 'danger', 'rosamond', 'united', 'dost', 'virtue', 'plain', 'tea', 'following', 'forget', 'lords', 'squire', 'respect', 'boat', 'broken', 'beyond', 'mary', 'wilkins', 'break', 'kill', 'rome', 'learned', 'proud', 'worthy', 'church', 'unto', 'antony', 'horses', 'drew', 'city', 'hat', 'number', 'silent', 'expression', 'information', 'pride', 'strength', 'fit', 'mentioned', 'beginning', 'expected', 'died', 'position', 'instant', 'ring', 'acquaintance', 'stopped', 'girls', 'sorrow', 'straight', 'satisfaction', 'journey', 'blue', 'fresh', 'tender', 'across', 'stop', 'easily', 'hall', 'wild', 'around', 'begin', 'green', 'ahab', 'ear', 'enemy', 'perfectly', 'terrible', 'ears', 'brooke', 'grief', 'led', 'excellent', 'tom', 'receive', 'hamlet', 'fancy', 'behaviour', 'royal', 'brutus', 'carriage', 'situation', 'lies', 'servants', 'fast', 'winter', 'iii', 'nurse', 'carry', 'beth', 'fight', 'moved', 'drink', 'figure', 'desired', 'consider', 'prove', 'countenance', 'acquainted', 'born', 'condition', 'guardian', 'jack', 'writing', 'pocket', 'broke', 'conduct', 'greater', 'surprise', 'draw', 'post', 'nearly', 'farewell', 'surprised', 'sick', 'sad', 'touch', 'pleasant', 'partridge', 'hot', 'determined', 'agreeable', 'copy', 'bid', 'week', 'hearing', 'western', 'talking', 'waiting', 'kiss', 'fly', 'discovered', 'couldn', 'yesterday', 'trying', 'jarndyce', 'mark', 'parts', 'meeting', 'simply', 'leicester', 'hopes', 'consequence', 'offer', 'seek', 'step', 'quick', 'literary', 'bucket', 'field', 'simple', 'health', 'wall', 'learn', 'beg', 'later', 'distance', 'dreadful', 'ourselves', 'messenger', 'considered', 'truly', 'remain', 'books', 'eat', 'afternoon', 'alas', 'exclaimed', 'bright', 'speech', 'crown', 'repeated', 'months', 'soldier', 'promised', 'below', 'chamber', 'private', 'engaged', 'patience', 'action', 'advantage', 'donations', 'expect', 'castle', 'steps', 'stranger', 'altogether', 'suit', 'leaving', 'understood', 'edward', 'dog', 'wit', 'angry', 'greatest', 'liked', 'agree', 'prisoner', 'clothes', 'command', 'swear', 'line', 'society', 'showed', 'reader', 'satisfied', 'alice', 'laws', 'fisher', 'loss', 'takes', 'knowing', 'shook', 'mention', 'stone', 'merely', 'wise', 'shut', 'spent', 'darcy', 'drawing', 'box', 'laughed', 'warwick', 'despair', 'fixed', 'probably', 'advice', 'according', 'contrary', 'james', 'gods', 'nobody', 'provided', 'filled', 'pain', 'wear', 'finding', 'particularly', 'perfect', 'juliet', 'excuse', 'changed', 'telling', 'wouldn', 'confidence', 'started', 'officer', 'trademark', 'assured', 'matters', 'raised', 'dorian', 'serious', 'force', 'history', 'wonderful', 'ada', 'mercy', 'feelings', 'breast', 'supposed', 'picture', 'hither', 'likely', 'reply', 'summer', 'everybody', 'lead', 'confess', 'ebook', 'whilst', 'taste', 'single', 'thanks', 'lying', 'slowly', 'imagine', 'grew', 'curious', 'warm', 'produced', 'exactly', 'affair', 'sonia', 'vain', 'allow', 'companion', 'serve', 'noise', 'placed', 'chief', 'celia', 'toward', 'possession', 'guard', 'wilt', 'fathom', 'hearts', 'fond', 'reading', 'degree', 'lest', 'nice', 'ladyship', 'villain', 'pounds', 'matty', 'gives', 'prison', 'putting', 'archive', 'conscience', 'believed', 'neck', 'forgive', 'latter', 'hate', 'seven', 'miserable', 'coach', 'heads', 'asleep', 'fault', 'palace', 'influence', 'soldiers', 'guppy', 'ways', 'charles', 'drawn', 'friendship', 'escape', 'bit', 'safe', 'meaning', 'study', 'support', 'concerning', 'threw', 'experience', 'extraordinary', 'top', 'big', 'dream', 'expressed', 'murder', 'school', 'gate', 'rank', 'assure', 'fate', 'sign', 'difficulty', 'cross', 'outside', 'theatre', 'saint', 'mere', 'floor', 'reached', 'affairs', 'smiled', 'eight', 'surely', 'soft', 'memory', 'generally', 'lovely', 'otherwise', 'clown', 'beat', 'cast', 'spoken', 'access', 'bless', 'caught', 'declared', 'delight', 'board', 'anxious', 'nose', 'offered', 'convinced', 'lorry', 'flowers', 'fashion', 'violent', 'temper', 'actually', 'utmost', 'jane', 'patient', 'possibly', 'seat', 'dressed', 'timon', 'grow', 'consent', 'haste', 'provide', 'faces', 'perceived', 'snagsby', 'disposition', 'unhappy', 'middle', 'smiling', 'blow', 'suffer', 'iron', 'intended', 'opera', 'boys', 'allowed', 'iago', 'courage', 'inn', 'attend', 'stairs', 'dresden', 'important', 'move', 'wood', 'persons', 'keeping', 'remembered', 'laughing', 'dedlock', 'bosom', 'judge', 'streets', 'informed', 'impression', 'start', 'breakfast', 'rage', 'brave', 'harry', 'wrote', 'stands', 'handsome', 'shalt', 'request', 'prepared', 'reasons', 'ordered', 'likewise', 'alive', 'speed', 'shadow', 'lover', 'battle', 'affected', 'razumihin', 'foul', 'fail', 'melancholy', 'paragraph', 'begged', 'evil', 'wide', 'running', 'ashamed', 'colour', 'listen', 'merry', 'settled', 'directly', 'coat', 'van', 'liberty', 'loves', 'hang', 'various', 'isn', 'othello', 'bennet', 'stage', 'walking', 'passing', 'share', 'holy', 'talked', 'praise', 'language', 'difficult', 'quarter', 'loud', 'including', 'beside', 'barney', 'raoul', 'choose', 'attended', 'shop', 'effort', 'proceeded', 'throw', 'misery', 'killed', 'equal', 'direction', 'professor', 'fifty', 'due', 'margaret', 'suspicion', 'finished', 'rooms', 'plan', 'peter', 'brain', 'consideration', 'greatly', 'helmer', 'legs', 'report', 'forgotten', 'hoped', 'fish', 'match', 'bottom', 'confusion', 'assistance', 'places', 'suffered', 'content', 'understanding', 'goodness', 'lordship', 'capulet', 'tomorrow', 'considerable', 'humour', 'terror', 'dangerous', 'accept', 'express', 'complete', 'rising', 'windows', 'crying', 'sing', 'agreed', 'sufficient', 'anne', 'passage', 'property', 'presented', 'army', 'dounia', 'grey', 'guilty', 'peculiar', 'strike', 'trees', 'moon', 'front', 'arrival', 'lieutenant', 'helsing', 'weak', 'gracious', 'sharp', 'spring', 'doors', 'possessed', 'instance', 'shallow', 'lov', 'silver', 'deck', 'holding', 'accident', 'horror', 'somewhat', 'wants', 'fingers', 'enjoy', 'touched', 'blifil', 'friar', 'supper', 'scarcely', 'title', 'calm', 'weather', 'empty', 'scarce', 'tired', 'forgot', 'hero', 'fee', 'address', 'harm', 'pause', 'gray', 'grimaud', 'dull', 'covered', 'happen', 'waited', 'sum', 'opposite', 'mistake', 'leaves', 'resolution', 'bloody', 'sin', 'cheeks', 'miles', 'quietly', 'glance', 'citizen', 'twice', 'innocent', 'bingley', 'loving', 'bow', 'thrown', 'freely', 'heavens', 'kindness', 'cap', 'ford', 'hell', 'hurt', 'reputation', 'curiosity', 'nevertheless', 'unfortunate', 'houses', 'darkness', 'german', 'pole', 'wishes', 'manners', 'refund', 'crowd', 'intention', 'revenge', 'sensible', 'imagination', 'garth', 'ivanovna', 'absolutely', 'performance', 'shake', 'forty', 'papers', 'defarge', 'bitter', 'credit', 'witness', 'claudio', 'asking', 'teeth', 'knees', 'frederick', 'pistol', 'brown', 'concluded', 'personal', 'honourable', 'worst', 'weeks', 'proposed', 'thirty', 'bent', 'circumstance', 'accordingly', 'anyone', 'attempt', 'naturally', 'fallen', 'charming', 'behold', 'permission', 'absence', 'host', 'tulkinghorn', 'warrant', 'dance', 'judgment', 'foolish', 'wretched', 'friendly', 'succeeded', 'closed', 'decided', 'retired', 'seized', 'anger', 'kindly', 'rise', 'removed', 'difference', 'macbeth', 'finger', 'thin', 'key', 'train', 'double', 'ideas', 'cost', 'flesh', 'nine', 'thyself', 'ease', 'drive', 'questions', 'antonio', 'walls', 'busy', 'shoulder', 'base', 'concern', 'petrovitch', 'begun', 'hide', 'tree', 'month', 'bell', 'whenever', 'proceed', 'rain', 'rosalind', 'beseech', 'prevent', 'drop', 'returns', 'square', 'extremely', 'using', 'special', 'cleopatra', 'noticed', 'instantly', 'dropped', 'dust', 'whispered', 'anybody', 'twelve', 'knight', 'distress', 'bank', 'names', 'birth', 'search', 'shape', 'burst', 'highly', 'blessed', 'frightened', 'woe', 'grown', 'blame', 'shaking', 'sky', 'ladislaw', 'dignity', 'proof', 'precious', 'forehead', 'orders', 'earnest', 'whence', 'weep', 'blind', 'measure', 'unknown', 'whales', 'perceive', 'spend', 'www', 'bread', 'cruel', 'golden', 'widow', 'fellows', 'mortal', 'accepted', 'forced', 'events', 'wasn', 'lawyer', 'evidently', 'buckingham', 'pair', 'deny', 'conscious', 'spot', 'lucius', 'org', 'dry', 'offence', 'fears', 'duchess', 'algernon', 'ended', 'pieces', 'rate', 'habit', 'period', 'anxiety', 'phrase', 'associated', 'marked', 'avoid', 'landlord', 'officers', 'landlady', 'profession', 'delivered', 'played', 'christian', 'worn', 'hill', 'lately', 'bore', 'needs', 'efforts', 'gatsby', 'importance', 'generous', 'notwithstanding', 'odd', 'wound', 'yield', 'food', 'grand', 'moments', 'hers', 'appears', 'drunk', 'calling', 'apartment', 'cecil', 'approach', 'opening', 'slight', 'quality', 'task', 'suffolk', 'estate', 'immediate', 'mistaken', 'eager', 'delicate', 'vincy', 'buy', 'wicked', 'lower', 'stubb', 'charley', 'haven', 'imagined', 'cecily', 'loose', 'lad', 'arbuthnot', 'monster', 'river', 'unable', 'middlemarch', 'choice', 'thinks', 'ignorant', 'kitchen', 'spare', 'ruin', 'fully', 'nephew', 'tall', 'murderer', 'value', 'creatures', 'mighty', 'prospect', 'example', 'caddy', 'cassio', 'enemies', 'sentence', 'abroad', 'join', 'song', 'evidence', 'explain', 'trembling', 'heartily', 'taught', 'troilus', 'shown', 'bearing', 'sympathy', 'queequeg', 'introduced', 'interrupted', 'reach', 'horrible', 'performed', 'expense', 'kissed', 'listened', 'gratitude', 'watching', 'contempt', 'dying', 'seated', 'bold', 'bare', 'deliver', 'partly', 'demand', 'proved', 'nonsense', 'somebody', 'teach', 'shoulders', 'formed', 'ones', 'aware', 'event', 'necessity', 'quarrel', 'tale', 'interesting', 'delightful', 'waters', 'doesn', 'sons', 'fetch', 'storm', 'shot', 'sperm', 'hitherto', 'wore', 'titus', 'ancient', 'served', 'misfortune', 'oath', 'treated', 'discourse', 'audience', 'smallweed', 'wretch', 'prepare', 'pains', 'individual', 'moving', 'dread', 'higher', 'emilia', 'valentine', 'sigh', 'turns', 'discover', 'ghost', 'constant', 'joined', 'arthur', 'mina', 'author', 'sought', 'north', 'finally', 'interested', 'gently', 'pointed', 'practice', 'counsel', 'discovery', 'touching', 'season', 'catch', 'solemn', 'clearly', 'carefully', 'enjoyed', 'folly', 'farebrother', 'sisters', 'tonight', 'pure', 'broad', 'meantime', 'astonishment', 'midst', 'alarmed', 'village', 'calls', 'glory', 'playing', 'dearest', 'copies', 'refused', 'minds', 'yellow', 'original', 'seldom', 'carrying', 'lear', 'fearful', 'vast', 'aloud', 'snow', 'mission', 'signs', 'highness', 'refuse', 'learning', 'hung', 'comply', 'falling', 'deeply', 'owing', 'strongly', 'bath', 'musical', 'mordaunt', 'prithee', 'merit', 'souls', 'game', 'sail', 'relation', 'bastard', 'religion', 'committed', 'rushed', 'bottle', 'equally', 'desdemona', 'bagnet', 'younger', 'prayer', 'honor', 'ordinary', 'concerned', 'admiration', 'direct', 'cheek', 'bird', 'hurry', 'comfortable', 'claim', 'occasions', 'watched', 'caroline', 'subjects', 'delay', 'meanwhile', 'cool', 'pulled', 'aspect', 'capable', 'explained', 'neighbourhood', 'check', 'sides', 'daughters', 'sport', 'faithful', 'growing', 'completely', 'relief', 'moreover', 'departure', 'cassius', 'fatal', 'thither', 'sofa', 'worship', 'familiar', 'tax', 'beneath', 'nearer', 'whisper', 'relations', 'parted', 'today', 'surgeon', 'containing', 'softly', 'education', 'gain', 'remarkable', 'syracuse', 'daisy', 'win', 'william', 'shore', 'employed', 'princess', 'drinking', 'kingdom', 'delighted', 'hector', 'yea', 'raise', 'heat', 'explanation', 'design', 'angelo', 'esther', 'palamon', 'desperate', 'niece', 'whither', 'wisdom', 'brief', 'plainly', 'narrow', 'awake', 'previous', 'produce', 'occurred', 'recovered', 'linde', 'rough', 'deed', 'sovereign', 'obtain', 'library', 'somewhere', 'thick', 'lodgings', 'leg', 'purse', 'saved', 'devoted', 'shows', 'invited', 'bringing', 'excited', 'lines', 'throat', 'authority', 'insisted', 'inquired', 'amiable', 'dromio', 'brow', 'section', 'lot', 'result', 'humble', 'proteus', 'petruchio', 'ball', 'uttered', 'vengeance', 'distributing', 'limited', 'working', 'effects', 'aye', 'remains', 'admit', 'emotion', 'drove', 'pompey', 'bought', 'boats', 'famous', 'trial', 'inclination', 'farther', 'canst', 'cook', 'safety', 'addressed', 'compassion', 'antipholus', 'bones', 'faint', 'owner', 'required', 'inclined', 'remembrance', 'ferdinand', 'renaldo', 'adventure', 'didst', 'slow', 'divine', 'ignorance', 'regarded', 'voyage', 'leaning', 'fill', 'highest', 'bowed', 'formerly', 'strap', 'katerina', 'arcite', 'secure', 'guess', 'accompanied', 'usually', 'kent', 'clerk', 'grant', 'wounded', 'knife', 'fury', 'cheerful', 'described', 'gay', 'ceremony', 'listening', 'skimpole', 'coriolanus', 'weary', 'speaks', 'tear', 'advanced', 'returning', 'aid', 'jonathan', 'laughter', 'date', 'disgrace', 'east', 'add', 'triumph', 'utter', 'distant', 'disagreeable', 'intelligence', 'flat', 'tenderness', 'expectation', 'located', 'scorn', 'fairly', 'west', 'wake', 'ebooks', 'crime', 'painful', 'suggested', 'svidriga', 'pipe', 'daily', 'scrap', 'beebe', 'bardolph', 'lawrence', 'spread', 'burning', 'painted', 'native', 'dozen', 'fat', 'station', 'capital', 'bartlett', 'somehow', 'caused', 'hurried', 'uneasy', 'freedom', 'charlotte', 'advance', 'behalf', 'oil', 'observe', 'proposal', 'toby', 'execution', 'active', 'main', 'needed', 'particulars', 'reflection', 'porfiry', 'anywhere', 'parents', 'slave', 'candle', 'angel', 'begins', 'objects', 'indignation', 'stars', 'hanging', 'senses', 'knave', 'sounds', 'method', 'thunder', 'fare', 'weight', 'style', 'pressed', 'worked', 'offended', 'darling', 'exercise', 'gradually', 'shock', 'wet', 'grandfather', 'jellyby', 'sentiments', 'tail', 'keeps', 'earl', 'violence', 'marks', 'willing', 'bye', 'upstairs', 'benefit', 'persuaded', 'benedick', 'contents', 'attendants', 'dreams', 'cunning', 'ours', 'acted', 'tower', 'lend', 'conclusion', 'baby', 'astonished', 'roman', 'hostess', 'thrust', 'helena', 'twas', 'vile', 'beloved', 'hark', 'couple', 'issue', 'buried', 'driven', 'approached', 'superior', 'remark', 'summerson', 'wickham', 'menenius', 'careful', 'breaking', 'paying', 'starbuck', 'mate', 'reality', 'apart', 'occupied', 'priest', 'engagement', 'endeavoured', 'flower', 'cat', 'sees', 'frequently', 'applied', 'locked', 'disposed', 'clouds', 'idle', 'endure', 'wedding', 'becomes', 'leisure', 'labour', 'distribution', 'medium', 'collins', 'berowne', 'prayers', 'kings', 'lodging', 'conceal', 'failed', 'regular', 'showing', 'fever', 'portia', 'entertained', 'troubled', 'vanity', 'debt', 'distribute', 'setting', 'thoroughly', 'mankind', 'directed', 'leonato', 'lovers', 'entrance', 'circle', 'skill', 'minister', 'departed', 'sacred', 'space', 'sacrifice', 'lydia', 'follows', 'fie', 'obey', 'owe', 'voices', 'entertainment', 'singing', 'sorts', 'appointed', 'miller', 'sworn', 'sits', 'vice', 'score', 'stuff', 'demanded', 'movement', 'fourth', 'lane', 'camp', 'pandarus', 'yard', 'esteem', 'pen', 'prevented', 'vessel', 'silly', 'awful', 'paused', 'disappointment', 'civil', 'intend', 'parties', 'midnight', 'crew', 'helped', 'muttered', 'genius', 'traitor', 'chiefly', 'favourite', 'inside', 'contented', 'malice', 'hint', 'firm', 'admitted', 'scheme', 'countess', 'oft', 'wealth', 'birds', 'wanting', 'perform', 'apt', 'points', 'methinks', 'ride', 'compliance', 'bill', 'wondered', 'message', 'kate', 'bred', 'quit', 'motion', 'slain', 'nightingale', 'borne', 'contact', 'observing', 'grass', 'hidden', 'gained', 'pericles', 'wherefore', 'fortunes', 'gates', 'port', 'assurance', 'resumed', 'italian', 'rendered', 'physician', 'planchet', 'madness', 'afford', 'exceedingly', 'powers', 'lack', 'pronounced', 'feared', 'clever', 'faults', 'minna', 'burn', 'smell', 'adieu', 'custom', 'thomas', 'earnestly', 'dogs', 'belief', 'indifferent', 'obtained', 'adventurer', 'ephesus', 'nights', 'lights', 'virtuous', 'suspected', 'path', 'disappointed', 'furniture', 'talbot', 'conducted', 'stir', 'blows', 'smoke', 'falls', 'modern', 'user', 'bag', 'utterly', 'skin', 'park', 'flight', 'charity', 'composed', 'useful', 'lion', 'isabella', 'cressida', 'hearted', 'beard', 'notes', 'curse', 'laying', 'destroy', 'collection', 'moral', 'desires', 'swore', 'lighted', 'brothers', 'deserve', 'alarm', 'beheld', 'invitation', 'valiant', 'wherein', 'silk', 'blessing', 'embrace', 'queer', 'pursued', 'coffee', 'strangely', 'apparently', 'mock', 'achilles', 'gwendolen', 'cranford', 'masters', 'slept', 'becoming', 'motive', 'resentment', 'prevailed', 'orlando', 'cromwell', 'mercutio', 'receiving', 'pequod', 'police', 'boots', 'amongst', 'piano', 'armed', 'fled', 'female', 'stones', 'eternal', 'poverty', 'protected', 'handkerchief', 'visited', 'chosen', 'tied', 'consciousness', 'rule', 'tells', 'vholes', 'theseus', 'considering', 'italy', 'stern', 'fifteen', 'gathered', 'image', 'crossed', 'clean', 'cases', 'suffering', 'mousqueton', 'puts', 'rude', 'deeds', 'remaining', 'eagerly', 'rare', 'mounted', 'harker', 'waste', 'poison', 'bears', 'heir', 'entreat', 'rid', 'suspect', 'mystery', 'disappeared', 'article', 'hadn', 'evident', 'trooper', 'caleb', 'steel', 'merchant', 'wounds', 'happily', 'addition', 'island', 'distinguished', 'grateful', 'wholly', 'imogen', 'pyotr', 'parolles', 'withal', 'hole', 'argument', 'continue', 'granted', 'sunday', 'generosity', 'medical', 'clarence', 'feast', 'appetite', 'shortly', 'funeral', 'sleeping', 'staring', 'favourable', 'stared', 'luck', 'existence', 'princes', 'observation', 'arose', 'severe', 'forest', 'catherine', 'northumberland', 'olivia', 'leipzig', 'extreme', 'dislike', 'price', 'render', 'tent', 'lifted', 'weakness', 'repeat', 'hastily', 'regret', 'gown', 'lively', 'knock', 'compliment', 'government', 'reasonable', 'permitted', 'similar', 'hotel', 'pedro', 'sex', 'fame', 'cure', 'seeming', 'foreign', 'jealous', 'entertain', 'official', 'pursuit', 'knee', 'plenty', 'inquiry', 'bar', 'companions', 'facts', 'dies', 'sirrah', 'elder', 'dared', 'hated', 'attached', 'confirmed', 'ships', 'connected', 'market', 'frame', 'seriously', 'arranged', 'woods', 'volumnia', 'thence', 'fain', 'salt', 'depend', 'stick', 'flourish', 'escaped', 'holds', 'thanked', 'inform', 'julia', 'fools', 'stock', 'cloak', 'parting', 'shadows', 'sold', 'monstrous', 'poet', 'accustomed', 'murmured', 'stronger', 'writ', 'anon', 'drum', 'murdered', 'legal', 'throwing', 'furnished', 'mutual', 'retreat', 'trade', 'manette', 'horatio', 'demetrius', 'cup', 'south', 'charm', 'ends', 'drops', 'chain', 'progress', 'pointing', 'china', 'chin', 'unexpected', 'prisoners', 'wars', 'martius', 'lamp', 'repose', 'protest', 'seas', 'amount', 'sufficiently', 'leading', 'reward', 'illness', 'protection', 'downstairs', 'pross', 'fitzpatrick', 'constable', 'hollow', 'posted', 'occasionally', 'passions', 'clergyman', 'basil', 'beatrice', 'krogstad', 'volunteers', 'tybalt', 'bade', 'walks', 'venture', 'edmund', 'ridiculous', 'surrounded', 'principal', 'hospital', 'continually', 'shoes', 'glorious', 'infinite', 'qualities', 'finds', 'banished', 'raising', 'edge', 'lock', 'profound', 'persuade', 'absurd', 'slender', 'pull', 'excitement', 'salisbury', 'honeychurch', 'benvolio', 'list', 'huge', 'honesty', 'respects', 'possibility', 'flew', 'stayed', 'charms', 'consequently', 'uncommon', 'conceived', 'characters', 'reflected', 'defend', 'bolingbroke', 'vow', 'wings', 'stream', 'meat', 'savage', 'protect', 'distributed', 'profit', 'chest', 'complexion', 'entire', 'energy', 'ugly', 'carton', 'parson', 'conceive', 'shed', 'dim', 'everyone', 'preserve', 'expenses', 'sailor', 'increased', 'benjamin', 'attitude', 'dirty', 'honoured', 'lowick', 'hit', 'cheer', 'maria', 'wouldst', 'swift', 'mass', 'seal', 'commission', 'roaring', 'production', 'cabin', 'ocean', 'glanced', 'rascal', 'connection', 'raffles', 'dine', 'burden', 'porter', 'pluck', 'sell', 'created', 'travel', 'inquire', 'height', 'relieved', 'eating', 'enobarbus', 'included', 'keeper', 'weeping', 'warning', 'additional', 'mast', 'animal', 'upper', 'settle', 'supply', 'fun', 'colours', 'abel', 'views', 'sebastian', 'envy', 'pretended', 'agitation', 'lotty', 'remove', 'forbid', 'heels', 'limbs', 'extent', 'dick', 'absent', 'shouted', 'maintain', 'somerset', 'material', 'handed', 'satisfy', 'chose', 'woodcourt', 'yonder', 'powerful', 'beating', 'parliament', 'respectable', 'intimate', 'sank', 'plans', 'innocence', 'ambition', 'jenny', 'kenge', 'clinker', 'hastings', 'prospero', 'guest', 'quoth', 'guests', 'dancing', 'retire', 'trumpet', 'beast', 'undertake', 'providing', 'donate', 'replacement', 'fields', 'arrive', 'eagerness', 'examined', 'features', 'absolute', 'instrument', 'overcome', 'orchestra', 'vulgar', 'ceased', 'endeavour', 'painter', 'hungry', 'lake', 'scenes', 'attack', 'belonged', 'flame', 'polite', 'exhausted', 'impatience', 'feed', 'advised', 'struggle', 'scotland', 'conductor', 'conviction', 'shining', 'wits', 'deceived', 'gentlewoman', 'mischief', 'guide', 'mountains', 'striking', 'destruction', 'shepherd', 'related', 'sounded', 'elbow', 'duties', 'objection', 'pursue', 'breathing', 'interview', 'darnay', 'featherstone', 'leontes', 'depart', 'signior', 'defence', 'hideous', 'card', 'mysterious', 'everywhere', 'visible', 'likes', 'apprehension', 'describe', 'domestic', 'recover', 'represented', 'clifford', 'guilt', 'splendid', 'mademoiselle', 'forms', 'bride', 'devotion', 'compliments', 'sending', 'philosophy', 'emperor', 'displaying', 'contain', 'breach', 'lance', 'indifference', 'reproach', 'jew', 'parish', 'guards', 'coward', 'willingly', 'possess', 'hid', 'smiles', 'chase', 'hereafter', 'royalty', 'named', 'fancied', 'berlin', 'gets', 'ice', 'flying', 'nervous', 'solitary', 'propose', 'gloomy', 'passionate', 'jealousy', 'eminence', 'strangers', 'virtues', 'variety', 'coffin', 'waves', 'doubtless', 'description', 'shade', 'enthusiasm', 'martha', 'dining', 'actions', 'briggs', 'ramee', 'viola', 'citizens', 'swords', 'jest', 'cursed', 'plague', 'brings', 'liege', 'copying', 'require', 'inward', 'adventures', 'lonely', 'cloud', 'cares', 'purposes', 'rue', 'appointment', 'wishing', 'aim', 'fees', 'tomb', 'strain', 'valour', 'sober', 'warmth', 'creating', 'frequent', 'gardiner', 'manage', 'breathe', 'wondering', 'wash', 'jove', 'lightning', 'press', 'victory', 'condemned', 'pictures', 'unusual', 'secrets', 'hush', 'nation', 'altered', 'gift', 'declare', 'pace', 'bestow', 'incident', 'longing', 'narcissa', 'marcus', 'tranio', 'cease', 'attending', 'level', 'built', 'affectionate', 'remarks', 'straw', 'louis', 'sensation', 'car', 'roads', 'bellaston', 'jenkyns', 'naked', 'cover', 'beggar', 'mood', 'proceeding', 'fiend', 'mountain', 'advise', 'strict', 'rolled', 'picked', 'pretend', 'restored', 'hearty', 'member', 'sighed', 'figures', 'encouraged', 'colonel', 'beaufort', 'bertram', 'seward', 'edgar', 'sicinius', 'jamieson', 'montague', 'denied', 'gallant', 'tidings', 'stroke', 'defect', 'rock', 'stories', 'disdain', 'dumb', 'portrait', 'remarked', 'thief', 'shouldn', 'diary', 'disturbed', 'norfolk', 'holder', 'steal', 'sole', 'flood', 'greek', 'articles', 'properly', 'useless', 'ass', 'eyed', 'probable', 'dame', 'gravely', 'mirth', 'neglect', 'prejudice', 'coadjutor', 'maids', 'lucio', 'hanged', 'tune', 'requirements', 'group', 'aged', 'mild', 'social', 'flung', 'college', 'andrew', 'uneasiness', 'answers', 'class', 'addressing', 'natured', 'bond', 'acquired', 'vii', 'conditions', 'declaration', 'wilson', 'affections', 'store', 'basket', 'hatred', 'older', 'deadly', 'twere', 'roses', 'damages', 'reception', 'intent', 'capacity', 'longed', 'staircase', 'betray', 'cadwallader', 'freddy', 'gascon', 'thwackum', 'sink', 'tongues', 'seeking', 'treatment', 'christmas', 'steady', 'final', 'pound', 'consequences', 'difficulties', 'reduced', 'riding', 'lewis', 'malvolio', 'apemantus', 'melvil', 'fought', 'county', 'damned', 'milk', 'whaling', 'starting', 'linen', 'delicacy', 'leaned', 'recommended', 'expedition', 'disease', 'humanity', 'betrayed', 'stupid', 'bonnet', 'correspondence', 'caius', 'rienzi', 'cymbeline', 'backward', 'bone', 'entering', 'accomplished', 'dressing', 'commanded', 'punishment', 'threatened', 'mile', 'military', 'injury', 'determination', 'wept', 'hotspur', 'monimia', 'winds', 'admired', 'flies', 'tavern', 'spy', 'impatient', 'rope', 'offices', 'elegant', 'outward', 'concealed', 'approaching', 'readily', 'political', 'urged', 'managed', 'reflect', 'ajax', 'utterson', 'treasure', 'awhile', 'tide', 'lucentio', 'wench', 'shirt', 'acts', 'resolve', 'intellectual', 'gazed', 'summoned', 'pick', 'sheep', 'assist', 'attachment', 'neighbours', 'monseigneur', 'belonging', 'neighbour', 'encounter', 'anguish', 'plate', 'arise', 'hills', 'performing', 'treason', 'physical', 'reaching', 'stretched', 'prey', 'coast', 'species', 'application', 'amazement', 'lesson', 'directions', 'exposed', 'novel', 'rouncewell', 'inspired', 'lucie', 'athens', 'posthumus', 'bassanio', 'slip', 'modesty', 'current', 'sixty', 'desert', 'pillow', 'experienced', 'slightest', 'temple', 'management', 'knocked', 'disgust', 'reserve', 'roof', 'travelling', 'pleasures', 'visitor', 'bracknell', 'silvia', 'online', 'pitch', 'youthful', 'wives', 'displeasure', 'throne', 'flask', 'remedy', 'minded', 'torn', 'rode', 'derived', 'ain', 'joke', 'slightly', 'race', 'secured', 'charged', 'introduce', 'behaved', 'regiment', 'fortunate', 'talent', 'rodya', 'sadly', 'procure', 'courtesy', 'performances', 'owed', 'opportunities', 'whereas', 'slipped', 'coloured', 'startled', 'practical', 'notion', 'bestowed', 'constitution', 'finish', 'sins', 'baronet', 'composition', 'mamma', 'director', 'comminges', 'laurence', 'camillo', 'hannah', 'torvald', 'foe', 'eleven', 'abuse', 'bench', 'singular', 'sings', 'wrought', 'fright', 'fierce', 'editions', 'creation', 'status', 'quantity', 'principle', 'separate', 'building', 'visits', 'admire', 'deserved', 'greatness', 'yourselves', 'confined', 'consolation', 'gazing', 'system', 'drank', 'easier', 'constantly', 'papa', 'modest', 'emerson', 'comte', 'thersites', 'polonius', 'baptista', 'armado', 'chorus', 'fighting', 'blush', 'brains', 'aught', 'repent', 'purchase', 'convey', 'instruments', 'unpleasant', 'destroyed', 'romantic', 'providence', 'quitted', 'chairs', 'treat', 'quarters', 'vision', 'forthwith', 'assumed', 'confused', 'abandoned', 'brook', 'discharge', 'genuine', 'artistic', 'discharged', 'witch', 'commit', 'plot', 'cousins', 'pulcheria', 'hortensio', 'alike', 'fruit', 'belong', 'axe', 'bodies', 'apply', 'damage', 'nigh', 'brilliant', 'doubts', 'cared', 'probability', 'oaths', 'apparent', 'attempted', 'ulysses', 'alexandrovna', 'hadst', 'reads', 'lip', 'rogue', 'violently', 'wrapped', 'occasioned', 'rested', 'accompany', 'losing', 'olive', 'shocked', 'impulse', 'sunshine', 'poetry', 'hesitation', 'cruncher', 'gallery', 'whip', 'substance', 'kissing', 'beaten', 'website', 'addresses', 'dish', 'moonlight', 'horrid', 'decent', 'pockets', 'attracted', 'agony', 'decision', 'ventured', 'someone', 'term', 'gross', 'determine', 'tedious', 'heavenly', 'unworthy', 'printed', 'format', 'sung', 'faced', 'civility', 'gloves', 'headed', 'arrested', 'desk', 'rings', 'flatter', 'subtle', 'affect', 'hail', 'guineas', 'interests', 'discretion', 'remorse', 'studies', 'lunch', 'members', 'talents', 'roderigo', 'thrice', 'commend', 'lean', 'motives', 'risk', 'opinions', 'silently', 'feeble', 'embraced', 'intense', 'rapidly', 'recalled', 'vicar', 'hoping', 'wrongs', 'marrying', 'nerves', 'services', 'exeter', 'provost', 'costard', 'bianca', 'tragedy', 'maiden', 'confession', 'bawd', 'gainst', 'despite', 'appearing', 'reminded', 'neglected', 'recollect', 'yielded', 'meal', 'announced', 'household', 'unlike', 'contained', 'betwixt', 'unfortunately', 'lafew', 'star', 'troth', 'flow', 'thankful', 'keys', 'hasty', 'assembled', 'wrath', 'preferred', 'safely', 'owned', 'science', 'clay', 'approve', 'shillings', 'troy', 'exquisite', 'woo', 'liking', 'complain', 'runs', 'mist', 'receipt', 'sailors', 'deserted', 'misfortunes', 'spiritual', 'unconscious', 'intercourse', 'communicated', 'instructions', 'communication', 'beer', 'amused', 'control', 'housekeeper', 'enjoyment', 'bramble', 'fits', 'trick', 'tremble', 'noon', 'closely', 'pages', 'convenient', 'preserved', 'grim', 'deeper', 'stopping', 'rush', 'succeed', 'income', 'presents', 'attendant', 'fed', 'firmly', 'appeal', 'amusement', 'pretence', 'honours', 'avdotya', 'romanovna', 'torture', 'burnt', 'bitterly', 'grows', 'crossing', 'rules', 'links', 'actual', 'rosy', 'degrees', 'presume', 'jumped', 'cloth', 'injured', 'chancery', 'forces', 'supported', 'lessons', 'beforehand', 'purple', 'fiery', 'examine', 'rosaline', 'cutting', 'jewel', 'numbers', 'dispute', 'sunset', 'valuable', 'glancing', 'security', 'surprising', 'wooden', 'absorbed', 'openly', 'pleasing', 'positively', 'exact', 'moth', 'solemnly', 'families', 'obedience', 'tenderly', 'pulling', 'nodded', 'descended', 'jewels', 'lavish', 'trembled', 'offend', 'hyde', 'macduff', 'luzhin', 'smooth', 'gravity', 'club', 'bargain', 'unnatural', 'size', 'pot', 'maintained', 'popular', 'religious', 'blown', 'britain', 'row', 'fairy', 'measures', 'insist', 'vanished', 'intentions', 'pressing', 'selfish', 'chancellor', 'dauphin', 'lancaster', 'shylock', 'katherina', 'disturb', 'perfection', 'lent', 'wearing', 'doom', 'opposition', 'obtaining', 'alteration', 'increasing', 'jonah', 'immense', 'damn', 'distinction', 'privilege', 'funny', 'missed', 'changing', 'arts', 'inquiries', 'advancing', 'earlier', 'surface', 'details', 'cards', 'perceiving', 'footman', 'parlour', 'stickles', 'cloten', 'weapons', 'dearly', 'staying', 'undone', 'musician', 'reported', 'defective', 'staff', 'numerous', 'earthly', 'conclude', 'pushed', 'reflections', 'preparing', 'august', 'occupation', 'career', 'stepped', 'stirred', 'rang', 'divided', 'blank', 'tempted', 'prize', 'effectually', 'student', 'executioner', 'eldest', 'laertes', 'evans', 'cell', 'nobleman', 'stained', 'sorrows', 'wert', 'plays', 'changes', 'equipment', 'non', 'calmly', 'expressions', 'durst', 'arguments', 'amazed', 'molly', 'whatsoever', 'frown', 'gaze', 'driving', 'universal', 'wondrous', 'calculated', 'costs', 'hundreds', 'shine', 'troops', 'larger', 'keen', 'roused', 'travelled', 'regarding', 'commands', 'tight', 'professional', 'cough', 'crowded', 'zeal', 'council', 'undertook', 'jerry', 'stryver', 'fortnight', 'remembering', 'boxes', 'tread', 'fix', 'offers', 'compared', 'wheel', 'fashioned', 'stomach', 'accounts', 'robbed', 'butter', 'heavily', 'happens', 'gifts', 'rival', 'grounds', 'believing', 'enterprise', 'fashionable', 'blunt', 'marina', 'foes', 'groan', 'childish', 'theme', 'sometime', 'helen', 'displayed', 'accordance', 'glasses', 'yards', 'elsewhere', 'precisely', 'folded', 'fog', 'nearest', 'arrangement', 'doubted', 'incapable', 'source', 'increase', 'burgundy', 'despise', 'improved', 'recommend', 'harbour', 'jekyll', 'chettam', 'charmian', 'percy', 'regan', 'tyrant', 'april', 'withdraw', 'alack', 'contract', 'wanton', 'curtain', 'justly', 'manager', 'supplied', 'hopeless', 'painting', 'cleared', 'smoking', 'ages', 'gaunt', 'solid', 'hunger', 'mount', 'recollection', 'bishop', 'rescue', 'guarded', 'invention', 'jesus', 'oxford', 'chesney', 'wold', 'morgan', 'troubles', 'agamemnon', 'hermia', 'lysander', 'release', 'swallowed', 'honey', 'forbear', 'uncomfortable', 'lantern', 'critical', 'comparison', 'cottage', 'habits', 'symptoms', 'bows', 'lift', 'suspicions', 'politeness', 'instances', 'kinds', 'preparation', 'correct', 'favoured', 'executed', 'hazard', 'introduction', 'examination', 'doll', 'rochefort', 'jailer', 'cominius', 'pisanio', 'fore', 'vows', 'medicine', 'hunting', 'complying', 'copied', 'shone', 'simplicity', 'wales', 'impressions', 'advantages', 'beds', 'error', 'confessed', 'union', 'detail', 'impressed', 'gesture', 'arrangements', 'stole', 'dropping', 'shift', 'peril', 'goodly', 'conceit', 'dismal', 'pack', 'sickness', 'employment', 'awe', 'recall', 'partner', 'decide', 'intolerable', 'uncertain', 'graces', 'driver', 'recognised', 'studied', 'failure', 'hastened', 'dispatch', 'endeavours', 'sincere', 'chadband', 'doubtful', 'trifle', 'aaron', 'trumpets', 'mellersh', 'fifth', 'veins', 'sighs', 'reckoning', 'furious', 'affliction', 'acting', 'royalties', 'applicable', 'payments', 'depends', 'aloft', 'caution', 'pine', 'induced', 'suspicious', 'spoil', 'criminal', 'feels', 'dreaded', 'vague', 'engage', 'steward', 'hinder', 'reserved', 'helpless', 'husbands', 'ernest', 'asks', 'poins', 'boyet', 'gratiano', 'escalus', 'mouse', 'joyful', 'ashes', 'hunt', 'tempest', 'implied', 'knights', 'rolling', 'cheerfully', 'invisible', 'poured', 'swept', 'distinctly', 'sentiment', 'ruined', 'lasted', 'solomon', 'bitterness', 'promises', 'patron', 'romance', 'san', 'approbation', 'rector', 'assembly', 'centre', 'proportion', 'hare', 'reports', 'leviathan', 'disorder', 'relate', 'journal', 'horn', 'writer', 'eighteen', 'bay', 'causes', 'terribly', 'rightly', 'band', 'valet', 'declined', 'readers', 'aufidius', 'weapon', 'gladly', 'waking', 'apology', 'borrow', 'sore', 'stain', 'accent', 'dined', 'amen', 'egg', 'ink', 'solicit', 'indian', 'reference', 'gloom', 'careless', 'mixed', 'contrast', 'conveyed', 'lucky', 'obligations', 'collected', 'emotions', 'deprived', 'scandal', 'upset', 'senator', 'lizzy', 'cade', 'wolsey', 'june', 'kinsman', 'exchange', 'frank', 'slander', 'invite', 'closet', 'imposed', 'mail', 'liable', 'occur', 'nantucket', 'repair', 'october', 'rivers', 'breeding', 'corners', 'visitors', 'trace', 'whereupon', 'pour', 'intervals', 'hinted', 'warn', 'revealed', 'expressing', 'suitable', 'closer', 'preceding', 'tie', 'resist', 'renewed', 'consented', 'obligation', 'krook', 'vexation', 'rent', 'avoided', 'lust', 'austria', 'rodion', 'hubert', 'grumio', 'wast', 'tables', 'challenge', 'reverend', 'provision', 'sheet', 'abide', 'liability', 'fountain', 'bridge', 'employ', 'upright', 'schoolmaster', 'ambitious', 'darted', 'interval', 'lofty', 'barber', 'rushing', 'exclamation', 'process', 'principles', 'neat', 'concerns', 'relieve', 'admirable', 'certainty', 'mingled', 'whereof', 'consult', 'september', 'viii', 'debts', 'submit', 'allan', 'kitty', 'diana', 'marquis', 'iachimo', 'churchyard', 'mend', 'newly', 'seize', 'limitation', 'agent', 'harmless', 'methods', 'phil', 'horns', 'portion', 'secretly', 'jolly', 'craft', 'wherever', 'confounded', 'theory', 'chimney', 'ragged', 'independent', 'sprang', 'motionless', 'celebrated', 'princely', 'preparations', 'relish', 'namely', 'consisted', 'subdued', 'sly', 'kneel', 'venice', 'cruelty', 'unwilling', 'formal', 'moor', 'eyebrows', 'conjecture', 'ariel', 'roubles', 'brows', 'leap', 'letting', 'dwell', 'infant', 'humbly', 'suited', 'theirs', 'distressed', 'paragraphs', 'shared', 'enormous', 'artist', 'rags', 'withdrew', 'adam', 'record', 'fro', 'enjoying', 'insult', 'faded', 'confident', 'peasant', 'conquest', 'archbishop', 'recognized', 'ophelia', 'florence', 'mental', 'recollected', 'expectations', 'doss', 'drown', 'stout', 'lodge', 'bark', 'acknowledge', 'whiles', 'europe', 'established', 'magnificent', 'corn', 'desirous', 'dragged', 'fathers', 'goods', 'agitated', 'prefer', 'hospitality', 'rises', 'presumption', 'danced', 'hey', 'unjust', 'communicate', 'pathetic', 'coachman', 'petty', 'checked', 'flite', 'inclinations', 'gremio', 'tamora', 'daylight', 'lap', 'sails', 'sire', 'ladder', 'banish', 'knocking', 'marvellous', 'holiday', 'signal', 'rocks', 'display', 'contributions', 'banks', 'totally', 'marble', 'model', 'hints', 'prevail', 'happier', 'concert', 'approved', 'fired', 'involved', 'dawn', 'desiring', 'british', 'passages', 'enabled', 'governor', 'victim', 'answering', 'sibyl', 'encouragement', 'touchstone', 'tellson', 'monk', 'duc', 'mask', 'kisses', 'henceforth', 'forgetting', 'drawer', 'tossed', 'derivative', 'entity', 'warranties', 'charitable', 'swallow', 'american', 'nod', 'sensations', 'sunk', 'countryman', 'mouths', 'wasted', 'practised', 'knitting', 'shaken', 'helping', 'remarkably', 'hallward', 'praised', 'undertaking', 'anxiously', 'major', 'recourse', 'realised', 'cissy', 'bhaer', 'diego', 'judgement', 'mothers', 'smallest', 'spanish', 'sleeps', 'gossip', 'penny', 'heap', 'bleeding', 'learnt', 'furnish', 'lightly', 'disclaimer', 'moby', 'damp', 'drowned', 'wholesome', 'instinct', 'stuck', 'mode', 'worldly', 'hurriedly', 'bending', 'flash', 'doorway', 'deceased', 'intimacy', 'lodged', 'ate', 'cart', 'destiny', 'crept', 'begging', 'diamond', 'restore', 'suggestion', 'theatrical', 'amends', 'germany', 'teaching', 'deportment', 'arrest', 'shelter', 'tannh', 'zametov', 'stephano', 'salvatore', 'bite', 'reverence', 'scarlet', 'flattering', 'heed', 'stiff', 'available', 'errors', 'wears', 'handle', 'previously', 'waistcoat', 'tricks', 'bedroom', 'rob', 'spectacles', 'sharply', 'jury', 'badger', 'veil', 'dismay', 'fantastic', 'counted', 'sweetness', 'tiny', 'spared', 'expecting', 'fatigue', 'crowns', 'sergeant', 'stirling', 'bazin', 'nastasya', 'adriana', 'fluellen', 'apothecary', 'adding', 'severity', 'volume', 'francis', 'nest', 'eloquence', 'grieve', 'comforted', 'angels', 'necessarily', 'virgin', 'narrative', 'restless', 'extended', 'thousands', 'remote', 'ivory', 'procured', 'tore', 'stare', 'borrowed', 'leads', 'clasped', 'coarse', 'towns', 'token', 'moderate', 'rapture', 'sugar', 'accused', 'morris', 'longbourn', 'godalming', 'devrient', 'push', 'falsehood', 'rash', 'dishonour', 'corrupt', 'uniform', 'paint', 'proceedings', 'attempts', 'overture', 'whispers', 'successful', 'refuge', 'troublesome', 'protested', 'rapid', 'recovery', 'wont', 'passes', 'alter', 'miracle', 'mourning', 'disguise', 'horseback', 'orleans', 'lawful', 'behave', 'dialogue', 'flattered', 'compelled', 'replies', 'conference', 'scruple', 'prism', 'oliver', 'zossimov', 'diomedes', 'paulina', 'griefs', 'extremity', 'hateful', 'cordial', 'roll', 'latin', 'von', 'requires', 'forlorn', 'series', 'parcel', 'drunken', 'contracted', 'lands', 'wandering', 'permit', 'overwhelmed', 'beef', 'frantic', 'procession', 'experiences', 'obeyed', 'rights', 'guinea', 'wolf', 'leaped', 'execute', 'attendance', 'flushed', 'manifest', 'saddle', 'justify', 'albany', 'ingratitude', 'sincerely', 'quincey', 'lorenzo', 'servingman', 'romanovitch', 'jaques', 'belarius', 'liddy', 'bills', 'madman', 'weigh', 'cock', 'mates', 'carries', 'bids', 'based', 'references', 'magic', 'decidedly', 'shan', 'belongs', 'string', 'dreadfully', 'badly', 'distinct', 'verse', 'resting', 'devils', 'bend', 'proceeds', 'fires', 'malicious', 'inhabitants', 'deceive', 'pip', 'boast', 'etc', 'intelligent', 'solitude', 'confound', 'applause', 'extravagant', 'trusted', 'confirm', 'severely', 'rejoiced', 'shouldst', 'westmoreland', 'polixenes', 'wisely', 'faithfully', 'spell', 'operation', 'sack', 'harsh', 'separated', 'file', 'authors', 'wave', 'gather', 'bleak', 'tones', 'fitted', 'bind', 'notions', 'interposed', 'bundle', 'filling', 'comprehend', 'shy', 'professed', 'demands', 'observations', 'sweat', 'desirable', 'integrity', 'censure', 'boythorn', 'turveydrop', 'transport', 'chevalier', 'deborah', 'aeneas', 'mortimer', 'katherine', 'toil', 'govern', 'couch', 'folks', 'sends', 'roar', 'candles', 'punish', 'attacked', 'prudent', 'dramatic', 'soil', 'warmly', 'crack', 'worried', 'warlike', 'faculties', 'conception', 'repeating', 'benevolence', 'pattern', 'chill', 'gratified', 'chamberlain', 'mayor', 'surprize', 'musketeers', 'broussel', 'groslow', 'williams', 'katharine', 'goneril', 'launcelet', 'tabitha', 'curtains', 'rejoice', 'dignified', 'woes', 'pink', 'stretch', 'excess', 'twixt', 'compass', 'mixture', 'dagger', 'countries', 'lieu', 'tremendous', 'root', 'thieves', 'sailed', 'distracted', 'offering', 'continual', 'awakened', 'intently', 'prayed', 'policy', 'waved', 'swearing', 'injustice', 'loaded', 'nails', 'founded', 'hired', 'qualified', 'philip', 'fortunately', 'deserves', 'hesitated', 'discussion', 'acknowledged', 'footing', 'patiently', 'jacques', 'stanley', 'alarum', 'recently', 'feather', 'faintly', 'despised', 'solemnity', 'immortal', 'draws', 'lace', 'pitiful', 'generations', 'survive', 'carpenter', 'symphony', 'branch', 'inferior', 'harpooneer', 'passengers', 'dismissed', 'satisfactory', 'skull', 'parent', 'scattered', 'sixteen', 'lit', 'scotch', 'dwelling', 'hiding', 'supposing', 'scientific', 'strikes', 'breed', 'shout', 'occasional', 'turtle', 'separation', 'stable', 'composure', 'payment', 'accuse', 'cornwall', 'favours', 'georgiana', 'vallon', 'monument', 'tailor', 'crow', 'breaks', 'mayst', 'naught', 'hay', 'solely', 'youngest', 'rear', 'sets', 'liquor', 'trunk', 'random', 'therein', 'catching', 'jaw', 'tales', 'examining', 'thereby', 'commander', 'stately', 'lays', 'stool', 'eaten', 'loudly', 'liberal', 'type', 'wonderfully', 'referred', 'ghosts', 'impatiently', 'englishman', 'pistols', 'fearing', 'undoubtedly', 'pinch', 'mud', 'arrange', 'annoyed', 'amuse', 'protector', 'mortification', 'courtyard', 'forever', 'dodo', 'locks', 'odds', 'susan', 'likeness', 'overheard', 'bounty', 'residence', 'aboard', 'sour', 'stirring', 'wot', 'joys', 'rotten', 'entreated', 'chapel', 'national', 'male', 'destined', 'crushed', 'justified', 'terrors', 'multitude', 'countrymen', 'promising', 'seventy', 'paces', 'breathed', 'apparition', 'horrors', 'dreamed', 'frankly', 'sustained', 'declaring', 'published', 'secrecy', 'incensed', 'ungrateful', 'represent', 'engaging', 'delicious', 'velvet', 'garments', 'ned', 'worry', 'escort', 'tony', 'banquo', 'eleanor', 'gondy', 'petrovna', 'dumaine', 'opposed', 'mar', 'deaf', 'throws', 'errand', 'childhood', 'bells', 'perish', 'university', 'belly', 'lads', 'genteel', 'combat', 'landed', 'sheets', 'daring', 'rubbing', 'sincerity', 'obvious', 'lifting', 'infinitely', 'educated', 'maybe', 'literature', 'leather', 'travellers', 'shapes', 'sketch', 'crimes', 'player', 'troop', 'urge', 'attractive', 'valyne', 'humphrey', 'tabby', 'marfa', 'rosencrantz', 'pucelle', 'hopeful', 'lamb', 'retain', 'physic', 'whore', 'herald', 'visiting', 'print', 'entertaining', 'crazy', 'activity', 'wildly', 'reconciled', 'propriety', 'traveller', 'beings', 'pile', 'bildad', 'fastened', 'closing', 'earnestness', 'jordan', 'enraged', 'sinking', 'carriages', 'restrained', 'sydney', 'treachery', 'cellar', 'wellington', 'remind', 'apparel', 'abused', 'ardent', 'forgiveness', 'richmond', 'revolution', 'followers', 'phillips', 'lismahago', 'musicians', 'bury', 'worm', 'ward', 'inch', 'howling', 'rouse', 'blest', 'advances', 'crimson', 'edition', 'america', 'plunged', 'atmosphere', 'saturday', 'harpoon', 'pavement', 'connexion', 'complained', 'hears', 'unnecessary', 'amid', 'philosopher', 'bull', 'animated', 'century', 'device', 'apprehensions', 'shudder', 'obviously', 'assume', 'curses', 'pledge', 'afforded', 'attentively', 'harder', 'smart', 'convenience', 'fist', 'autumn', 'guessed', 'footsteps', 'attorney', 'lawn', 'judy', 'nobility', 'condemn', 'favor', 'worcester', 'lebeziatnikov', 'sofya', 'guiderius', 'autolycus', 'beasts', 'chaste', 'whispering', 'dares', 'sweetly', 'cave', 'dried', 'twill', 'descend', 'prudence', 'sale', 'jaws', 'research', 'void', 'exempt', 'job', 'stove', 'ross', 'branches', 'pool', 'resemblance', 'finest', 'outer', 'vent', 'fleet', 'lamps', 'farmer', 'metal', 'glow', 'seizing', 'traitors', 'harmony', 'frenchman', 'bewildered', 'politics', 'neighbouring', 'released', 'winchester', 'wiser', 'insolence', 'amiss', 'realise', 'patients', 'singers', 'jessie', 'casca', 'lavinia', 'serafina', 'convert', 'glove', 'thread', 'reign', 'tutor', 'submission', 'gun', 'interpreted', 'accepting', 'incredible', 'shakes', 'threatening', 'sweep', 'endless', 'contemplation', 'puzzled', 'elements', 'awoke', 'bidding', 'curiously', 'abruptly', 'twilight', 'flashed', 'distinguish', 'suggest', 'decline', 'wing', 'repaired', 'angrily', 'load', 'indulge', 'respected', 'caliban', 'softened', 'woke', 'proclaim', 'stockings', 'jobling', 'recommendation', 'plantagenet', 'fabian', 'den', 'wax', 'frowning', 'butcher', 'unlucky', 'torment', 'array', 'profits', 'industry', 'experiment', 'touches', 'bedford', 'cheap', 'pit', 'sang', 'marshal', 'parlor', 'timid', 'robert', 'unspeakable', 'venerable', 'sublime', 'homage', 'peleg', 'originally', 'hammer', 'significance', 'cheese', 'encountered', 'quest', 'caps', 'haunted', 'grieved', 'fidelity', 'purchased', 'rarely', 'graceful', 'secretary', 'bravely', 'brandy', 'demi', 'saving', 'encourage', 'encouraging', 'dirt', 'privately', 'netherfield', 'hawley', 'nestor', 'lepidus', 'patroclus', 'ripe', 'pig', 'backs', 'livery', 'forsooth', 'joint', 'promoting', 'domain', 'machine', 'peaceful', 'whalemen', 'washed', 'forbidden', 'barbarous', 'latest', 'completed', 'mirror', 'hearth', 'emphasis', 'designs', 'depended', 'images', 'retained', 'stake', 'temptation', 'strictly', 'ranks', 'league', 'threat', 'romans', 'testimony', 'charmed', 'contrived', 'supposition', 'snatched', 'compose', 'greece', 'stolen', 'wandered', 'wrench', 'disguised', 'acceptance', 'shawl', 'balance', 'labours', 'lecture', 'definite', 'plead', 'realm', 'gower', 'palais', 'aumerle', 'dew', 'create', 'drums', 'hangs', 'palm', 'bachelor', 'throughout', 'thrive', 'womb', 'groans', 'goose', 'sullen', 'revolt', 'knot', 'charges', 'punch', 'rusty', 'bottles', 'ghastly', 'embarrassed', 'barren', 'bowing', 'waving', 'boldly', 'entitled', 'altar', 'ahead', 'comfortably', 'imperial', 'restrain', 'readiness', 'coal', 'biting', 'irresistible', 'counter', 'wolves', 'track', 'wreck', 'villains', 'recent', 'writers', 'amusing', 'attentive', 'comforts', 'mars', 'evenings', 'stops', 'rejected', 'undergone', 'converse', 'color', 'lucas', 'blaisois', 'semyonovna', 'hippolyta', 'catesby', 'biondello', 'beats', 'tut', 'cupid', 'alliance', 'wink', 'killing', 'acquaint', 'bounds', 'registered', 'derive', 'permanent', 'michael', 'july', 'ashore', 'melted', 'stricken', 'ceiling', 'bodily', 'chains', 'movements', 'glances', 'mentioning', 'temporary', 'flames', 'accursed', 'positive', 'songs', 'convince', 'ideal', 'irish', 'cash', 'assisted', 'leader', 'delirium', 'statement', 'magistrate', 'raw', 'witnesses', 'corpse', 'risen', 'shrill', 'gallantry', 'frenzy', 'orphan', 'forgiven', 'preference', 'observes', 'mutton', 'qualifications', 'blushed', 'pension', 'redfern', 'saturninus', 'sadness', 'forsworn', 'burns', 'compare', 'prick', 'ghostly', 'distemper', 'vexed', 'sweetest', 'powder', 'accidents', 'haughty', 'confirmation', 'spout', 'floating', 'sixth', 'fishery', 'dreaming', 'chanced', 'pleasantly', 'hue', 'senators', 'judges', 'waist', 'bursting', 'gallows', 'sagacity', 'steadily', 'establishment', 'shameful', 'oak', 'thorough', 'external', 'holes', 'poem', 'breathless', 'sufferings', 'bars', 'struggling', 'entreaties', 'strained', 'shoe', 'pitied', 'praises', 'policeman', 'insensible', 'persuasion', 'discuss', 'rehearsal', 'wiped', 'reform', 'vienna', 'rick', 'happiest', 'fox', 'favorite', 'thurio', 'teddy', 'glenmire', 'washing', 'defiance', 'fourteen', 'visage', 'dainty', 'blushing', 'utterance', 'crave', 'pin', 'coldly', 'unseen', 'armour', 'steep', 'problem', 'blew', 'inevitable', 'sand', 'cape', 'precise', 'tumult', 'mob', 'indignant', 'regularly', 'benevolent', 'anyhow', 'per', 'beware', 'ale', 'tame', 'ringing', 'adopted', 'restraint', 'screen', 'resistance', 'considerations', 'peculiarly', 'searching', 'drama', 'exchanged', 'waked', 'suspense', 'improve', 'cordelia', 'endured', 'lodger', 'benefactor', 'salary', 'aroused', 'heroe', 'tribunes', 'amalia', 'restrictions', 'siege', 'beauteous', 'counterfeit', 'gallop', 'serpent', 'rail', 'practise', 'treacherous', 'noted', 'unkind', 'writes', 'specified', 'gratefully', 'northern', 'leagues', 'beach', 'abandon', 'placing', 'blowing', 'boot', 'cherished', 'feature', 'helm', 'ensued', 'depths', 'pretending', 'opens', 'studying', 'wonders', 'signed', 'independence', 'deer', 'rebellion', 'suggestions', 'suppressed', 'provoked', 'considerably', 'gentleness', 'odious', 'murmur', 'disliked', 'complaint', 'needn', 'alighted', 'refrain', 'instruction', 'indulgence', 'dangers', 'humphry', 'eros', 'gonzalo', 'balthasar', 'ornaments', 'forfeit', 'adversary', 'beauties', 'leaf', 'stays', 'trifling', 'wheels', 'divers', 'fan', 'paradise', 'slaughter', 'calamity', 'reconcile', 'drag', 'serves', 'punished', 'owns', 'viewed', 'fitness', 'contemptible', 'hook', 'valley', 'shuddered', 'pressure', 'eggs', 'herr', 'complaints', 'missing', 'bits', 'trifles', 'betty', 'hasn', 'doctors', 'pearl', 'miseries', 'commonly', 'tolerable', 'heaps', 'obscure', 'trivial', 'shower', 'characteristic', 'luxury', 'speeches', 'schemes', 'resolute', 'perpetual', 'soup', 'expedient', 'speedily', 'aversion', 'owl', 'afterward', 'agrippa', 'snaith', 'rabbit', 'trumbull', 'ransom', 'alcibiades', 'guildenstern', 'mowbray', 'nerissa', 'piteous', 'senseless', 'venus', 'devise', 'blessings', 'singer', 'defects', 'widest', 'element', 'grasp', 'entry', 'confidential', 'pays', 'chambers', 'horizon', 'meals', 'glowing', 'tend', 'spectacle', 'succession', 'shoot', 'enchanted', 'expressive', 'indulged', 'imaginary', 'mustn', 'amidst', 'awkward', 'detested', 'miranda', 'spectators', 'spirited', 'curate', 'garret', 'disturbance', 'gratify', 'edinburgh', 'nikolay', 'flavius', 'strive', 'briefly', 'traces', 'greeting', 'hoarse', 'echo', 'signify', 'prosperous', 'defy', 'sharing', 'indirectly', 'deepest', 'jump', 'enable', 'gathering', 'canvas', 'planted', 'isle', 'adorned', 'kneeling', 'swiftly', 'mess', 'frightful', 'harvest', 'transported', 'inner', 'babies', 'ample', 'astonishing', 'consulted', 'standard', 'extra', 'scholar', 'butler', 'lowest', 'ingenious', 'horribly', 'balls', 'improvement', 'snuff', 'vane', 'interfere', 'infamous', 'habitation', 'worthing', 'magdeburg', 'douglas', 'forrester', 'shakespeare', 'banquet', 'courteous', 'drinks', 'sway', 'promotion', 'graves', 'practically', 'nick', 'healthy', 'lungs', 'weighed', 'sights', 'draught', 'induce', 'anchor', 'uncommonly', 'operations', 'marched', 'swell', 'crowned', 'impertinent', 'thoughtful', 'luckily', 'prime', 'persisted', 'usage', 'stamp', 'sirs', 'holofernes', 'cabinet', 'total', 'swiss', 'scream', 'ambassador', 'annoyance', 'tyranny', 'solicitor', 'enthusiastic', 'suits', 'gaiety', 'discussed', 'wig', 'hedge', 'constancy', 'reluctance', 'prosperity', 'resignation', 'excused', 'surprized', 'foresaw', 'greet', 'chasuble', 'letty', 'vouchsafe', 'andronicus', 'arviragus', 'longaville', 'pyramus', 'trinculo', 'lucetta', 'hermione', 'november', 'collar', 'giddy', 'fairest', 'twisted', 'cats', 'thisbe', 'zounds', 'fellowship', 'chances', 'text', 'hire', 'knit', 'wronged', 'lament', 'conquer', 'descent', 'prominently', 'warranty', 'readable', 'federal', 'exceeding', 'deliberately', 'shabby', 'inches', 'shilling', 'politely', 'bleed', 'dashed', 'phrases', 'oblige', 'detained', 'issued', 'memories', 'heroes', 'grandmother', 'claims', 'syllable', 'beholding', 'hercules', 'prospects', 'refer', 'warned', 'mistakes', 'tranquillity', 'rendering', 'ardour', 'obedient', 'materials', 'saluted', 'seats', 'cavalier', 'gout', 'sobbing', 'nodding', 'timidly', 'verses', 'poole', 'recovering', 'weevle', 'sealed', 'apprehended', 'aren', 'evils', 'trent', 'thompson', 'nym', 'envious', 'bliss', 'fairies', 'sprung', 'weeds', 'chide', 'perchance', 'hie', 'everlasting', 'sailing', 'raging', 'twain', 'kindred', 'needful', 'ducats', 'yoke', 'dispose', 'statue', 'internal', 'bulk', 'animals', 'giant', 'swinging', 'attained', 'wrinkled', 'polish', 'sunlight', 'sympathetic', 'suspended', 'roared', 'conquered', 'egypt', 'pious', 'noticing', 'unconsciously', 'farthing', 'inquiring', 'spoiled', 'pushing', 'victor', 'loyal', 'expose', 'smaller', 'discovering', 'players', 'students', 'fur', 'vices', 'dat', 'burned', 'corruption', 'operas', 'xii', 'cigarette', 'purity', 'exercised', 'clerks', 'florizel', 'connections', 'accomplishments', 'tiresome', 'embarrassment', 'fondness', 'antagonist', 'threats', 'deerwood', 'gaoler', 'banter', 'phoebe', 'moves', 'pursuing', 'fairer', 'web', 'hairs', 'humours', 'tops', 'affecting', 'faster', 'loathsome', 'bowl', 'necessaries', 'concept', 'redistribution', 'redistributing', 'vanilla', 'ascii', 'version', 'computer', 'electronically', 'computers', 'email', 'poets', 'peep', 'captains', 'floated', 'dusty', 'bloom', 'significant', 'umbrella', 'prolonged', 'rebels', 'arriving', 'stated', 'rubbed', 'lastly', 'sphere', 'threshold', 'sorrowful', 'tragic', 'personally', 'divide', 'unexpectedly', 'vivid', 'questioned', 'decay', 'travels', 'scoundrel', 'scale', 'interruption', 'talks', 'ability', 'ireland', 'respectful', 'sixpence', 'denial', 'ecstasy', 'des', 'beethoven', 'hounds', 'mercury', 'association', 'oswald', 'dismiss', 'matrimony', 'mistawis', 'richelieu', 'guiche', 'priam', 'liszt', 'lizaveta', 'dogberry', 'strife', 'pencil', 'courtier', 'frozen', 'deceit', 'monarch', 'woeful', 'thursday', 'shield', 'speedy', 'apprehend', 'revenue', 'swimming', 'abode', 'trip', 'uses', 'neighbors', 'winding', 'gardens', 'repentance', 'breeze', 'blast', 'excellence', 'resigned', 'bedside', 'housekeeping', 'accounted', 'essential', 'conflict', 'hum', 'brick', 'mute', 'fruits', 'destitute', 'vacant', 'catastrophe', 'engrossed', 'clung', 'tempered', 'offensive', 'assuring', 'windy', 'forwards', 'goddess', 'bush', 'groom', 'generation', 'lohengrin', 'shutting', 'sabotage', 'principally', 'rely', 'assurances', 'diverted', 'admiring', 'serjeant', 'clerval', 'nobles', 'tennis', 'francs', 'empress', 'malcolm', 'jessica', 'updated', 'blade', 'honestly', 'babe', 'saucy', 'pronounce', 'morn', 'manly', 'wills', 'cannon', 'indirect', 'carpet', 'meets', 'picking', 'globe', 'seemingly', 'objections', 'spending', 'tobacco', 'complied', 'glimpse', 'deliverance', 'casting', 'humility', 'counting', 'serene', 'whipped', 'nail', 'obstinate', 'appearances', 'merits', 'reveal', 'specially', 'sentimental', 'superiority', 'insulted', 'eminent', 'precaution', 'thoughtfully', 'felicity', 'channel', 'intending', 'bonds', 'requested', 'disconcerted', 'airs', 'alarming', 'economy', 'surrey', 'spoilt', 'affront', 'christine', 'der', 'robbery', 'dowling', 'hatter', 'helicanus', 'simonides', 'verona', 'underneath', 'liv', 'torch', 'proverb', 'lazy', 'flowed', 'dealing', 'delights', 'dragon', 'nobly', 'spake', 'frost', 'triumphant', 'indebted', 'swim', 'arch', 'hats', 'attract', 'sleepy', 'dreary', 'withered', 'tumbled', 'whoever', 'motions', 'forming', 'deposited', 'coin', 'mysteries', 'consternation', 'shooting', 'argued', 'confinement', 'tashtego', 'pomp', 'senior', 'baker', 'oppose', 'settling', 'gilt', 'canal', 'summons', 'stealing', 'slaves', 'dover', 'feverish', 'insolent', 'xiii', 'heroine', 'valued', 'terrace', 'composer', 'illustrious', 'affectation', 'parry', 'refusal', 'meryton', 'oxon', 'schroder', 'fliegender', 'holl', 'nder', 'thaisa', 'pirithous', 'watkin', 'sounding', 'doctrine', 'waggon', 'exile', 'unreasonable', 'burial', 'seest', 'tempt', 'stored', 'negligence', 'nations', 'sunrise', 'harpooneers', 'momentary', 'unaccountable', 'duly', 'expensive', 'porch', 'bowels', 'shouting', 'warmed', 'pouring', 'block', 'elderly', 'despairing', 'davy', 'swelling', 'adapted', 'lingering', 'fortitude', 'infected', 'elevated', 'strongest', 'cane', 'brute', 'lowered', 'drawers', 'sting', 'guns', 'exist', 'russian', 'habitual', 'tendency', 'sustain', 'contribute', 'rebel', 'cake', 'development', 'tribute', 'jeweller', 'fitz', 'contributed', 'sleeve', 'oppressed', 'comedy', 'recognize', 'alan', 'pet', 'farm', 'client', 'endeavouring', 'blot', 'monde', 'signified', 'impose', 'exceptional', 'accusation', 'mon', 'sophy', 'vyse', 'ttichau', 'swung', 'tasted', 'pupil', 'lame', 'unfold', 'ornament', 'expressly', 'merciful', 'profess', 'spit', 'serving', 'tarry', 'wretchedness', 'aloof', 'whereon', 'include', 'provisions', 'blanket', 'needle', 'dutch', 'hunter', 'assault', 'india', 'respectfully', 'receives', 'representing', 'comrade', 'commended', 'subsequent', 'hunted', 'stubborn', 'upward', 'shivering', 'earned', 'responsible', 'conspicuous', 'shocking', 'commons', 'posture', 'bored', 'windsor', 'sob', 'pope', 'intellect', 'desolate', 'regions', 'screamed', 'esteemed', 'banker', 'beadle', 'relative', 'circles', 'disclosed', 'gas', 'pistoles', 'natures', 'echoed', 'cured', 'convent', 'strings', 'petition', 'accord', 'telegram', 'deliberation', 'responsibility', 'colored', 'judged', 'ridicule', 'recompense', 'excursions', 'build', 'abrupt', 'inwardly', 'comment', 'relating', 'funds', 'justine', 'ministers', 'pedant', 'pemberley', 'extravagance', 'robin', 'antoine', 'olivain', 'gryphon', 'petersburg', 'scots', 'luciana', 'boult', 'prologue', 'vessels', 'chastity', 'crush', 'eve', 'dove', 'perforce', 'climb', 'remedies', 'butt', 'afflicted', 'amorous', 'hasten', 'thereof', 'baggage', 'resort', 'shaped', 'commercial', 'exists', 'volunteer', 'skeleton', 'millions', 'sharks', 'newspaper', 'pausing', 'commerce', 'grin', 'election', 'dint', 'commenced', 'vigorous', 'alexander', 'overboard', 'wages', 'melt', 'marching', 'deemed', 'infancy', 'split', 'garter', 'accidentally', 'reckon', 'exception', 'condescension', 'transports', 'manifested', 'strokes', 'bearer', 'awaited', 'brass', 'planned', 'unusually', 'organ', 'deserving', 'allowance', 'feminine', 'distraction', 'grievous', 'befall', 'xiv', 'actor', 'ending', 'candour', 'discontent', 'refined', 'vicious', 'creep', 'birthday', 'thirst', 'proofs', 'finishing', 'muse', 'repeats', 'felix', 'cottages', 'chaise', 'manuscript', 'filthy', 'debate', 'vote', 'undergo', 'brethren', 'pleaded', 'nancy', 'lovell', 'seeks', 'beams', 'kin', 'orchard', 'repetition', 'plant', 'pox', 'lowering', 'scratch', 'wail', 'maker', 'fold', 'artful', 'senate', 'quitting', 'fancies', 'abominable', 'seamen', 'coats', 'dam', 'praying', 'accosted', 'nowhere', 'acquaintances', 'wipe', 'background', 'landing', 'happening', 'hailed', 'idleness', 'superfluous', 'hurrying', 'heroic', 'peasants', 'cheerfulness', 'exceed', 'wisest', 'rattle', 'streams', 'revived', 'oars', 'methought', 'secondly', 'limb', 'wealthy', 'roots', 'growth', 'perplexity', 'squeezed', 'replaced', 'pawn', 'newspapers', 'boar', 'beau', 'lincoln', 'recollections', 'elbows', 'proposals', 'sacrificed', 'penitent', 'uneasily', 'dances', 'spur', 'isabel', 'mender', 'plymdale', 'waule', 'ning', 'weber', 'menas', 'wooer', 'melford', 'quince', 'puck', 'alonso', 'grove', 'gall', 'suck', 'feathers', 'watery', 'untimely', 'knaves', 'pilot', 'stale', 'slew', 'banishment', 'cherish', 'nightly', 'dar', 'interrupt', 'flag', 'linked', 'islands', 'gigantic', 'cracked', 'tolerably', 'radiant', 'test', 'deserts', 'jupiter', 'producing', 'forefinger', 'soothed', 'invariably', 'noisy', 'titles', 'approval', 'towers', 'eloquent', 'tooth', 'chinese', 'instinctively', 'criticism', 'remainder', 'distrust', 'obstinacy', 'measured', 'situated', 'dwelt', 'pleases', 'neighborhood', 'seconds', 'dejected', 'critic', 'imitation', 'buildings', 'paths', 'peepy', 'terrified', 'villainy', 'wretches', 'apartments', 'westminster', 'resources', 'est', 'imprisonment', 'advantageous', 'tipton', 'peers', 'constance', 'capitol', 'vincentio', 'lysimachus', 'hoggins', 'airy', 'sparkling', 'lusty', 'meddle', 'conjure', 'drift', 'button', 'afore', 'injuries', 'mansion', 'weeps', 'omit', 'bridegroom', 'peevish', 'chat', 'january', 'eighty', 'tiger', 'president', 'wander', 'mended', 'bolt', 'bald', 'extinguished', 'buttons', 'salvation', 'vowed', 'humane', 'fragments', 'fishing', 'origin', 'canterbury', 'sinister', 'argue', 'rejoined', 'commanding', 'assert', 'peremptory', 'haired', 'detached', 'community', 'facing', 'documents', 'omitted', 'succeeding', 'delirious', 'cautious', 'recognition', 'creeping', 'echoes', 'irritated', 'renowned', 'calf', 'exerted', 'afar', 'wilderness', 'crab', 'exertion', 'witty', 'passionately', 'foster', 'wrung', 'dresses', 'bristol', 'gardener', 'perplexed', 'fainted', 'humoured', 'deference', 'appealed', 'undo', 'inconvenience', 'vigour', 'attentions', 'conclusions', 'stoop', 'summon', 'messengers', 'riches', 'impudent', 'prompted', 'jenkins', 'ante', 'abb', 'chevreuse', 'hiller', 'borachio', 'sallie', 'nought', 'thumb', 'tormented', 'starts', 'trespass', 'prodigious', 'region', 'yielding', 'lets', 'homely', 'slay', 'dearer', 'gorgeous', 'limit', 'monday', 'ancestors', 'redress', 'meagre', 'liest', 'haply', 'indicate', 'files', 'viewing', 'solicitation', 'statements', 'facility', 'subscribe', 'spain', 'shores', 'formidable', 'gale', 'ruins', 'angle', 'selling', 'polished', 'sunny', 'sideways', 'scent', 'louder', 'awaiting', 'heaved', 'preach', 'developed', 'navy', 'despatched', 'audible', 'painfully', 'apple', 'converted', 'professions', 'local', 'allusion', 'covering', 'literally', 'omen', 'discipline', 'turk', 'item', 'disadvantage', 'disgusted', 'christ', 'exhibited', 'robe', 'entreaty', 'imputed', 'inspire', 'manhood', 'intimation', 'continues', 'function', 'champagne', 'incidents', 'geneva', 'detected', 'paternal', 'tuesday', 'sickly', 'existed', 'follies', 'mourn', 'dependence', 'milan', 'infamy', 'effective', 'avenue', 'guidance', 'instruct', 'welfare', 'wos', 'rosa', 'shrewd', 'flattery', 'ribbon', 'sums', 'implored', 'trot', 'foresee', 'parley', 'ben', 'francesca', 'teau', 'alen', 'cur', 'revenged', 'mariana', 'glendower', 'reignier', 'barton', 'quench', 'shuts', 'muffled', 'coz', 'heel', 'stol', 'mortals', 'assistant', 'abbey', 'soundly', 'lesser', 'lasting', 'hugh', 'financial', 'prophet', 'preface', 'passenger', 'greeks', 'rows', 'jet', 'universe', 'heath', 'pitched', 'concluding', 'proudly', 'tastes', 'frighten', 'vital', 'lots', 'nostrils', 'hunters', 'resume', 'lingered', 'slumber', 'crisis', 'volumes', 'eyelids', 'dispersed', 'summit', 'richer', 'bushy', 'bags', 'inflamed', 'captive', 'demon', 'exert', 'purely', 'shrink', 'consumed', 'notorious', 'tools', 'diversion', 'grecian', 'temples', 'bridle', 'marvel', 'undertaken', 'conducting', 'grain', 'salute', 'wickedness', 'climate', 'shutters', 'sooth', 'sewing', 'illustrated', 'classes', 'tearing', 'actors', 'rebuke', 'reproaches', 'gratification', 'worthless', 'suitor', 'committee', 'naughty', 'acquire', 'correction', 'range', 'mortified', 'kyle', 'rosings', 'likelihood', 'affirmed', 'oberon', 'nigsberg', 'dmitri', 'marcellus', 'messala', 'ratcliffe', 'chiron', 'marmee', 'throats', 'enmity', 'salutation', 'pie', 'trusty', 'dexterity', 'resign', 'division', 'fails', 'eagle', 'pipes', 'pots', 'sermon', 'whiteness', 'crooked', 'missionary', 'suffice', 'cups', 'sleeves', 'appropriate', 'whereby', 'matrimonial', 'pinched', 'wrinkles', 'nicely', 'pangs', 'tokens', 'soothing', 'maternal', 'stripped', 'seasons', 'sensitive', 'consisting', 'clapped', 'watches', 'accidental', 'reckoned', 'knives', 'grasped', 'anyway', 'invented', 'familiarity', 'tranquil', 'breadth', 'heading', 'cream', 'meetings', 'frowned', 'uproar', 'jokes', 'mill', 'costume', 'veneration', 'workmen', 'thereupon', 'gait', 'curls', 'remonstrance', 'tarquin', 'struggled', 'tire', 'seventeen', 'knelt', 'brabantio', 'regretted', 'attractions', 'breeches', 'agreeably', 'sighing', 'fatigued', 'sol', 'hampstead', 'laboured', 'unhappily', 'disposal', 'bart', 'earn', 'manor', 'imitate', 'penetration', 'irritation', 'renfield', 'bragelonne', 'bernouin', 'octavius', 'mantua', 'peer', 'scope', 'nimble', 'eats', 'pump', 'ache', 'enters', 'moody', 'piercing', 'brush', 'attends', 'reverse', 'unluckily', 'pulse', 'revive', 'discern', 'legally', 'transcribe', 'incomplete', 'damaged', 'maintaining', 'dusk', 'foam', 'fence', 'ribs', 'attacks', 'fisherman', 'involuntarily', 'phantom', 'maxim', 'trap', 'district', 'prejudices', 'prosecution', 'kindled', 'coolly', 'purposely', 'relatives', 'centuries', 'upwards', 'disordered', 'belike', 'map', 'refusing', 'nervously', 'invested', 'settlement', 'mournful', 'authorities', 'imparted', 'topic', 'destination', 'exclaiming', 'shun', 'effected', 'respecting', 'uttering', 'await', 'decency', 'panting', 'allowing', 'cultivated', 'objected', 'clinging', 'abhorrence', 'keenly', 'disinterested', 'combined', 'clan', 'regards', 'excessive', 'minor', 'industrious', 'ravished', 'loyalty', 'dealt', 'leaden', 'concerts', 'ninth', 'novelty', 'uncertainty', 'hertfordshire', 'reflecting', 'acknowledgment', 'stationer', 'resource', 'bushes', 'displeased', 'republic', 'vernon', 'clement', 'billet', 'padua', 'consul', 'tillon', 'friedrich', 'cyprus', 'fenton', 'pernicious', 'wither', 'perilous', 'wilful', 'yond', 'quarrels', 'yon', 'stifled', 'dash', 'ensign', 'representations', 'checks', 'dart', 'bulwarks', 'fishermen', 'whaleman', 'rag', 'packed', 'stooping', 'eyeing', 'jacket', 'backed', 'piled', 'regent', 'afresh', 'eternity', 'bible', 'earliest', 'confine', 'assented', 'contains', 'commotion', 'eventually', 'withdrawing', 'pudding', 'memorable', 'sternly', 'ceremonies', 'jackson', 'grandeur', 'successfully', 'attraction', 'shell', 'pines', 'vein', 'vacation', 'bands', 'stamped', 'doomed', 'villany', 'presenting', 'fixing', 'extend', 'accommodation', 'cowards', 'cowardice', 'designed', 'refreshed', 'sanguine', 'console', 'tradesman', 'failing', 'inheritance', 'poisoned', 'delayed', 'admission', 'horsemen', 'equipage', 'customers', 'fulfil', 'tenor', 'interpretation', 'smollett', 'reconciliation', 'matilda', 'evr', 'westenra', 'meyerbeer', 'melinda', 'lucrece', 'silvius', 'bassianus', 'sampson', 'counsellor', 'smelling', 'saints', 'stabbed', 'scape', 'haunt', 'outrage', 'spleen', 'wednesday', 'ties', 'pate', 'mildly', 'greenland', 'abundance', 'landscape', 'springs', 'glittering', 'carved', 'congratulate', 'hammock', 'stooped', 'area', 'mounting', 'customs', 'recorded', 'sinner', 'dollars', 'mechanically', 'assigned', 'peeped', 'feeding', 'hull', 'stillness', 'results', 'alongside', 'creditors', 'workman', 'humor', 'rack', 'anew', 'ascended', 'excite', 'fin', 'nowadays', 'picturesque', 'paltry', 'shattered', 'irons', 'copper', 'celestial', 'enforced', 'courses', 'indicated', 'barely', 'toss', 'rider', 'firmness', 'gaily', 'mocking', 'shops', 'perseverance', 'languid', 'excessively', 'rescued', 'flock', 'frenchmen', 'improving', 'shines', 'invent', 'partial', 'gleam', 'mockery', 'collect', 'defeat', 'stupidity', 'believes', 'rubbish', 'confided', 'searched', 'mare', 'removal', 'lincolnshire', 'refreshment', 'pretensions', 'discontented', 'parsonage', 'diseases', 'watchful', 'toast', 'explaining', 'decorum', 'contemptuous', 'welcomed', 'rendezvous', 'barsad', 'herblay', 'bridget', 'upton', 'operatic', 'riga', 'cleon', 'vantage', 'mackshane', 'polenka', 'alexandria', 'baynard', 'gregory', 'bud', 'vex', 'chariot', 'substantial', 'curtsy', 'depth', 'blaze', 'smells', 'madly', 'spade', 'replace', 'taxes', 'additions', 'devilish', 'boiling', 'largest', 'baron', 'conversations', 'fowls', 'influences', 'choked', 'accommodated', 'folding', 'strip', 'belt', 'willis', 'melting', 'overhead', 'calmness', 'speaker', 'handled', 'quaint', 'net', 'groaned', 'spaniard', 'bunch', 'questioning', 'whiskers', 'icy', 'superstition', 'gestures', 'speechless', 'muttering', 'submitted', 'lists', 'arising', 'devote', 'dimly', 'cautiously', 'skirts', 'plunge', 'exceeded', 'elaborate', 'amazing', 'fling', 'disaster', 'frock', 'negative', 'ribbons', 'hoisted', 'diet', 'diligence', 'innumerable', 'moderation', 'snapped', 'wager', 'greeted', 'females', 'forsake', 'conceited', 'eccentric', 'fascinating', 'aristocratic', 'foreigners', 'adored', 'conqueror', 'stables', 'oblivion', 'hesitating', 'obliging', 'trusting', 'confer', 'deficient', 'detain', 'energetic', 'rumour', 'complaining', 'elegance', 'complacency', 'matthew', 'fraud', 'impertinence', 'doings', 'throng', 'teacher', 'louisa', 'harriet', 'bambridge', 'vous', 'shanghai', 'whitby', 'longueville', 'spontini', 'laube', 'ckel', 'soothsayer', 'octavia', 'lodovico', 'infection', 'prettiest', 'bigger', 'dreamt', 'noses', 'wakes', 'swears', 'rhyme', 'brightness', 'sweeter', 'torments', 'lamentable', 'proves', 'apace', 'beggars', 'doublet', 'evermore', 'wed', 'supple', 'redeem', 'affords', 'whistle', 'enforce', 'provoke', 'winking', 'identify', 'types', 'corporation', 'charities', 'hart', 'forecastle', 'agonies', 'battery', 'striving', 'meditation', 'scores', 'extensive', 'blasted', 'almighty', 'mostly', 'jail', 'companionship', 'panic', 'folds', 'scolding', 'stocks', 'scruples', 'startling', 'sticks', 'majestic', 'penetrate', 'resembled', 'depressed', 'clumsy', 'fainting', 'loveliness', 'springing', 'overtaken', 'produces', 'route', 'spies', 'bowling', 'fitting', 'overtake', 'universally', 'tub', 'heavier', 'resolutely', 'exercises', 'embracing', 'kingdoms', 'sequel', 'vivacity', 'apron', 'personality', 'rational', 'consumption', 'cab', 'fulfilled', 'cruelly', 'naples', 'inherited', 'irritable', 'perdita', 'custody', 'governess', 'pardiggle', 'barrier', 'coxcomb', 'betrothed', 'disclose', 'renew', 'assent', 'cushion', 'offences', 'congratulations', 'medicines', 'treaty', 'tertius', 'chau', 'musketeer', 'castilian', 'bohemia', 'rehearsals', 'tichatschek', 'athenian', 'iras', 'hal', 'brambleton', 'dramatis', 'oppression', 'transparent', 'profane', 'owes', 'plants', 'stair', 'lain', 'martial', 'winning', 'mantle', 'robes', 'knocks', 'lark', 'starve', 'vault', 'drugs', 'associate', 'wearied', 'vainly', 'contradict', 'sacrifices', 'compressed', 'alternate', 'prohibition', 'advocate', 'log', 'grammar', 'monsters', 'enchanting', 'cattle', 'deliberate', 'honorable', 'achieved', 'chaplain', 'bosoms', 'antique', 'preaching', 'spreading', 'affectionately', 'vocation', 'inland', 'luggage', 'massive', 'queens', 'loneliness', 'critics', 'selected', 'construction', 'plucked', 'envelope', 'lunatic', 'subsided', 'clue', 'vehicle', 'approaches', 'sentences', 'cradle', 'denying', 'nods', 'hostile', 'rug', 'tin', 'herd', 'rejoicing', 'violets', 'renounce', 'redoubled', 'shirts', 'dishes', 'wan', 'stratagem', 'agatha', 'adore', 'bother', 'temperament', 'novels', 'chatter', 'hesitate', 'invalid', 'verdict', 'faculty', 'flutter', 'puppet', 'needless', 'gridley', 'occurrences', 'muddy', 'instructed', 'detest', 'compassionate', 'garland', 'congratulated', 'precautions', 'attempting', 'foreigner', 'decisive', 'riot', 'forster', 'wilhelmina', 'friquet', 'dormouse', 'pembroke', 'salarino', 'titania', 'dennison', 'trim', 'quivering', 'enquire', 'groaning', 'excuses', 'vanish', 'threaten', 'empire', 'whoreson', 'merriment', 'retires', 'morsel', 'urging', 'snatching', 'indicating', 'incidental', 'pacific', 'morals', 'stuffed', 'smith', 'judging', 'million', 'shades', 'fascinated', 'supernatural', 'comical', 'descending', 'admirer', 'estimation', 'darkened', 'signifies', 'swelled', 'drowning', 'laced', 'quaker', 'voluntary', 'avail', 'sagacious', 'flannel', 'imperfect', 'pre', 'importing', 'proclaimed', 'erect', 'elapsed', 'disturbing', 'shouts', 'appellation', 'murderous', 'lustre', 'snare', 'dig', 'flowing', 'nobler', 'overpowered', 'inexpressible', 'impart', 'examples', 'guided', 'sheer', 'deaths', 'prescribed', 'oar', 'rooted', 'foreseen', 'exciting', 'wiping', 'stung', 'cord', 'orange', 'achieve', 'flush', 'sordid', 'whist', 'anticipated', 'feigned', 'grotesque', 'penitence', 'bee', 'extraordinarily', 'relationship', 'situations', 'sobs', 'brink', 'coroner', 'slippers', 'que', 'buying', 'blamed', 'improper', 'tour', 'confide', 'estates', 'tortured', 'bereft', 'deplorable', 'impetuous', 'retorted', 'hates', 'fund', 'overcame', 'preservation', 'bourgh', 'rigg', 'hereford', 'trojan', 'bakunin', 'reissiger', 'marmeladov', 'lartius', 'adjoining', 'cuts', 'posterity', 'splendour', 'semblance', 'laughs', 'boundless', 'retiring', 'spurs', 'hood', 'carelessly', 'pilgrimage', 'villainous', 'attach', 'brace', 'texts', 'organized', 'combination', 'withdrawn', 'comrades', 'emerged', 'infallibly', 'bathed', 'fowl', 'masses', 'exasperated', 'planks', 'chap', 'seed', 'mariners', 'removing', 'lighter', 'snatch', 'walter', 'spark', 'christians', 'roughly', 'announcement', 'consulting', 'retreated', 'resolving', 'loath', 'antiquity', 'heightened', 'kicked', 'irregular', 'oldest', 'attain', 'customary', 'insulting', 'visibly', 'brooding', 'pearls', 'plains', 'gilded', 'accomplish', 'concentrated', 'sharper', 'storms', 'steelkilt', 'noblest', 'province', 'drooping', 'armies', 'adds', 'backwards', 'contrive', 'lid', 'immensely', 'languages', 'contemptuously', 'visions', 'strolled', 'finely', 'concealing', 'packing', 'conspiracy', 'announce', 'gamekeeper', 'dependent', 'adjusted', 'acquitted', 'indignantly', 'replying', 'mistook', 'document', 'dose', 'strengthened', 'comic', 'sobbed', 'concealment', 'welsh', 'oracle', 'ruled', 'lamented', 'reproof', 'attributed', 'tenants', 'recollecting', 'sentinel', 'baseness', 'grange', 'hindered', 'scarron', 'guitant', 'shew', 'libretto', 'schlesinger', 'cinna', 'nathaniel', 'moffat', 'traffic', 'coals', 'lawyers', 'brisk', 'rests', 'merrily', 'flint', 'rat', 'festival', 'corse', 'shrieks', 'fares', 'modified', 'detach', 'calculate', 'expend', 'disclaim', 'elect', 'exclusion', 'indemnify', 'accessible', 'includes', 'gospel', 'holland', 'boldness', 'population', 'lilies', 'packet', 'pooh', 'ranged', 'slid', 'infernal', 'pagan', 'jumping', 'imminent', 'apollo', 'immovable', 'ministry', 'peeping', 'gaining', 'foremost', 'oftener', 'murderers', 'rod', 'cities', 'asserted', 'steed', 'overlook', 'clap', 'sage', 'catholic', 'excursion', 'muster', 'heave', 'hospitable', 'terrific', 'moods', 'lurking', 'martin', 'spoils', 'assertion', 'ruffled', 'electric', 'perception', 'contest', 'superstitious', 'priests', 'accomplishment', 'freed', 'conjectures', 'heated', 'incessantly', 'impressive', 'preceded', 'superficial', 'boughs', 'twin', 'cheered', 'survey', 'involuntary', 'infirmity', 'discoveries', 'crop', 'coolness', 'willow', 'metropolis', 'breasts', 'compound', 'exhibit', 'wells', 'influenced', 'sup', 'betters', 'frail', 'pang', 'disquiet', 'differently', 'grandson', 'melody', 'brightly', 'theatres', 'corridor', 'craving', 'swoon', 'injure', 'patronage', 'albans', 'handwriting', 'obstacles', 'contend', 'dispatched', 'forcing', 'inspiration', 'kneels', 'protestations', 'caresses', 'scandalous', 'publish', 'bunbury', 'duncan', 'dracula', 'northerton', 'dolabella', 'mutiny', 'rebellious', 'knowest', 'stony', 'bondage', 'occupy', 'beshrew', 'quarrelled', 'downright', 'joints', 'rung', 'fearfully', 'monkey', 'commonwealth', 'africa', 'johnson', 'swam', 'rolls', 'rub', 'tyre', 'plight', 'hovering', 'conversed', 'trod', 'stature', 'beget', 'kick', 'wardrobe', 'sticking', 'idol', 'descried', 'genial', 'premature', 'fragrant', 'cow', 'cathedral', 'chased', 'treasures', 'hopelessly', 'piety', 'torrent', 'reverie', 'frequented', 'elephant', 'drives', 'continent', 'supreme', 'rapidity', 'forenoon', 'vaguely', 'tossing', 'quoted', 'idiot', 'blinds', 'stray', 'opium', 'halt', 'hem', 'shifted', 'scenery', 'precision', 'historical', 'pierced', 'tap', 'publicly', 'brutal', 'emphatically', 'allegiance', 'realize', 'majority', 'resemble', 'rot', 'reckless', 'oakum', 'christened', 'conveyance', 'basin', 'richly', 'treating', 'imagining', 'malady', 'nasty', 'odour', 'awfully', 'publication', 'gravel', 'grossly', 'actress', 'flute', 'highwayman', 'moan', 'coldness', 'abject', 'lions', 'beautifully', 'rugby', 'trousers', 'neatly', 'contemplated', 'carstone', 'ruffian', 'conferred', 'unkindness', 'lodgers', 'outlaw', 'prosper', 'mingle', 'mettle', 'joshua', 'engagements', 'personage', 'sensibility', 'exclaim', 'injurious', 'scaffold', 'chagrin', 'stalling', 'prosecute', 'marie', 'chid', 'clamour', 'saxony', 'cressid', 'lucilius', 'titinius', 'varro', 'lennox', 'cerimon', 'domenico', 'weaker', 'crystal', 'helps', 'scrape', 'liver', 'rapier', 'afeard', 'cords', 'rites', 'matron', 'courts', 'couldst', 'asunder', 'headstrong', 'stepping', 'obsolete', 'unsolicited', 'donation', 'chowder', 'kills', 'shark', 'schools', 'blacksmith', 'abundant', 'substitute', 'rigging', 'trials', 'perils', 'december', 'interior', 'nightmare', 'flukes', 'tightly', 'sundry', 'strangest', 'reigned', 'cargo', 'hearers', 'serenity', 'philosophers', 'luxurious', 'christendom', 'owners', 'repast', 'humiliation', 'indispensable', 'staggered', 'constrained', 'starved', 'heaving', 'pioneer', 'shiver', 'triumphs', 'doubly', 'prescription', 'daggoo', 'herein', 'poorly', 'blossom', 'differ', 'basis', 'corrupted', 'vigilance', 'swing', 'skies', 'waiter', 'napkin', 'cranmer', 'wag', 'shrinking', 'crash', 'adequate', 'glories', 'recognise', 'solicited', 'directing', 'response', 'surrender', 'adopt', 'battles', 'engine', 'glowed', 'delicately', 'barn', 'provincial', 'campaign', 'recounted', 'supplies', 'hourly', 'rats', 'filial', 'mistrust', 'wooing', 'duel', 'inconvenient', 'shrank', 'exaggerated', 'realized', 'fascination', 'embroidered', 'fills', 'boyish', 'satire', 'alternative', 'dictates', 'divert', 'precedent', 'godmother', 'quickness', 'droll', 'frivolous', 'clasping', 'coavinses', 'guster', 'sheriff', 'portmanteau', 'institution', 'affability', 'mercenary', 'attire', 'ludicrous', 'betook', 'blooming', 'ditch', 'barker', 'unfit', 'incur', 'fret', 'varied', 'complaisance', 'sermons', 'fitzwilliam', 'stirlings', 'adorable', 'merriman', 'indiscretion', 'implore', 'freshitt', 'froth', 'chambre', 'laporte', 'chal', 'stile', 'wenches', 'muff', 'cuckold', 'haf', 'prague', 'goths', 'mendelssohn', 'gar', 'virgilia', 'discreet', 'arrow', 'lessen', 'rushes', 'spider', 'tainted', 'frighted', 'winged', 'cam', 'hap', 'forsaken', 'scurvy', 'arrives', 'soften', 'mov', 'highway', 'wedded', 'cot', 'detestable', 'abhorred', 'shriek', 'dire', 'unprotected', 'ein', 'licensed', 'swamp', 'tails', 'squeeze', 'saxon', 'pan', 'southern', 'petticoat', 'gateway', 'amounted', 'possessing', 'leaping', 'fervent', 'rays', 'diligent', 'grinning', 'motioned', 'consists', 'overlooked', 'contradiction', 'aft', 'referring', 'intensity', 'strait', 'coronation', 'sceptre', 'wire', 'dragging', 'blazing', 'patch', 'impudence', 'comforting', 'stormy', 'miserably', 'embarked', 'scar', 'nursing', 'groups', 'obscurity', 'surrounding', 'blubber', 'spots', 'widely', 'nerve', 'impelled', 'appalling', 'protestant', 'phenomenon', 'conveying', 'capricious', 'platform', 'organs', 'perfidious', 'transformed', 'exclamations', 'cavaliers', 'germain', 'pierce', 'tough', 'partake', 'lined', 'bass', 'susceptible', 'curled', 'choke', 'periods', 'inviting', 'finer', 'villa', 'crest', 'urgent', 'cowardly', 'trained', 'divorce', 'considers', 'les', 'imploring', 'surroundings', 'appeased', 'joan', 'moist', 'campbell', 'disgraced', 'demeanour', 'apologies', 'carboy', 'graciously', 'frankness', 'beguile', 'prettily', 'hackney', 'inhabited', 'scanty', 'tended', 'resented', 'imprisoned', 'raptures', 'choosing', 'bespoke', 'wrack', 'physicians', 'populace', 'tyke', 'horace', 'minnie', 'vincennes', 'scotchman', 'bastile', 'stopt', 'signor', 'copecks', 'diomed', 'montano', 'artificial', 'nieces', 'toes', 'snowy', 'crows', 'ape', 'thigh', 'limits', 'prompt', 'eastern', 'cage', 'respective', 'ado', 'bridal', 'battlements', 'toy', 'despatch', 'stirs', 'modification', 'educational', 'regulating', 'mat', 'musket', 'tribe', 'fable', 'masts', 'robbers', 'hind', 'extending', 'unite', 'shelf', 'wrist', 'identical', 'glided', 'satin', 'cordially', 'scared', 'congregation', 'discernment', 'murmuring', 'steam', 'rust', 'doubting', 'establish', 'twinkling', 'cent', 'suppress', 'functions', 'lighting', 'perturbation', 'ascribed', 'continuing', 'surgeons', 'department', 'communicating', 'neutral', 'leisurely', 'reasoning', 'cursing', 'wildness', 'penetrated', 'spacious', 'occurrence', 'clad', 'compact', 'ninety', 'ultimately', 'civilly', 'tumbling', 'weazel', 'excluded', 'busily', 'beads', 'lectures', 'enclosed', 'revelation', 'trimmed', 'tray', 'arranging', 'clouded', 'railway', 'appreciate', 'respectability', 'violet', 'annoy', 'discord', 'inquisitive', 'robber', 'champion', 'perspiration', 'diamonds', 'rewarded', 'wringing', 'interference', 'dutiful', 'incurred', 'unacquainted', 'brightened', 'modestly', 'safer', 'emphatic', 'heirs', 'castles', 'garment', 'soothe', 'betimes', 'pretext', 'introducing', 'lanyon', 'levity', 'dote', 'dowry', 'harangue', 'worries', 'emersons', 'expence', 'rous', 'alexas', 'corin', 'choler', 'cures', 'twould', 'humorous', 'worms', 'bethink', 'raven', 'ascend', 'straining', 'renown', 'dram', 'whate', 'intents', 'mischance', 'data', 'disk', 'synonymous', 'ensuring', 'sections', 'identification', 'network', 'mortality', 'gulf', 'thirteen', 'lime', 'mischievous', 'transactions', 'mystic', 'promptly', 'nameless', 'resembling', 'heathen', 'noises', 'gowns', 'bashful', 'natives', 'weekly', 'straightway', 'lifeless', 'necklace', 'pins', 'fasten', 'agents', 'spurn', 'screaming', 'triumphantly', 'exalted', 'kingly', 'provocation', 'bankrupt', 'comparatively', 'poles', 'admiral', 'labor', 'sighted', 'animation', 'specific', 'shivered', 'blinded', 'obstacle', 'howl', 'protesting', 'symptom', 'vividly', 'potent', 'pallor', 'crosses', 'embraces', 'possibilities', 'poisonous', 'breeds', 'idly', 'goal', 'traced', 'governed', 'daybreak', 'portraits', 'classical', 'hapless', 'vehement', 'stead', 'turkey', 'estimate', 'exploit', 'merchants', 'digest', 'assuredly', 'placid', 'partiality', 'acute', 'spectator', 'linger', 'appreciation', 'aims', 'politician', 'blushes', 'gratifying', 'fraught', 'atone', 'rein', 'posts', 'finances', 'intends', 'dispense', 'writings', 'nineteen', 'affable', 'dears', 'headache', 'contemplate', 'durden', 'sexton', 'vampire', 'dispositions', 'abilities', 'provoking', 'bail', 'weren', 'tragical', 'perused', 'cornelius', 'admittance', 'formality', 'philips', 'hurts', 'prodigal', 'submissive', 'insinuation', 'chateau', 'tribunal', 'henrietta', 'toller', 'hackbutt', 'vicomte', 'sue', 'rueil', 'fellamar', 'holtei', 'heubner', 'rouble', 'ach', 'audrey', 'publius', 'ursula', 'dionyza', 'loyd', 'kinsmen', 'heartless', 'fray', 'cheering', 'ope', 'scales', 'dug', 'nuptial', 'frowns', 'pilgrim', 'loathed', 'devouring', 'coughing', 'revel', 'pensive', 'shroud', 'stark', 'overwhelming', 'stumbled', 'discontinue', 'employees', 'transcription', 'consequential', 'employee', 'mississippi', 'widespread', 'originator', 'broom', 'astern', 'repeatedly', 'negro', 'frosty', 'hump', 'central', 'inexplicable', 'palms', 'strove', 'narrowly', 'inserted', 'tries', 'bolts', 'keel', 'climbed', 'moss', 'marches', 'legend', 'relied', 'poetical', 'jot', 'premises', 'santa', 'shadowy', 'fuel', 'xvi', 'egyptian', 'provinces', 'securing', 'mould', 'playful', 'ray', 'yields', 'alms', 'hearse', 'experiments', 'pint', 'handing', 'cotton', 'morbid', 'profitable', 'faction', 'imputation', 'verily', 'rascals', 'intensely', 'solicitude', 'successive', 'gasping', 'malignant', 'vagabond', 'claimed', 'admirably', 'befallen', 'stages', 'weighing', 'smothered', 'proportions', 'newcastle', 'artists', 'grease', 'irksome', 'projected', 'reap', 'refreshing', 'victorious', 'falsely', 'translated', 'reliance', 'cherry', 'thrill', 'creator', 'adonis', 'violin', 'culture', 'enamoured', 'disgraceful', 'wider', 'parisian', 'louvre', 'controlled', 'convincing', 'praising', 'stimulated', 'repairs', 'notable', 'implacable', 'signature', 'thanking', 'compositions', 'betraying', 'unheard', 'minding', 'imperious', 'pursues', 'ascertain', 'flavour', 'advertisement', 'boiled', 'gracefully', 'motherly', 'fervour', 'alacrity', 'switzerland', 'chivalry', 'amusements', 'demonstration', 'sarah', 'bribe', 'nymph', 'consultation', 'afoot', 'strengthen', 'hurst', 'lamenting', 'pleas', 'notre', 'shrewsbury', 'naumann', 'forsook', 'und', 'mouston', 'chavigny', 'cudgel', 'dorset', 'denmark', 'brockhaus', 'ilya', 'rossillon', 'osric', 'menelaus', 'curtis', 'antigonus', 'grudge', 'whereto', 'grandsire', 'courtiers', 'jests', 'sauce', 'oddly', 'easter', 'follower', 'courtship', 'drowsy', 'shrunk', 'sweetheart', 'cakes', 'virus', 'distributor', 'violates', 'indemnity', 'international', 'pulpit', 'herbert', 'largely', 'mid', 'crowds', 'pacing', 'harpoons', 'lances', 'tumble', 'handful', 'flourishing', 'longest', 'strangeness', 'caterpillar', 'barred', 'blossoms', 'seventh', 'sands', 'hardy', 'incredulous', 'weed', 'disobedience', 'boatswain', 'downward', 'bruised', 'billows', 'puff', 'insignificant', 'practices', 'livelihood', 'nap', 'inconsiderable', 'leeward', 'equipped', 'wintry', 'adoration', 'muskets', 'evinced', 'launched', 'deposed', 'structure', 'plump', 'tumultuous', 'tents', 'outrageous', 'spotted', 'necessities', 'essence', 'flaming', 'aimed', 'plates', 'administered', 'characteristics', 'disengaged', 'mouldy', 'scraps', 'diminished', 'matches', 'lens', 'devices', 'truest', 'baffled', 'ordering', 'lily', 'indifferently', 'bathe', 'pairs', 'enjoys', 'clearer', 'orator', 'hose', 'bundles', 'innocently', 'exertions', 'acquiesced', 'disappearance', 'antiochus', 'preached', 'sovereignty', 'degenerate', 'sombre', 'conversing', 'directors', 'distressing', 'res', 'transaction', 'applaud', 'pavilion', 'hypocrite', 'impulses', 'hypocrisy', 'labouring', 'unwholesome', 'sanction', 'vehemence', 'indulgent', 'acknowledgments', 'handsomely', 'deuce', 'nothink', 'porters', 'endowed', 'desperately', 'sarcastic', 'chicken', 'promote', 'penance', 'vapour', 'ballad', 'concerted', 'incoherent', 'entrusted', 'accents', 'frankenstein', 'guiltless', 'offending', 'behaving', 'editor', 'gentry', 'bias', 'carrier', 'deputy', 'bastards', 'theft', 'antient', 'mak', 'crampley', 'alarums', 'matt', 'wolfshiem', 'costanza', 'canker', 'preserving', 'penalty', 'buds', 'inherit', 'shaft', 'boisterous', 'forswear', 'meanest', 'truce', 'mistaking', 'mightst', 'ebb', 'rattling', 'whit', 'import', 'famine', 'strew', 'affright', 'proprietary', 'inaccurate', 'maximum', 'goals', 'donors', 'clearing', 'epilogue', 'saith', 'barrel', 'fife', 'mariner', 'gleamed', 'homeward', 'vicinity', 'downwards', 'potatoes', 'shipmates', 'mightily', 'rainy', 'bolted', 'screwed', 'conjured', 'fuss', 'incessant', 'rudeness', 'desolation', 'perished', 'indies', 'trance', 'passport', 'foolishly', 'weighty', 'silenced', 'repugnance', 'hides', 'remonstrances', 'arisen', 'effectual', 'clapping', 'cooked', 'alleged', 'momentous', 'surmise', 'wasting', 'forcibly', 'existing', 'proclamation', 'relaxed', 'presumed', 'counsels', 'rifle', 'loses', 'clutched', 'satan', 'noblemen', 'greedy', 'inevitably', 'mortar', 'corporal', 'sane', 'gladness', 'mildness', 'bailiff', 'rigid', 'completion', 'ensuing', 'weariness', 'stretching', 'involve', 'demanding', 'dripping', 'brotherly', 'resounded', 'rumours', 'resided', 'procuring', 'jelly', 'composing', 'forgetfulness', 'gloomily', 'gasp', 'whips', 'chop', 'tapped', 'sparks', 'horseman', 'individuals', 'caressed', 'kitten', 'wreath', 'frontier', 'anticipation', 'pupils', 'sexes', 'stress', 'perfume', 'interpret', 'rum', 'declining', 'collecting', 'truer', 'peacock', 'unbearable', 'surveyed', 'fruitful', 'fiction', 'unlocked', 'haggard', 'presentation', 'nymphs', 'chocolate', 'distorted', 'reins', 'trash', 'stations', 'duration', 'unjustly', 'perfections', 'devised', 'begs', 'acquisition', 'clare', 'thirsty', 'humbled', 'mediaeval', 'reaction', 'pillows', 'meek', 'overjoyed', 'bah', 'politic', 'appease', 'nettled', 'relapse', 'interrupting', 'refresh', 'mattered', 'agility', 'fruitless', 'indescribable', 'usurp', 'personages', 'avarice', 'taylor', 'judas', 'pastime', 'dialect', 'standish', 'dukes', 'alans', 'strumpet', 'knavery', 'heine', 'orchestral', 'maecenas', 'tyrolese', 'promis', 'scroop', 'grandam', 'conrade', 'shoemaker', 'begot', 'craves', 'herbs', 'jesu', 'chang', 'cracking', 'consort', 'ropes', 'adversity', 'begone', 'breathes', 'scatter', 'suspecting', 'peruse', 'privy', 'renamed', 'pglaf', 'compilation', 'downloading', 'accessed', 'unlink', 'redistribute', 'binary', 'nonproprietary', 'processing', 'hypertext', 'exporting', 'periodic', 'notifies', 'proofread', 'infringement', 'codes', 'punitive', 'merchantability', 'disclaimers', 'invalidity', 'unenforceability', 'deletions', 'formats', 'deductible', 'outdated', 'irs', 'paperwork', 'locations', 'newsletter', 'magnitude', 'forge', 'arched', 'lowly', 'pasture', 'sentinels', 'dive', 'decks', 'testament', 'orphans', 'sweeping', 'swain', 'remotest', 'parallel', 'avast', 'gin', 'vigorously', 'comprehension', 'tending', 'seaman', 'shuddering', 'conscientious', 'peculiarities', 'erected', 'feeds', 'february', 'sinful', 'stab', 'peering', 'commence', 'shaved', 'tip', 'illuminated', 'boarding', 'cask', 'proprietor', 'drab', 'brim', 'twelvemonth', 'resisted', 'jar', 'diabolical', 'quiver', 'scornful', 'exhibition', 'thames', 'nicholas', 'profoundly', 'opposing', 'waits', 'simultaneously', 'perch', 'fixedly', 'fiercely', 'paler', 'darkly', 'sulky', 'duck', 'sinews', 'assuming', 'cope', 'barbary', 'babes', 'litter', 'depression', 'quivered', 'visitation', 'withhold', 'buck', 'rural', 'parisians', 'associates', 'underwent', 'pursuits', 'excepting', 'bees', 'hangman', 'adjusting', 'projects', 'wery', 'reasonably', 'peradventure', 'unsuccessful', 'delivery', 'sorely', 'circuit', 'sanctuary', 'helplessly', 'reputed', 'memoirs', 'bordeaux', 'detect', 'freshness', 'vale', 'exposing', 'translation', 'exclusive', 'academy', 'boyhood', 'foundling', 'candid', 'servile', 'arrant', 'envied', 'masculine', 'streaming', 'xvii', 'xviii', 'parrot', 'faltered', 'fluttered', 'caprice', 'shrugged', 'framed', 'prim', 'piccadilly', 'persistent', 'illusion', 'resolutions', 'consistent', 'arabian', 'gladys', 'firing', 'grooms', 'training', 'telephone', 'incomprehensible', 'explanations', 'suitors', 'games', 'serviceable', 'discomposed', 'reassured', 'brighton', 'absurdity', 'meditating', 'altercation', 'bureau', 'soho', 'scolded', 'excepted', 'swallowing', 'importunate', 'scorned', 'imprudence', 'brutality', 'spiders', 'subdue', 'hellish', 'misled', 'civilities', 'mastered', 'austen', 'masquerade', 'cardew', 'boulogne', 'ardor', 'cliff', 'glasgow', 'confidant', 'teresa', 'seduced', 'coventry', 'plebeians', 'alehouse', 'pranks', 'juno', 'gawky', 'abbess', 'corioles', 'barnardo', 'ely', 'pandulph', 'jaquenetta', 'gobbo', 'antonia', 'clubs', 'chaos', 'dian', 'sparing', 'lends', 'bait', 'drunkard', 'burying', 'fights', 'consume', 'murders', 'cloudy', 'darting', 'mix', 'perjury', 'decreed', 'decree', 'abate', 'liquid', 'dashing', 'stains', 'rape', 'philosophical', 'deity', 'tormenting', 'fates', 'laden', 'inns', 'paul', 'deformed', 'snug', 'plank', 'slipping', 'chestnut', 'pregnant', 'straits', 'presentiment', 'wards', 'describing', 'humming', 'brighter', 'presbyterian', 'miraculous', 'appetites', 'paved', 'barrels', 'scripture', 'shouldered', 'committing', 'announcing', 'prophecy', 'impossibility', 'juncture', 'wildest', 'imposing', 'whistling', 'perpetually', 'overflowing', 'unsettled', 'insufficient', 'blooded', 'link', 'spear', 'brimstone', 'preliminary', 'relinquish', 'tackle', 'asylum', 'turkish', 'bully', 'ensue', 'deception', 'prominent', 'responded', 'throbbing', 'escaping', 'tarsus', 'foreseeing', 'confidently', 'ginger', 'necks', 'pronouncing', 'brood', 'interchange', 'weakened', 'publisher', 'accurate', 'forged', 'stoutly', 'gentlemanly', 'fetched', 'gunpowder', 'seals', 'pills', 'latch', 'curb', 'harness', 'rivals', 'perusal', 'skilful', 'admirers', 'brightest', 'bathing', 'brushed', 'normal', 'curly', 'smoothed', 'unfavourable', 'harp', 'warmest', 'studio', 'drunkenness', 'tradesmen', 'egad', 'practising', 'commonplace', 'unmoved', 'troubling', 'preoccupied', 'affects', 'dice', 'amour', 'ticket', 'disdainful', 'tunbridge', 'nursed', 'imply', 'outlive', 'customer', 'beastly', 'iniquity', 'impress', 'dejection', 'womanly', 'dismounted', 'turf', 'defer', 'representation', 'suffers', 'condescended', 'hovel', 'retirement', 'downs', 'captivated', 'differed', 'venom', 'acquit', 'abhor', 'succour', 'fairfax', 'incomparable', 'preferment', 'choir', 'gabelle', 'barricades', 'helpful', 'tantripp', 'clara', 'mawmsey', 'exploits', 'virginity', 'infect', 'lackey', 'spouse', 'upbraid', 'curst', 'cloaths', 'requite', 'prussian', 'cornets', 'myrtle', 'holbrook', 'continuance', 'steals', 'pens', 'moonshine', 'cupboard', 'bout', 'torches', 'medlar', 'twinkle', 'impute', 'stumbling', 'smelt', 'messages', 'grievances', 'unruly', 'concludes', 'pleading', 'footed', 'extremes', 'overthrown', 'dwells', 'shelves', 'seeds', 'stabs', 'potion', 'lee', 'fedallah', 'sized', 'cooled', 'swayed', 'ominous', 'chattering', 'rudely', 'woollen', 'plane', 'spinning', 'churches', 'edges', 'unearthly', 'comprehended', 'coaches', 'affrighted', 'widows', 'obeying', 'fugitive', 'desist', 'sleeper', 'whirling', 'infallible', 'delightfully', 'meadows', 'casket', 'clothed', 'herds', 'securely', 'fasting', 'hereditary', 'windward', 'muscles', 'timber', 'inquiringly', 'outburst', 'thrusting', 'alluded', 'tidy', 'anxieties', 'incline', 'equality', 'voluntarily', 'accompanying', 'allay', 'reigns', 'din', 'thorns', 'float', 'faltering', 'spurred', 'partners', 'snap', 'flows', 'awaken', 'leathern', 'beckoned', 'fashions', 'outstretched', 'languishing', 'curling', 'headlong', 'casually', 'sensibly', 'plentiful', 'barricade', 'rogues', 'tremulous', 'spaniards', 'manifold', 'wrecked', 'bob', 'inspection', 'gloss', 'calais', 'pond', 'operate', 'abated', 'parsee', 'feats', 'borrowing', 'clergy', 'extract', 'loan', 'liberties', 'bet', 'scented', 'surly', 'yorkshire', 'affirm', 'pedlar', 'dissolved', 'surveying', 'mocked', 'reluctantly', 'fulfilment', 'workers', 'select', 'trodden', 'rustling', 'jade', 'oppressive', 'verge', 'ivy', 'temptations', 'cushions', 'cars', 'greasy', 'consummate', 'misunderstood', 'selfishness', 'damask', 'cambridge', 'monmouth', 'commendation', 'weaknesses', 'ardently', 'mortifying', 'challenged', 'insensibility', 'worrying', 'subscription', 'pence', 'popularity', 'applauded', 'bailey', 'practitioner', 'advisable', 'coincidence', 'shedding', 'appealing', 'successor', 'gaming', 'parcels', 'devoid', 'emergency', 'tenderest', 'kinder', 'contention', 'muslin', 'howsoever', 'sprightly', 'briton', 'defended', 'review', 'bribed', 'devour', 'impetuosity', 'liberality', 'unutterable', 'sufferance', 'absently', 'cottagers', 'inhabit', 'laudable', 'heinous', 'puppy', 'dilemma', 'gaol', 'hilt', 'savings', 'worthiest', 'severally', 'cue', 'distresses', 'garlic', 'basely', 'bethune', 'sweets', 'commodity', 'bona', 'weimar', 'cringer', 'dst', 'siward', 'verges', 'garage', 'credits', 'shrine', 'hop', 'sucking', 'gypsy', 'quarrelling', 'carrion', 'anatomy', 'sojourn', 'tiptoe', 'slack', 'testify', 'dates', 'purge', 'rigour', 'nut', 'mouthed', 'voyages', 'pirates', 'capture', 'haunts', 'pier', 'lakes', 'robust', 'transition', 'leaders', 'delusion', 'paced', 'undressed', 'applying', 'pickle', 'forests', 'feat', 'sleet', 'grasping', 'rounds', 'chapters', 'anointed', 'couples', 'gliding', 'sow', 'farmers', 'casks', 'smoked', 'worshipped', 'devoured', 'ports', 'vinegar', 'stores', 'scuttle', 'marking', 'horrified', 'eminently', 'mature', 'fortress', 'cruising', 'declares', 'gifted', 'corresponding', 'peculiarity', 'pauses', 'sar', 'diffused', 'relieving', 'sunken', 'woven', 'spine', 'climbing', 'cling', 'ferocious', 'venetian', 'darker', 'flashing', 'inhuman', 'neighbor', 'ascertained', 'casual', 'fondly', 'unmistakable', 'clenched', 'prose', 'pumps', 'subsequently', 'joyfully', 'perspective', 'subjected', 'wand', 'thrilling', 'showers', 'observance', 'mainly', 'emptied', 'contemplating', 'covers', 'tangle', 'legged', 'infants', 'englishmen', 'wat', 'dense', 'margin', 'nursery', 'costly', 'affirmative', 'ceasing', 'liar', 'err', 'testified', 'scratched', 'boards', 'blanche', 'melodious', 'hug', 'squeezing', 'profusion', 'bat', 'riddle', 'resent', 'softness', 'suicide', 'bastille', 'cocked', 'powdered', 'discerned', 'watchman', 'clearness', 'rugged', 'xix', 'shrug', 'undisturbed', 'deepened', 'loathing', 'considerate', 'puritan', 'stammered', 'tapestry', 'speculation', 'taper', 'ambassadors', 'foil', 'representative', 'delays', 'quantities', 'compromise', 'orderly', 'courtly', 'cultivation', 'whimsical', 'deprive', 'deceitful', 'lamentations', 'piper', 'countenances', 'cloaks', 'goodwill', 'scold', 'interpose', 'doubtfully', 'proposition', 'reproached', 'benefactors', 'reluctant', 'seriousness', 'amity', 'meditate', 'poorer', 'repaid', 'dungeon', 'surgery', 'plea', 'julius', 'meekly', 'certificate', 'benefits', 'subsistence', 'poems', 'lessened', 'derby', 'storey', 'fortified', 'intrigue', 'assertions', 'admonition', 'offender', 'patriots', 'insults', 'cicero', 'hungarian', 'enquiry', 'varlet', 'lehrs', 'receiv', 'egeon', 'peto', 'rutland', 'crutch', 'hiss', 'scarf', 'intrusion', 'extremities', 'rancour', 'toad', 'wailing', 'usurer', 'heaviness', 'misty', 'wary', 'needy', 'tush', 'skins', 'keepers', 'tun', 'gaping', 'competent', 'perdition', 'comparing', 'glare', 'preacher', 'spray', 'improvements', 'silken', 'dusky', 'projecting', 'tapping', 'guise', 'squares', 'quicker', 'biscuit', 'warrior', 'connexions', 'uplifted', 'unwelcome', 'lifetime', 'washington', 'specimen', 'enriched', 'pepper', 'alien', 'audacious', 'bustle', 'slide', 'alley', 'jews', 'eternally', 'bounded', 'cedar', 'slippery', 'hushed', 'vicissitudes', 'bravery', 'withstand', 'affronted', 'tawny', 'habitually', 'mule', 'tradition', 'germans', 'masked', 'fork', 'pallid', 'constraint', 'pillars', 'obscured', 'treats', 'harold', 'approving', 'mechanical', 'appoint', 'prophesy', 'grapes', 'encounters', 'amend', 'unlikely', 'wrap', 'rides', 'admits', 'perched', 'beam', 'toe', 'drifting', 'shyness', 'injunctions', 'overflowed', 'exhaustion', 'desperation', 'reappeared', 'painters', 'renders', 'alternately', 'fewer', 'productive', 'ing', 'roast', 'professors', 'accommodate', 'riotous', 'divinity', 'drug', 'lump', 'snake', 'demonstrations', 'beset', 'comb', 'physiognomy', 'untouched', 'shaded', 'wonted', 'escapes', 'remonstrated', 'aforesaid', 'interpreter', 'timorous', 'cigar', 'improbable', 'homes', 'restlessness', 'perth', 'relent', 'knitted', 'judicious', 'destroying', 'morality', 'restaurant', 'strangle', 'refinement', 'taint', 'satisfying', 'footmen', 'consoled', 'nuisance', 'adrian', 'ugliness', 'rattled', 'accompaniment', 'circulated', 'corps', 'especial', 'spoon', 'motor', 'trains', 'unguarded', 'administration', 'lavender', 'meanness', 'sparkle', 'conjunction', 'sufferer', 'fervently', 'overturned', 'muddle', 'topics', 'cheat', 'correspondent', 'augusta', 'pew', 'acceptable', 'disconsolate', 'intelligible', 'gamester', 'impediment', 'richest', 'defiant', 'delivering', 'conversion', 'repay', 'impracticable', 'aha', 'drest', 'requests', 'insinuate', 'robbing', 'understands', 'scot', 'tortures', 'openness', 'swollen', 'imaginable', 'dissuade', 'garb', 'beck', 'albeit', 'creston', 'homer', 'overthrow', 'dated', 'fertile', 'allen', 'hunsford', 'derbyshire', 'scott', 'artfully', 'ostentation', 'rectory', 'losses', 'friday', 'flown', 'humiliating', 'recount', 'definitely', 'ignored', 'defending', 'persistently', 'cleverness', 'captivity', 'starving', 'guillotine', 'exhorted', 'semper', 'minchin', 'qui', 'interposition', 'nan', 'snares', 'neptune', 'bracieux', 'dieu', 'blois', 'prussia', 'rosalie', 'karl', 'wagtail', 'dukedom', 'philario', 'pandar', 'gadshill', 'sandys', 'decius', 'barnardine', 'issuing', 'farthest', 'portentous', 'devout', 'lash', 'inconstant', 'revels', 'lodges', 'courageous', 'sociable', 'amaz', 'mangled', 'descends', 'lick', 'strangled', 'beggarly', 'beggary', 'david', 'hebrew', 'soever', 'insomuch', 'fuller', 'tenth', 'gazette', 'rev', 'dreamy', 'reveries', 'needles', 'embark', 'ash', 'enveloped', 'exasperating', 'bedfellow', 'ushered', 'lashed', 'hugged', 'dipped', 'companies', 'radiance', 'prow', 'hymn', 'exultation', 'shipping', 'berth', 'behavior', 'hostility', 'benediction', 'mysteriously', 'whereat', 'complimented', 'magnanimous', 'chilled', 'aright', 'shifting', 'feasts', 'leak', 'captured', 'plentifully', 'inasmuch', 'respite', 'owning', 'glistening', 'shrouded', 'suspects', 'dropt', 'blindly', 'grimly', 'issues', 'offspring', 'enlightened', 'blemish', 'headsman', 'trail', 'girlish', 'dough', 'horizontal', 'differences', 'miniature', 'unfinished', 'restricted', 'undoubted', 'forbade', 'historian', 'charmingly', 'rocking', 'separately', 'ague', 'sanity', 'villages', 'timidity', 'groves', 'raving', 'oneself', 'trades', 'glaring', 'providential', 'davis', 'girdle', 'denoted', 'rend', 'menacing', 'sports', 'garrison', 'timely', 'rehearse', 'cooking', 'justification', 'colder', 'patches', 'alert', 'guides', 'struggles', 'moisture', 'lapse', 'stomachs', 'hovered', 'onward', 'scrupulous', 'claret', 'bounteous', 'possesses', 'routine', 'murray', 'blotted', 'gradual', 'abstract', 'holiness', 'boon', 'pricked', 'gap', 'ironical', 'unpardonable', 'pictured', 'lute', 'juice', 'aristocracy', 'heiress', 'unselfish', 'tickets', 'inquest', 'florentine', 'irony', 'navarre', 'oratory', 'bitten', 'archway', 'reformation', 'discussing', 'provisional', 'reduce', 'messrs', 'mice', 'informing', 'parapet', 'restoration', 'unreserved', 'tact', 'doubled', 'occupations', 'explicit', 'exclaims', 'inquires', 'reject', 'towel', 'rhetoric', 'unintelligible', 'inconsistent', 'misunderstanding', 'chastisement', 'pastoral', 'relates', 'contentment', 'condescend', 'gentility', 'zealous', 'phoenix', 'thankfully', 'interfered', 'implying', 'reposed', 'perjured', 'accuser', 'stench', 'sources', 'witnessed', 'repulsive', 'alterations', 'safie', 'sandy', 'burthen', 'piqued', 'balm', 'bernie', 'madmen', 'ville', 'plots', 'costumes', 'winifred', 'addicted', 'vented', 'bequeath', 'cuckoo', 'viscount', 'sock', 'gan', 'hawkins', 'carfax', 'pierrefonds', 'councillor', 'combatants', 'periwig', 'thof', 'com', 'grieves', 'volsces', 'stafford', 'griffith', 'thane', 'collatine', 'alcott', 'jery', 'ware', 'grievance', 'earthquake', 'adjacent', 'worser', 'doting', 'lief', 'coil', 'nuts', 'abed', 'expects', 'damnation', 'prostrate', 'lifts', 'fishes', 'disperse', 'affording', 'bluntly', 'gabriel', 'bacon', 'promontory', 'atlantic', 'goethe', 'cato', 'isles', 'plaster', 'nailed', 'toils', 'tar', 'tucked', 'adventurous', 'blackness', 'unequal', 'furiously', 'objectionable', 'parade', 'labyrinth', 'recurred', 'pike', 'steadfastly', 'eliza', 'admitting', 'worsted', 'contrivance', 'stifling', 'aghast', 'shells', 'swells', 'dividing', 'boasted', 'warriors', 'worlds', 'records', 'survived', 'relics', 'sect', 'seclusion', 'invaded', 'steer', 'goat', 'possessions', 'manned', 'yearly', 'associations', 'journeyman', 'presided', 'requiring', 'generously', 'rocky', 'unalterable', 'livid', 'persian', 'mum', 'folio', 'porpoise', 'enlarged', 'prices', 'stem', 'credulous', 'hatch', 'meditations', 'balanced', 'revolving', 'unseasonable', 'wool', 'incense', 'unfair', 'animosity', 'fleece', 'elected', 'attribute', 'comparative', 'hurled', 'requisite', 'impunity', 'compounded', 'elevation', 'wheeled', 'averse', 'lakeman', 'blasts', 'billiard', 'atrocious', 'shrieked', 'profile', 'encompassed', 'pat', 'joyous', 'communications', 'drifted', 'bethought', 'parchment', 'ungracious']\n",
            "Sigmoid értékek: [0.534616   0.53560376 0.5377745  ... 0.5295511  0.5325741  0.5259305 ]\n"
          ]
        }
      ]
    },
    {
      "cell_type": "code",
      "source": [
        "vectorizer = TfidfVectorizer()\n",
        "tfidf_matrix = vectorizer.fit_transform(documents)\n",
        "feature_names = vectorizer.get_feature_names_out().tolist()"
      ],
      "metadata": {
        "id": "MgLwcjnc3ggk"
      },
      "execution_count": null,
      "outputs": []
    },
    {
      "cell_type": "code",
      "source": [
        "def cosine_distance(vector1, vector2):\n",
        "  # Kiszámítjuk a két vektor skaláris szorzatát (dot product)\n",
        "    # Ez adja meg, mennyire \"mutatnak ugyanabba az irányba\"\n",
        "    # Kiszámítjuk az első vektor hosszát (normáját, azaz abszolút értékét)\n",
        "    # Kiszámítjuk a második vektor hosszát (normáját)\n",
        "    # A koszinusz-hasonlóság képlete: (v1 · v2) / (||v1|| * ||v2||)\n",
        "    # Ez 1, ha a vektorok teljesen azonos irányúak, 0 ha merőlegesek\n",
        "    return np.dot(vector1, vector2) / (np.linalg.norm(vector1) * np.linalg.norm(vector2))"
      ],
      "metadata": {
        "id": "TbT4dyQm5VXV"
      },
      "execution_count": null,
      "outputs": []
    },
    {
      "cell_type": "code",
      "source": [
        "def tfidf_cosine_distance(word1, word2):\n",
        "    # Megkapjuk az első szóhoz tartozó TF-IDF vektort\n",
        "    tfidf_word1 = tfidf_matrix[:, feature_names.index(word1)].toarray().flatten()\n",
        "    # Megkapjuk a második szóhoz tartozó TF-IDF vektort\n",
        "    tfidf_word2 = tfidf_matrix[:, feature_names.index(word2)].toarray().flatten()\n",
        "\n",
        "    return cosine_distance(tfidf_word1, tfidf_word2)"
      ],
      "metadata": {
        "id": "psKytZQc4lOS"
      },
      "execution_count": null,
      "outputs": []
    },
    {
      "cell_type": "code",
      "source": [
        "def word2vec_cosine_distance(word1, word2):\n",
        "  # Lekérjük az első szóhoz tartozó kimeneti szigmoid értékeket a Word2Vec hálóból\n",
        "    # A kimenet: tensor, amelyet előbb áthelyezünk CPU-ra, leválasztunk a gráfról (.detach()),\n",
        "    # majd numpy tömbbé alakítunk, és kivesszük az első sort ([0])\n",
        "    s1 = get_sigmoid_predictions(word1).cpu().detach().numpy()[0]\n",
        "    # Ugyanezt megcsináljuk a második szóval is\n",
        "    s2 = get_sigmoid_predictions(word2).cpu().detach().numpy()[0]\n",
        "\n",
        "\n",
        "# Visszatérünk a két szó közötti koszinusz-hasonlósággal (Word2Vec kimenet alapján)\n",
        "    return cosine_distance(s1, s2)"
      ],
      "metadata": {
        "id": "P3AxlFuq6Amf"
      },
      "execution_count": null,
      "outputs": []
    },
    {
      "cell_type": "code",
      "source": [
        "# Létrehozunk egy üres szótárat, amelybe a hasonlósági eredményeket mentjük\n",
        "similarities = {}\n",
        "\n",
        "with open('combined.csv', 'r') as f:\n",
        "    rows = csv.reader(f)\n",
        "    next(rows)\n",
        "    # Végigmegyünk minden soron, amely egy szó-párból és egy hasonlósági értékből áll\n",
        "    for word1, word2, sim in rows:\n",
        "      # Csak akkor számolunk, ha mindkét szó szerepel a word_to_id szótárban\n",
        "        if word1 in words and word2 in words:\n",
        "            similarities[(word1, word2)] = {\n",
        "                'wordsim353': float(sim), # Az emberi annotáció alapján mért hasonlóság (Wordsim-353 adatbázisból)\n",
        "                'word2vec': word2vec_cosine_distance(word1, word2), # Word2Vec hálóból számított hasonlóság\n",
        "                'bow': tfidf_cosine_distance(word1, word2) # Bag-of-Words (TF-IDF alapú) hasonlóság\n",
        "            }\n",
        "\n",
        "# Megkeressük a legkisebb és legnagyobb értéket a wordsim353 (emberi értékelések) alapján\n",
        "min = np.min([i['wordsim353'] for i in similarities.values()])\n",
        "max = np.max([i['wordsim353'] for i in similarities.values()])\n",
        "\n",
        "# Normalizáljuk az emberi hasonlósági értékeket 0 és 1 közé, hogy összehasonlíthatók legyenek\n",
        "for word_pair in similarities.values():\n",
        "    word_pair['wordsim353'] = (word_pair['wordsim353'] - min) / (max - min)\n",
        "\n",
        "\n",
        "# Visszatérünk a similarities szótárral, amely minden szó-párhoz tartalmaz háromféle hasonlóságot:\n",
        "# 1. normált emberi értékelést (wordsim353),\n",
        "# 2. Word2Vec-alapú hasonlóságot (word2vec),\n",
        "# 3. TF-IDF (bag-of-words) alapú hasonlóságot (bow).\n",
        "similarities"
      ],
      "metadata": {
        "colab": {
          "base_uri": "https://localhost:8080/"
        },
        "id": "Zh9y3ypZ6ArP",
        "outputId": "812ce292-bbc0-4e8f-87fb-178cf9c0e474"
      },
      "execution_count": null,
      "outputs": [
        {
          "output_type": "execute_result",
          "data": {
            "text/plain": [
              "{('tiger', 'cat'): {'wordsim353': np.float64(0.7198731501057082),\n",
              "  'word2vec': np.float32(0.99999315),\n",
              "  'bow': np.float64(0.9255579335450445)},\n",
              " ('tiger', 'tiger'): {'wordsim353': np.float64(1.0),\n",
              "  'word2vec': np.float32(1.0),\n",
              "  'bow': np.float64(0.0)},\n",
              " ('book', 'paper'): {'wordsim353': np.float64(0.7315010570824524),\n",
              "  'word2vec': np.float32(0.9999928),\n",
              "  'bow': np.float64(0.5335554880017467)},\n",
              " ('plane', 'car'): {'wordsim353': np.float64(0.5528541226215644),\n",
              "  'word2vec': np.float32(0.99999374),\n",
              "  'bow': np.float64(0.658044515380798)},\n",
              " ('train', 'car'): {'wordsim353': np.float64(0.609936575052854),\n",
              "  'word2vec': np.float32(0.9999925),\n",
              "  'bow': np.float64(0.3669257107478645)},\n",
              " ('telephone', 'communication'): {'wordsim353': np.float64(0.7357293868921775),\n",
              "  'word2vec': np.float32(0.99999356),\n",
              "  'bow': np.float64(0.6463955676189458)},\n",
              " ('drug', 'abuse'): {'wordsim353': np.float64(0.6670190274841437),\n",
              "  'word2vec': np.float32(0.99999225),\n",
              "  'bow': np.float64(0.9805302581287035)},\n",
              " ('bread', 'butter'): {'wordsim353': np.float64(0.5972515856236786),\n",
              "  'word2vec': np.float32(0.9999906),\n",
              "  'bow': np.float64(0.1341609048712541)},\n",
              " ('doctor', 'nurse'): {'wordsim353': np.float64(0.6828752642706131),\n",
              "  'word2vec': np.float32(0.9999931),\n",
              "  'bow': np.float64(0.9672166919950976)},\n",
              " ('professor', 'doctor'): {'wordsim353': np.float64(0.642706131078224),\n",
              "  'word2vec': np.float32(0.99999356),\n",
              "  'bow': np.float64(0.8713673359180663)},\n",
              " ('student', 'professor'): {'wordsim353': np.float64(0.6627906976744184),\n",
              "  'word2vec': np.float32(0.9999943),\n",
              "  'bow': np.float64(0.7852641111225744)},\n",
              " ('smart', 'student'): {'wordsim353': np.float64(0.4312896405919661),\n",
              "  'word2vec': np.float32(0.99999195),\n",
              "  'bow': np.float64(0.7505156989516729)},\n",
              " ('smart', 'stupid'): {'wordsim353': np.float64(0.5570824524312895),\n",
              "  'word2vec': np.float32(0.99999154),\n",
              "  'bow': np.float64(0.562967323197026)},\n",
              " ('company', 'stock'): {'wordsim353': np.float64(0.6913319238900634),\n",
              "  'word2vec': np.float32(0.9999908),\n",
              "  'bow': np.float64(0.41594132365903236)},\n",
              " ('stock', 'market'): {'wordsim353': np.float64(0.7970401691331923),\n",
              "  'word2vec': np.float32(0.9999936),\n",
              "  'bow': np.float64(0.3431388077947486)},\n",
              " ('stock', 'egg'): {'wordsim353': np.float64(0.13424947145877378),\n",
              "  'word2vec': np.float32(0.99999267),\n",
              "  'bow': np.float64(0.8761434844375825)},\n",
              " ('stock', 'live'): {'wordsim353': np.float64(0.3372093023255814),\n",
              "  'word2vec': np.float32(0.99999326),\n",
              "  'bow': np.float64(0.331774845947742)},\n",
              " ('stock', 'life'): {'wordsim353': np.float64(0.040169133192389),\n",
              "  'word2vec': np.float32(0.9999931),\n",
              "  'bow': np.float64(0.32049478753073957)},\n",
              " ('book', 'library'): {'wordsim353': np.float64(0.7315010570824524),\n",
              "  'word2vec': np.float32(0.9999898),\n",
              "  'bow': np.float64(0.29073241600622635)},\n",
              " ('bank', 'money'): {'wordsim353': np.float64(0.8012684989429174),\n",
              "  'word2vec': np.float32(0.99999434),\n",
              "  'bow': np.float64(0.39460691205327736)},\n",
              " ('wood', 'forest'): {'wordsim353': np.float64(0.7600422832980972),\n",
              "  'word2vec': np.float32(0.999992),\n",
              "  'bow': np.float64(0.37220994119249484)},\n",
              " ('money', 'cash'): {'wordsim353': np.float64(0.9027484143763211),\n",
              "  'word2vec': np.float32(0.99999356),\n",
              "  'bow': np.float64(0.4428760772834939)},\n",
              " ('king', 'queen'): {'wordsim353': np.float64(0.8498942917547567),\n",
              "  'word2vec': np.float32(0.99999136),\n",
              "  'bow': np.float64(0.1464370030847676)},\n",
              " ('holy', 'sex'): {'wordsim353': np.float64(0.11416490486257928),\n",
              "  'word2vec': np.float32(0.9999911),\n",
              "  'bow': np.float64(0.9010806365884735)},\n",
              " ('law', 'lawyer'): {'wordsim353': np.float64(0.8287526427061311),\n",
              "  'word2vec': np.float32(0.99999523),\n",
              "  'bow': np.float64(0.7163129349405131)},\n",
              " ('drink', 'car'): {'wordsim353': np.float64(0.2642706131078224),\n",
              "  'word2vec': np.float32(0.9999908),\n",
              "  'bow': np.float64(0.6284293573033614)},\n",
              " ('drink', 'ear'): {'wordsim353': np.float64(0.0813953488372093),\n",
              "  'word2vec': np.float32(0.9999915),\n",
              "  'bow': np.float64(0.1558719671605583)},\n",
              " ('drink', 'mouth'): {'wordsim353': np.float64(0.5729386892177589),\n",
              "  'word2vec': np.float32(0.99999326),\n",
              "  'bow': np.float64(0.23605990839396362)},\n",
              " ('drink', 'eat'): {'wordsim353': np.float64(0.6691331923890063),\n",
              "  'word2vec': np.float32(0.99999416),\n",
              "  'bow': np.float64(0.3201618716304856)},\n",
              " ('baby', 'mother'): {'wordsim353': np.float64(0.7727272727272726),\n",
              "  'word2vec': np.float32(0.9999918),\n",
              "  'bow': np.float64(0.5139539217927851)},\n",
              " ('drink', 'mother'): {'wordsim353': np.float64(0.2230443974630021),\n",
              "  'word2vec': np.float32(0.99999267),\n",
              "  'bow': np.float64(0.5093588034139548)},\n",
              " ('journey', 'voyage'): {'wordsim353': np.float64(0.9249471458773784),\n",
              "  'word2vec': np.float32(0.99999005),\n",
              "  'bow': np.float64(0.5287414851833034)},\n",
              " ('boy', 'lad'): {'wordsim353': np.float64(0.8763213530655389),\n",
              "  'word2vec': np.float32(0.9999926),\n",
              "  'bow': np.float64(0.5257215188963975)},\n",
              " ('coast', 'shore'): {'wordsim353': np.float64(0.9048625792811837),\n",
              "  'word2vec': np.float32(0.9999945),\n",
              "  'bow': np.float64(0.35973722501287697)},\n",
              " ('food', 'fruit'): {'wordsim353': np.float64(0.7378435517970401),\n",
              "  'word2vec': np.float32(0.99999416),\n",
              "  'bow': np.float64(0.25229215506163627)},\n",
              " ('bird', 'cock'): {'wordsim353': np.float64(0.6934460887949259),\n",
              "  'word2vec': np.float32(0.99999523),\n",
              "  'bow': np.float64(0.517803119235493)},\n",
              " ('brother', 'monk'): {'wordsim353': np.float64(0.6057082452431288),\n",
              "  'word2vec': np.float32(0.9999918),\n",
              "  'bow': np.float64(0.915190884854045)},\n",
              " ('lad', 'brother'): {'wordsim353': np.float64(0.4143763213530655),\n",
              "  'word2vec': np.float32(0.9999889),\n",
              "  'bow': np.float64(0.8400746101577623)},\n",
              " ('journey', 'car'): {'wordsim353': np.float64(0.5613107822410147),\n",
              "  'word2vec': np.float32(0.99999225),\n",
              "  'bow': np.float64(0.9412907139128208)},\n",
              " ('monk', 'oracle'): {'wordsim353': np.float64(0.47145877378435513),\n",
              "  'word2vec': np.float32(0.99999136),\n",
              "  'bow': np.float64(0.9667831210753779)},\n",
              " ('coast', 'hill'): {'wordsim353': np.float64(0.40591966173361516),\n",
              "  'word2vec': np.float32(0.9999916),\n",
              "  'bow': np.float64(0.6675796653773602)},\n",
              " ('monk', 'slave'): {'wordsim353': np.float64(0.040169133192389),\n",
              "  'word2vec': np.float32(0.99999136),\n",
              "  'bow': np.float64(0.9452119472541513)},\n",
              " ('coast', 'forest'): {'wordsim353': np.float64(0.27589852008456656),\n",
              "  'word2vec': np.float32(0.9999931),\n",
              "  'bow': np.float64(0.8769968831830743)},\n",
              " ('noon', 'string'): {'wordsim353': np.float64(0.0),\n",
              "  'word2vec': np.float32(0.9999895),\n",
              "  'bow': np.float64(0.9342905145151513)},\n",
              " ('money', 'wealth'): {'wordsim353': np.float64(0.8171247357293868),\n",
              "  'word2vec': np.float32(0.9999889),\n",
              "  'bow': np.float64(0.4295070079817558)},\n",
              " ('money', 'property'): {'wordsim353': np.float64(0.7431289640591966),\n",
              "  'word2vec': np.float32(0.99999297),\n",
              "  'bow': np.float64(0.21603644566272706)},\n",
              " ('money', 'possession'): {'wordsim353': np.float64(0.7135306553911205),\n",
              "  'word2vec': np.float32(0.999991),\n",
              "  'bow': np.float64(0.24960739949748845)},\n",
              " ('money', 'bank'): {'wordsim353': np.float64(0.8414376321353064),\n",
              "  'word2vec': np.float32(0.99999434),\n",
              "  'bow': np.float64(0.39460691205327736)},\n",
              " ('money', 'operation'): {'wordsim353': np.float64(0.2928118393234672),\n",
              "  'word2vec': np.float32(0.99999267),\n",
              "  'bow': np.float64(0.6436771747387287)},\n",
              " ('tiger', 'animal'): {'wordsim353': np.float64(0.6828752642706131),\n",
              "  'word2vec': np.float32(0.9999922),\n",
              "  'bow': np.float64(0.7301855813725155)},\n",
              " ('precedent', 'example'): {'wordsim353': np.float64(0.5613107822410147),\n",
              "  'word2vec': np.float32(0.99999297),\n",
              "  'bow': np.float64(0.7421982595527149)},\n",
              " ('precedent', 'information'): {'wordsim353': np.float64(0.34989429175475684),\n",
              "  'word2vec': np.float32(0.999992),\n",
              "  'bow': np.float64(0.8506458831453991)},\n",
              " ('precedent', 'law'): {'wordsim353': np.float64(0.645877378435518),\n",
              "  'word2vec': np.float32(0.99999243),\n",
              "  'bow': np.float64(0.5735858615640385)},\n",
              " ('precedent', 'collection'): {'wordsim353': np.float64(0.20718816067653276),\n",
              "  'word2vec': np.float32(0.99999213),\n",
              "  'bow': np.float64(0.8717384108562121)},\n",
              " ('precedent', 'group'): {'wordsim353': np.float64(0.1300211416490486),\n",
              "  'word2vec': np.float32(0.9999909),\n",
              "  'bow': np.float64(0.9055140960826924)},\n",
              " ('cup', 'coffee'): {'wordsim353': np.float64(0.6384778012684988),\n",
              "  'word2vec': np.float32(0.99999315),\n",
              "  'bow': np.float64(0.5978619019848512)},\n",
              " ('cup', 'article'): {'wordsim353': np.float64(0.19661733615221985),\n",
              "  'word2vec': np.float32(0.99999154),\n",
              "  'bow': np.float64(0.7207794058008772)},\n",
              " ('cup', 'object'): {'wordsim353': np.float64(0.3329809725158562),\n",
              "  'word2vec': np.float32(0.9999905),\n",
              "  'bow': np.float64(0.5320220421215849)},\n",
              " ('cup', 'entity'): {'wordsim353': np.float64(0.17019027484143762),\n",
              "  'word2vec': np.float32(0.9999921),\n",
              "  'bow': np.float64(0.4721108500929322)},\n",
              " ('cup', 'drink'): {'wordsim353': np.float64(0.7093023255813953),\n",
              "  'word2vec': np.float32(0.999991),\n",
              "  'bow': np.float64(0.42282269823269114)},\n",
              " ('cup', 'food'): {'wordsim353': np.float64(0.47145877378435513),\n",
              "  'word2vec': np.float32(0.99999404),\n",
              "  'bow': np.float64(0.6525634319640279)},\n",
              " ('cup', 'substance'): {'wordsim353': np.float64(0.14587737843551796),\n",
              "  'word2vec': np.float32(0.99999106),\n",
              "  'bow': np.float64(0.6152478393752516)},\n",
              " ('cup', 'liquid'): {'wordsim353': np.float64(0.5665961945031712),\n",
              "  'word2vec': np.float32(0.9999917),\n",
              "  'bow': np.float64(0.8765870058736014)},\n",
              " ('energy', 'secretary'): {'wordsim353': np.float64(0.13424947145877378),\n",
              "  'word2vec': np.float32(0.9999934),\n",
              "  'bow': np.float64(0.5230704871579925)},\n",
              " ('secretary', 'senate'): {'wordsim353': np.float64(0.47780126849894283),\n",
              "  'word2vec': np.float32(0.9999931),\n",
              "  'bow': np.float64(0.8610247019301744)},\n",
              " ('weapon', 'secret'): {'wordsim353': np.float64(0.5835095137420718),\n",
              "  'word2vec': np.float32(0.9999927),\n",
              "  'bow': np.float64(0.4261466475746246)},\n",
              " ('news', 'report'): {'wordsim353': np.float64(0.8054968287526426),\n",
              "  'word2vec': np.float32(0.9999926),\n",
              "  'bow': np.float64(0.3464742926927695)},\n",
              " ('image', 'surface'): {'wordsim353': np.float64(0.42494714587737836),\n",
              "  'word2vec': np.float32(0.9999931),\n",
              "  'bow': np.float64(0.4590671008192676)},\n",
              " ('discovery', 'space'): {'wordsim353': np.float64(0.6131078224101479),\n",
              "  'word2vec': np.float32(0.9999933),\n",
              "  'bow': np.float64(0.4130276172554048)},\n",
              " ('computer', 'news'): {'wordsim353': np.float64(0.41543340380549676),\n",
              "  'word2vec': np.float32(0.99999195),\n",
              "  'bow': np.float64(0.5559453844288653)},\n",
              " ('atmosphere', 'landscape'): {'wordsim353': np.float64(0.3329809725158562),\n",
              "  'word2vec': np.float32(0.99999315),\n",
              "  'bow': np.float64(0.4264396610375827)},\n",
              " ('war', 'troops'): {'wordsim353': np.float64(0.8023255813953488),\n",
              "  'word2vec': np.float32(0.99999183),\n",
              "  'bow': np.float64(0.42335278200254123)},\n",
              " ('record', 'number'): {'wordsim353': np.float64(0.609936575052854),\n",
              "  'word2vec': np.float32(0.9999936),\n",
              "  'bow': np.float64(0.5841086303753247)},\n",
              " ('skin', 'eye'): {'wordsim353': np.float64(0.6004228329809724),\n",
              "  'word2vec': np.float32(0.9999921),\n",
              "  'bow': np.float64(0.5329831908422861)},\n",
              " ('prejudice', 'recognition'): {'wordsim353': np.float64(0.2600422832980972),\n",
              "  'word2vec': np.float32(0.99999154),\n",
              "  'bow': np.float64(0.5200817579891599)},\n",
              " ('century', 'year'): {'wordsim353': np.float64(0.7452431289640591),\n",
              "  'word2vec': np.float32(0.9999918),\n",
              "  'bow': np.float64(0.7190596408923764)},\n",
              " ('century', 'nation'): {'wordsim353': np.float64(0.27695560253699786),\n",
              "  'word2vec': np.float32(0.9999921),\n",
              "  'bow': np.float64(0.7789711613698693)},\n",
              " ('delay', 'news'): {'wordsim353': np.float64(0.2928118393234672),\n",
              "  'word2vec': np.float32(0.99999195),\n",
              "  'bow': np.float64(0.5131384406484993)},\n",
              " ('minister', 'party'): {'wordsim353': np.float64(0.6437632135306554),\n",
              "  'word2vec': np.float32(0.9999909),\n",
              "  'bow': np.float64(0.5691736293779217)},\n",
              " ('peace', 'plan'): {'wordsim353': np.float64(0.44503171247357287),\n",
              "  'word2vec': np.float32(0.999991),\n",
              "  'bow': np.float64(0.5953915988159857)},\n",
              " ('attempt', 'peace'): {'wordsim353': np.float64(0.3921775898520084),\n",
              "  'word2vec': np.float32(0.99999213),\n",
              "  'bow': np.float64(0.6198853134626651)},\n",
              " ('government', 'crisis'): {'wordsim353': np.float64(0.6363636363636362),\n",
              "  'word2vec': np.float32(0.99999315),\n",
              "  'bow': np.float64(0.6498800930023724)},\n",
              " ('energy', 'crisis'): {'wordsim353': np.float64(0.5708245243128964),\n",
              "  'word2vec': np.float32(0.99999356),\n",
              "  'bow': np.float64(0.19832946244884275)},\n",
              " ('announcement', 'news'): {'wordsim353': np.float64(0.7420718816067652),\n",
              "  'word2vec': np.float32(0.99999297),\n",
              "  'bow': np.float64(0.5926108396185883)},\n",
              " ('announcement', 'effort'): {'wordsim353': np.float64(0.233615221987315),\n",
              "  'word2vec': np.float32(0.99999154),\n",
              "  'bow': np.float64(0.6431480335944451)},\n",
              " ('stroke', 'hospital'): {'wordsim353': np.float64(0.686046511627907),\n",
              "  'word2vec': np.float32(0.9999914),\n",
              "  'bow': np.float64(0.7913985780930741)},\n",
              " ('victim', 'emergency'): {'wordsim353': np.float64(0.6268498942917546),\n",
              "  'word2vec': np.float32(0.99999136),\n",
              "  'bow': np.float64(0.7021182222149887)},\n",
              " ('treatment', 'recovery'): {'wordsim353': np.float64(0.7790697674418604),\n",
              "  'word2vec': np.float32(0.9999923),\n",
              "  'bow': np.float64(0.5415432635416884)},\n",
              " ('journal', 'association'): {'wordsim353': np.float64(0.46828752642706123),\n",
              "  'word2vec': np.float32(0.9999911),\n",
              "  'bow': np.float64(0.8641066578546204)},\n",
              " ('doctor', 'liability'): {'wordsim353': np.float64(0.4915433403805497),\n",
              "  'word2vec': np.float32(0.99999166),\n",
              "  'bow': np.float64(0.39448251966065995)},\n",
              " ('death', 'row'): {'wordsim353': np.float64(0.4978858350951374),\n",
              "  'word2vec': np.float32(0.99999106),\n",
              "  'bow': np.float64(0.7845969842191738)},\n",
              " ('lawyer', 'evidence'): {'wordsim353': np.float64(0.650105708245243),\n",
              "  'word2vec': np.float32(0.9999908),\n",
              "  'bow': np.float64(0.8041139423366678)},\n",
              " ('life', 'death'): {'wordsim353': np.float64(0.7758985200845665),\n",
              "  'word2vec': np.float32(0.9999909),\n",
              "  'bow': np.float64(0.3811853960306395)},\n",
              " ('life', 'term'): {'wordsim353': np.float64(0.41860465116279066),\n",
              "  'word2vec': np.float32(0.9999908),\n",
              "  'bow': np.float64(0.40065997826654753)},\n",
              " ('board', 'recommendation'): {'wordsim353': np.float64(0.41543340380549676),\n",
              "  'word2vec': np.float32(0.999991),\n",
              "  'bow': np.float64(0.4943697036122874)},\n",
              " ('governor', 'interview'): {'wordsim353': np.float64(0.28646934460887946),\n",
              "  'word2vec': np.float32(0.999993),\n",
              "  'bow': np.float64(0.319549685892221)},\n",
              " ('peace', 'atmosphere'): {'wordsim353': np.float64(0.3329809725158562),\n",
              "  'word2vec': np.float32(0.9999936),\n",
              "  'bow': np.float64(0.6493262764130612)},\n",
              " ('travel', 'activity'): {'wordsim353': np.float64(0.47145877378435513),\n",
              "  'word2vec': np.float32(0.9999912),\n",
              "  'bow': np.float64(0.2846605822652364)},\n",
              " ('car', 'flight'): {'wordsim353': np.float64(0.46511627906976744),\n",
              "  'word2vec': np.float32(0.99999315),\n",
              "  'bow': np.float64(0.8008968577772806)},\n",
              " ('credit', 'card'): {'wordsim353': np.float64(0.7949260042283298),\n",
              "  'word2vec': np.float32(0.9999927),\n",
              "  'bow': np.float64(0.35905607144377594)},\n",
              " ('credit', 'information'): {'wordsim353': np.float64(0.5042283298097251),\n",
              "  'word2vec': np.float32(0.99999154),\n",
              "  'bow': np.float64(0.3508226188635486)},\n",
              " ('arrangement',\n",
              "  'accommodation'): {'wordsim353': np.float64(0.514799154334038), 'word2vec': np.float32(0.9999934), 'bow': np.float64(0.8818361139522874)},\n",
              " ('month', 'hotel'): {'wordsim353': np.float64(0.13424947145877378),\n",
              "  'word2vec': np.float32(0.9999915),\n",
              "  'bow': np.float64(0.5422042419975859)},\n",
              " ('type', 'kind'): {'wordsim353': np.float64(0.891120507399577),\n",
              "  'word2vec': np.float32(0.99999046),\n",
              "  'bow': np.float64(0.7069665253601601)},\n",
              " ('arrival', 'hotel'): {'wordsim353': np.float64(0.5771670190274841),\n",
              "  'word2vec': np.float32(0.9999927),\n",
              "  'bow': np.float64(0.6095301190911996)},\n",
              " ('bed', 'closet'): {'wordsim353': np.float64(0.653276955602537),\n",
              "  'word2vec': np.float32(0.99999326),\n",
              "  'bow': np.float64(0.36848964812671436)},\n",
              " ('closet', 'clothes'): {'wordsim353': np.float64(0.788583509513742),\n",
              "  'word2vec': np.float32(0.99999356),\n",
              "  'bow': np.float64(0.4760486360303079)},\n",
              " ('situation', 'conclusion'): {'wordsim353': np.float64(0.45137420718816057),\n",
              "  'word2vec': np.float32(0.9999914),\n",
              "  'bow': np.float64(0.41070087311980863)},\n",
              " ('direction', 'combination'): {'wordsim353': np.float64(0.18076109936575052),\n",
              "  'word2vec': np.float32(0.99999195),\n",
              "  'bow': np.float64(0.46993292376310614)},\n",
              " ('street', 'place'): {'wordsim353': np.float64(0.6236786469344608),\n",
              "  'word2vec': np.float32(0.9999912),\n",
              "  'bow': np.float64(0.26926283944867324)},\n",
              " ('street', 'avenue'): {'wordsim353': np.float64(0.8816067653276954),\n",
              "  'word2vec': np.float32(0.99999404),\n",
              "  'bow': np.float64(0.589970570548114)},\n",
              " ('street', 'block'): {'wordsim353': np.float64(0.6701902748414376),\n",
              "  'word2vec': np.float32(0.99999386),\n",
              "  'bow': np.float64(0.45130149168016775)},\n",
              " ('street', 'children'): {'wordsim353': np.float64(0.46511627906976744),\n",
              "  'word2vec': np.float32(0.99999374),\n",
              "  'bow': np.float64(0.524998357470954)},\n",
              " ('oil', 'stock'): {'wordsim353': np.float64(0.6131078224101479),\n",
              "  'word2vec': np.float32(0.9999921),\n",
              "  'bow': np.float64(0.6207504444291403)},\n",
              " ('announcement', 'production'): {'wordsim353': np.float64(0.3002114164904862),\n",
              "  'word2vec': np.float32(0.9999927),\n",
              "  'bow': np.float64(0.812011723112277)},\n",
              " ('announcement', 'warning'): {'wordsim353': np.float64(0.5771670190274841),\n",
              "  'word2vec': np.float32(0.9999933),\n",
              "  'bow': np.float64(0.7805717734668439)},\n",
              " ('profit', 'warning'): {'wordsim353': np.float64(0.3530655391120507),\n",
              "  'word2vec': np.float32(0.9999926),\n",
              "  'bow': np.float64(0.5541579623541587)},\n",
              " ('profit', 'loss'): {'wordsim353': np.float64(0.7494714587737843),\n",
              "  'word2vec': np.float32(0.9999915),\n",
              "  'bow': np.float64(0.3086747880298566)},\n",
              " ('equipment', 'maker'): {'wordsim353': np.float64(0.5676532769556025),\n",
              "  'word2vec': np.float32(0.99999267),\n",
              "  'bow': np.float64(0.919641175449518)},\n",
              " ('luxury', 'car'): {'wordsim353': np.float64(0.6268498942917546),\n",
              "  'word2vec': np.float32(0.9999939),\n",
              "  'bow': np.float64(0.8458643628443728)},\n",
              " ('five', 'month'): {'wordsim353': np.float64(0.3002114164904862),\n",
              "  'word2vec': np.float32(0.9999946),\n",
              "  'bow': np.float64(0.3196073194081215)},\n",
              " ('report', 'gain'): {'wordsim353': np.float64(0.3266384778012685),\n",
              "  'word2vec': np.float32(0.9999915),\n",
              "  'bow': np.float64(0.24001024700366258)},\n",
              " ('liquid', 'water'): {'wordsim353': np.float64(0.7769556025369978),\n",
              "  'word2vec': np.float32(0.99999386),\n",
              "  'bow': np.float64(0.24518678745362654)},\n",
              " ('game', 'victory'): {'wordsim353': np.float64(0.686046511627907),\n",
              "  'word2vec': np.float32(0.99999243),\n",
              "  'bow': np.float64(0.6621372096968339)},\n",
              " ('game', 'series'): {'wordsim353': np.float64(0.5972515856236786),\n",
              "  'word2vec': np.float32(0.9999938),\n",
              "  'bow': np.float64(0.567470735941669)},\n",
              " ('game', 'defeat'): {'wordsim353': np.float64(0.6797040169133192),\n",
              "  'word2vec': np.float32(0.999994),\n",
              "  'bow': np.float64(0.7295604803471446)},\n",
              " ('seven', 'series'): {'wordsim353': np.float64(0.3192389006342494),\n",
              "  'word2vec': np.float32(0.9999918),\n",
              "  'bow': np.float64(0.6408907539785726)},\n",
              " ('food', 'preparation'): {'wordsim353': np.float64(0.6004228329809724),\n",
              "  'word2vec': np.float32(0.9999937),\n",
              "  'bow': np.float64(0.6487350416663838)},\n",
              " ('start', 'year'): {'wordsim353': np.float64(0.3720930232558139),\n",
              "  'word2vec': np.float32(0.9999925),\n",
              "  'bow': np.float64(0.5847037463812524)},\n",
              " ('start', 'match'): {'wordsim353': np.float64(0.41543340380549676),\n",
              "  'word2vec': np.float32(0.99999106),\n",
              "  'bow': np.float64(0.29248210262161467)},\n",
              " ('game', 'round'): {'wordsim353': np.float64(0.5739957716701902),\n",
              "  'word2vec': np.float32(0.9999934),\n",
              "  'bow': np.float64(0.29805534843912285)},\n",
              " ('summer', 'nature'): {'wordsim353': np.float64(0.5380549682875264),\n",
              "  'word2vec': np.float32(0.99999326),\n",
              "  'bow': np.float64(0.48163439085680004)},\n",
              " ('opera', 'performance'): {'wordsim353': np.float64(0.6701902748414376),\n",
              "  'word2vec': np.float32(0.99999255),\n",
              "  'bow': np.float64(0.017518122556259952)},\n",
              " ('life', 'lesson'): {'wordsim353': np.float64(0.5708245243128964),\n",
              "  'word2vec': np.float32(0.99999213),\n",
              "  'bow': np.float64(0.38917150682406276)},\n",
              " ('production', 'crew'): {'wordsim353': np.float64(0.6035940803382663),\n",
              "  'word2vec': np.float32(0.99998933),\n",
              "  'bow': np.float64(0.9669759583503509)},\n",
              " ('lover', 'quarrel'): {'wordsim353': np.float64(0.5972515856236786),\n",
              "  'word2vec': np.float32(0.9999911),\n",
              "  'bow': np.float64(0.42030053690140334)},\n",
              " ('possibility', 'girl'): {'wordsim353': np.float64(0.14799154334038053),\n",
              "  'word2vec': np.float32(0.99999285),\n",
              "  'bow': np.float64(0.4958205596226638)},\n",
              " ('population', 'development'): {'wordsim353': np.float64(0.33932346723044393),\n",
              "  'word2vec': np.float32(0.99999166),\n",
              "  'bow': np.float64(0.4993998746951276)},\n",
              " ('morality', 'importance'): {'wordsim353': np.float64(0.2928118393234672),\n",
              "  'word2vec': np.float32(0.99999297),\n",
              "  'bow': np.float64(0.5702803526955209)},\n",
              " ('morality', 'marriage'): {'wordsim353': np.float64(0.3329809725158562),\n",
              "  'word2vec': np.float32(0.99999124),\n",
              "  'bow': np.float64(0.40548142941154675)},\n",
              " ('change', 'attitude'): {'wordsim353': np.float64(0.5179704016913319),\n",
              "  'word2vec': np.float32(0.9999913),\n",
              "  'bow': np.float64(0.48888718647068397)},\n",
              " ('opera', 'industry'): {'wordsim353': np.float64(0.2209302325581395),\n",
              "  'word2vec': np.float32(0.9999942),\n",
              "  'bow': np.float64(0.9176972592820755)},\n",
              " ('sugar', 'approach'): {'wordsim353': np.float64(0.03594080338266384),\n",
              "  'word2vec': np.float32(0.9999897),\n",
              "  'bow': np.float64(0.586217158507959)},\n",
              " ('practice', 'institution'): {'wordsim353': np.float64(0.2801268498942917),\n",
              "  'word2vec': np.float32(0.9999914),\n",
              "  'bow': np.float64(0.6033375646940833)},\n",
              " ('ministry', 'culture'): {'wordsim353': np.float64(0.4386892177589852),\n",
              "  'word2vec': np.float32(0.9999935),\n",
              "  'bow': np.float64(0.8546507795375917)},\n",
              " ('problem', 'challenge'): {'wordsim353': np.float64(0.6564482029598308),\n",
              "  'word2vec': np.float32(0.9999943),\n",
              "  'bow': np.float64(0.8259963921476372)},\n",
              " ('country', 'citizen'): {'wordsim353': np.float64(0.715644820295983),\n",
              "  'word2vec': np.float32(0.9999914),\n",
              "  'bow': np.float64(0.7104811864304137)},\n",
              " ('development', 'issue'): {'wordsim353': np.float64(0.36257928118393234),\n",
              "  'word2vec': np.float32(0.99999124),\n",
              "  'bow': np.float64(0.7355390588356918)},\n",
              " ('experience', 'music'): {'wordsim353': np.float64(0.3097251585623679),\n",
              "  'word2vec': np.float32(0.9999934),\n",
              "  'bow': np.float64(0.27778319915445837)},\n",
              " ('music', 'project'): {'wordsim353': np.float64(0.3266384778012685),\n",
              "  'word2vec': np.float32(0.99999154),\n",
              "  'bow': np.float64(0.6673963337742951)},\n",
              " ('glass', 'metal'): {'wordsim353': np.float64(0.5306553911205073),\n",
              "  'word2vec': np.float32(0.9999942),\n",
              "  'bow': np.float64(0.5136970337116576)},\n",
              " ('space', 'world'): {'wordsim353': np.float64(0.6331923890063424),\n",
              "  'word2vec': np.float32(0.9999925),\n",
              "  'bow': np.float64(0.2926803389191698)},\n",
              " ('preservation', 'world'): {'wordsim353': np.float64(0.5972515856236786),\n",
              "  'word2vec': np.float32(0.9999917),\n",
              "  'bow': np.float64(0.45371088489435296)},\n",
              " ('admission', 'ticket'): {'wordsim353': np.float64(0.7558139534883721),\n",
              "  'word2vec': np.float32(0.99999213),\n",
              "  'bow': np.float64(0.39196508804171326)},\n",
              " ('shower', 'flood'): {'wordsim353': np.float64(0.580338266384778),\n",
              "  'word2vec': np.float32(0.9999929),\n",
              "  'bow': np.float64(0.5935022894953306)},\n",
              " ('disaster', 'area'): {'wordsim353': np.float64(0.6035940803382663),\n",
              "  'word2vec': np.float32(0.9999921),\n",
              "  'bow': np.float64(0.987518207584589)},\n",
              " ('governor', 'office'): {'wordsim353': np.float64(0.6131078224101479),\n",
              "  'word2vec': np.float32(0.9999953),\n",
              "  'bow': np.float64(0.6402572160645397)}}"
            ]
          },
          "metadata": {},
          "execution_count": 27
        }
      ]
    },
    {
      "cell_type": "code",
      "source": [
        "mean_squared_error(\n",
        "    # Első lista: a normalizált emberi hasonlósági értékek (Wordsim353 alapján)\n",
        "    [i['wordsim353'] for i in similarities.values()],\n",
        "    # Második lista: a Word2Vec modell által becsült hasonlóságok\n",
        "    [i['word2vec'] for i in similarities.values()],\n",
        ")"
      ],
      "metadata": {
        "colab": {
          "base_uri": "https://localhost:8080/"
        },
        "id": "nQ1SBZNc6rQp",
        "outputId": "d5e83e50-b2b2-4286-b1d8-18c018c3c3f1"
      },
      "execution_count": null,
      "outputs": [
        {
          "output_type": "execute_result",
          "data": {
            "text/plain": [
              "0.2732612243431965"
            ]
          },
          "metadata": {},
          "execution_count": 28
        }
      ]
    },
    {
      "cell_type": "code",
      "source": [
        "mean_squared_error(\n",
        "    # Az ember által adott hasonlósági értékek (Wordsim353), normalizálva 0 és 1 közé\n",
        "    [i['wordsim353'] for i in similarities.values()],\n",
        "    # A TF-IDF (Bag-of-Words) modell által számított hasonlósági értékek (valójában távolságok, de 0-hoz közel jobb)\n",
        "    [i['bow'] for i in similarities.values()],\n",
        ")"
      ],
      "metadata": {
        "colab": {
          "base_uri": "https://localhost:8080/"
        },
        "id": "C-i1a71C6y1B",
        "outputId": "463b4dc1-7ac3-41b2-f341-c9e9f73bd04e"
      },
      "execution_count": null,
      "outputs": [
        {
          "output_type": "execute_result",
          "data": {
            "text/plain": [
              "0.12106403069867468"
            ]
          },
          "metadata": {},
          "execution_count": 29
        }
      ]
    },
    {
      "cell_type": "code",
      "source": [
        "mean_squared_error(\n",
        "    # A TF-IDF (Bag-of-Words) modell által számított hasonlósági értékek (valójában távolságok, tehát kisebb = hasonlóbb)\n",
        "    [i['bow'] for i in similarities.values()],\n",
        "    # A Word2Vec modell által számított hasonlósági értékek (szintén távolságként értelmezve)\n",
        "    [i['word2vec'] for i in similarities.values()],\n",
        ")"
      ],
      "metadata": {
        "colab": {
          "base_uri": "https://localhost:8080/"
        },
        "id": "aDQYtS-z62JW",
        "outputId": "92b8fbb0-cd0b-414d-add5-bad32b98fd32"
      },
      "execution_count": null,
      "outputs": [
        {
          "output_type": "execute_result",
          "data": {
            "text/plain": [
              "0.2369449154068647"
            ]
          },
          "metadata": {},
          "execution_count": 30
        }
      ]
    }
  ],
  "metadata": {
    "colab": {
      "provenance": [],
      "gpuType": "T4"
    },
    "kernelspec": {
      "display_name": "Python 3",
      "name": "python3"
    },
    "language_info": {
      "name": "python"
    },
    "accelerator": "GPU"
  },
  "nbformat": 4,
  "nbformat_minor": 0
}