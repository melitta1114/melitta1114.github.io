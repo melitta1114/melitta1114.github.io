{
    "metadata": {
        "kernelspec": {
            "name": "SQL",
            "display_name": "SQL",
            "language": "sql"
        },
        "language_info": {
            "name": "sql",
            "version": ""
        }
    },
    "nbformat_minor": 2,
    "nbformat": 4,
    "cells": [
        {
            "cell_type": "markdown",
            "source": [
                "**Név: Veres Melitta-Kinga**\n",
                "\n",
                "**Nr. matricol: 4447**"
            ],
            "metadata": {
                "azdata_cell_guid": "5c96c130-9dfd-4160-884b-b9bc9cf2f06c"
            },
            "attachments": {}
        },
        {
            "cell_type": "markdown",
            "source": [
                "1. A **lab2/6. feladatot** módosítsuk a következő módon:\n",
                "\n",
                "\\-Hirdessünk **tranzakciót** a tárolt eljárásban: vagy minden beszúrást hajtson végre a rendszer, vagy egyiket sem!\n",
                "\n",
                "\\-Az adatok adatbázisban való meglétének ellenőrzését, az ID-k tárolását stb. oldjuk meg a lehető legkevesebb lekérdezés segítségével (használjunk lokális változókat)!\n",
                "\n",
                "\\-Minden beszúrás esetén **ellenőrizzük le**, hogy megtörtént-e a beszúrás. Ha nem, hiba(!)üzenet kiíratása mellett térjünk vissza -1-el a tárolt eljárásból (visszatérítési(!) érték).\n",
                "\n",
                "\\-**Fejezzük be minden esetben (pl. feltételes utasítások minden ágán) megfelelően a tranzakciót!**"
            ],
            "metadata": {
                "azdata_cell_guid": "f8f5fbd6-029c-418d-87dd-26ce0a001bb4"
            },
            "attachments": {}
        },
        {
            "cell_type": "code",
            "source": [
                "CREATE OR ALTER PROCEDURE Kocsmabeszuras\r\n",
                "    @pKocsmaNev VARCHAR(20),\r\n",
                "    @pCim VARCHAR(30),\r\n",
                "    @pNyitasDatuma DATE,\r\n",
                "    @pBaratNev VARCHAR(30),\r\n",
                "    @pBaratEmail VARCHAR(20),\r\n",
                "    @pItalTipNev VARCHAR(10),\r\n",
                "    @pItalNev VARCHAR(20),\r\n",
                "    @pAr REAL\r\n",
                "AS\r\n",
                "BEGIN\r\n",
                "    SET NOCOUNT ON;\r\n",
                "    DECLARE @vUjKocsmaID INT;\r\n",
                "    DECLARE @vUjItalID INT;\r\n",
                "    DECLARE @vUjItalTipID INT;\r\n",
                "    DECLARE @vBeszurasSikeres BIT = 1;\r\n",
                "\r\n",
                "    BEGIN TRY\r\n",
                "        BEGIN TRANSACTION;\r\n",
                "\r\n",
                "        IF EXISTS (SELECT Nev FROM Kocsmak WHERE Nev = @pKocsmaNev)\r\n",
                "        BEGIN\r\n",
                "            RAISERROR('A megadott kocsma már létezik az adatbázisban.', 8, 1);\r\n",
                "            SET @vBeszurasSikeres = 0;\r\n",
                "        END\r\n",
                "        ELSE\r\n",
                "        BEGIN\r\n",
                "            \r\n",
                "            IF NOT EXISTS (SELECT Nev FROM Baratok WHERE Nev = @pBaratNev)\r\n",
                "                INSERT INTO Baratok (Nev, Email) VALUES (@pBaratNev, @pBaratEmail);\r\n",
                "\r\n",
                "            IF NOT EXISTS (SELECT TipusNev FROM ItalTipusok WHERE TipusNev = @pItalTipNev)\r\n",
                "                INSERT INTO ItalTipusok (TipusNev) VALUES (@pItalTipNev);\r\n",
                "\r\n",
                "            IF NOT EXISTS (SELECT Nev FROM Italok WHERE Nev = @pItalNev)\r\n",
                "            BEGIN\r\n",
                "                SET @vUjItalTipID = (SELECT TipusID FROM ItalTipusok WHERE TipusNev = @pItalTipNev);\r\n",
                "                INSERT INTO Italok (Nev, TipusID) VALUES (@pItalNev, @vUjItalTipID);\r\n",
                "            END\r\n",
                "\r\n",
                "            \r\n",
                "            INSERT INTO Kocsmak (Nev, Cim, NyitasDatuma) VALUES (@pKocsmaNev, @pCim, @pNyitasDatuma);\r\n",
                "\r\n",
                "            \r\n",
                "            SET @vUjKocsmaID = (SELECT KocsmaID FROM Kocsmak WHERE Nev = @pKocsmaNev);\r\n",
                "            SET @vUjItalID = (SELECT ItalID FROM Italok WHERE Nev = @pItalNev);\r\n",
                "\r\n",
                "\r\n",
                "            INSERT INTO Arak (Ar, KocsmaID, ItalID) VALUES (@pAr, @vUjKocsmaID, @vUjItalID);\r\n",
                "\r\n",
                "        END\r\n",
                "    END TRY\r\n",
                "    BEGIN CATCH\r\n",
                "        SET @vBeszurasSikeres = 0;\r\n",
                "        SELECT\r\n",
                "            ERROR_NUMBER() AS ErrNum,\r\n",
                "            ERROR_MESSAGE() AS ErrMsg,\r\n",
                "            ERROR_STATE() AS ErrState,\r\n",
                "            ERROR_SEVERITY() AS ErrSeverity,\r\n",
                "            ERROR_LINE() AS ErrLine,\r\n",
                "            ERROR_PROCEDURE() AS ErrProcedure;\r\n",
                "        ROLLBACK TRANSACTION;\r\n",
                "    END CATCH;\r\n",
                "\r\n",
                "    IF @vBeszurasSikeres = 1\r\n",
                "        COMMIT TRANSACTION;\r\n",
                "    ELSE\r\n",
                "        ROLLBACK TRANSACTION;\r\n",
                "\r\n",
                "    RETURN CASE WHEN @vBeszurasSikeres = 1 THEN 0 ELSE -1 END;\r\n",
                "END"
            ],
            "metadata": {
                "azdata_cell_guid": "6244cfaa-13cc-4bf5-9f17-47851fcfc961",
                "language": "sql"
            },
            "outputs": [
                {
                    "output_type": "display_data",
                    "data": {
                        "text/html": "Commands completed successfully."
                    },
                    "metadata": {}
                },
                {
                    "output_type": "display_data",
                    "data": {
                        "text/html": "Batch execution time: 00:00:00.015"
                    },
                    "metadata": {}
                },
                {
                    "output_type": "display_data",
                    "data": {
                        "text/html": "Total execution time: 00:00:00.015"
                    },
                    "metadata": {}
                }
            ],
            "execution_count": 40
        },
        {
            "cell_type": "code",
            "source": [
                "GO\r\n",
                "EXEC KocsmaBeszuras \r\n",
                "@pKocsmaNev='EE',\r\n",
                "@pCim='Cim Hibrid',\r\n",
                "@pNyitasDatuma='2023-11-10',\r\n",
                "@pBaratNev='Vajk',\r\n",
                "@pBaratEmail='vajk@yahoo.com',\r\n",
                "@pItalTipNev='kave',\r\n",
                "@pItalNev='espresso',\r\n",
                "@pAr=10\r\n",
                ""
            ],
            "metadata": {
                "azdata_cell_guid": "7e7ac3c2-cfaa-47be-812d-d3509eed6e38",
                "language": "sql"
            },
            "outputs": [
                {
                    "output_type": "display_data",
                    "data": {
                        "text/html": "Commands completed successfully."
                    },
                    "metadata": {}
                },
                {
                    "output_type": "display_data",
                    "data": {
                        "text/html": "Batch execution time: 00:00:00.043"
                    },
                    "metadata": {}
                },
                {
                    "output_type": "display_data",
                    "data": {
                        "text/html": "Total execution time: 00:00:00.043"
                    },
                    "metadata": {}
                }
            ],
            "execution_count": 5
        },
        {
            "cell_type": "markdown",
            "source": [
                "**2\\. a.** **Szúrjuk be** <span style=\"color: rgb(45, 59, 69); font-family: LatoWeb, &quot;Helvetica Neue&quot;, Helvetica, Arial, sans-serif; font-size: 16px; background-color: rgb(255, 255, 255);\">a Kedveltseg mezőt a Kocsmak táblába, ahol Kedveltseg-INT típusú mező, 0-5 közötti értékeket vehet fel, alapértelmezés szerinti értéke 0.</span>"
            ],
            "metadata": {
                "azdata_cell_guid": "a0f46543-45b8-4596-89ed-0aabfe90b659"
            },
            "attachments": {}
        },
        {
            "cell_type": "code",
            "source": [
                "CREATE OR ALTER PROCEDURE Kedveltseg\r\n",
                "AS\r\n",
                "BEGIN\r\n",
                "    SET NOCOUNT ON;\r\n",
                "\r\n",
                "    SET TRANSACTION ISOLATION LEVEL SERIALIZABLE;\r\n",
                "\r\n",
                "    BEGIN TRY\r\n",
                "        BEGIN TRANSACTION;\r\n",
                "\r\n",
                "        IF NOT EXISTS (SELECT * FROM INFORMATION_SCHEMA.COLUMNS WHERE TABLE_NAME = 'Kocsmak' AND COLUMN_NAME = 'Kedveltseg')\r\n",
                "        BEGIN\r\n",
                "            ALTER TABLE [dbo].[Kocsmak]\r\n",
                "            ADD Kedveltseg INT NOT NULL DEFAULT 0 CHECK (Kedveltseg >= 0 AND Kedveltseg <= 5);\r\n",
                "\r\n",
                "            IF @@ERROR <> 0\r\n",
                "            BEGIN \r\n",
                "                RAISERROR('Hiba történt az oszlop létrehozása során!', 8, 1);\r\n",
                "                RETURN;\r\n",
                "            END\r\n",
                "        END\r\n",
                "\r\n",
                "        UPDATE [dbo].[Kocsmak]\r\n",
                "        SET Kedveltseg = 0;\r\n",
                "\r\n",
                "        IF @@ERROR <> 0\r\n",
                "        BEGIN \r\n",
                "            RAISERROR('Hiba történt a kedveltseg frissítése során!', 8, 1);\r\n",
                "        END\r\n",
                "\r\n",
                "        COMMIT TRANSACTION;\r\n",
                "    END TRY\r\n",
                "    BEGIN CATCH\r\n",
                "        SELECT\r\n",
                "            ERROR_NUMBER()  AS ErrNum,\r\n",
                "            ERROR_MESSAGE()  AS ErrMsg,\r\n",
                "            ERROR_STATE() AS ErrState,\r\n",
                "            ERROR_SEVERITY() AS ErrSeverity,\r\n",
                "            ERROR_LINE() AS ErrLine,\r\n",
                "            ERROR_PROCEDURE() AS ErrProcedure;\r\n",
                "\r\n",
                "        ROLLBACK TRANSACTION;\r\n",
                "    END CATCH;\r\n",
                "END\r\n",
                ""
            ],
            "metadata": {
                "azdata_cell_guid": "8fdb42b9-6919-4749-81c0-5144a1c95ca1",
                "language": "sql"
            },
            "outputs": [
                {
                    "output_type": "display_data",
                    "data": {
                        "text/html": "Commands completed successfully."
                    },
                    "metadata": {}
                },
                {
                    "output_type": "display_data",
                    "data": {
                        "text/html": "Batch execution time: 00:00:00.004"
                    },
                    "metadata": {}
                },
                {
                    "output_type": "display_data",
                    "data": {
                        "text/html": "Total execution time: 00:00:00.004"
                    },
                    "metadata": {}
                }
            ],
            "execution_count": 38
        },
        {
            "cell_type": "code",
            "source": [
                "GO\r\n",
                "EXEC Kedveltseg "
            ],
            "metadata": {
                "azdata_cell_guid": "34731d30-4894-4185-a56e-8eea58171331",
                "language": "sql"
            },
            "outputs": [
                {
                    "output_type": "display_data",
                    "data": {
                        "text/html": "Commands completed successfully."
                    },
                    "metadata": {}
                },
                {
                    "output_type": "display_data",
                    "data": {
                        "text/html": "Batch execution time: 00:00:00.054"
                    },
                    "metadata": {}
                },
                {
                    "output_type": "display_data",
                    "data": {
                        "text/html": "Total execution time: 00:00:00.054"
                    },
                    "metadata": {}
                }
            ],
            "execution_count": 9
        },
        {
            "cell_type": "markdown",
            "source": [
                "2. **b.** Írjunk **tárolt eljárást**, mely minden kocsma esetén beállítja a Kedveltseg mező értékét annak megfelelően, hogy hány barátunk adott neki 2-nél nagyobb értékelést:\n",
                "\n",
                "- Barátok száma \\< = 4  **(0 is lehet!)** –\\> Kedveltseg = 1;\n",
                "- Barátok száma \\> 4 és \\<= 10  –\\> Kedveltseg = 2;\n",
                "- Barátok száma \\> 10 és \\<= 20  –\\> Kedveltseg = 3;\n",
                "- Barátok száma \\> 20 és \\<= 30  –\\> Kedveltseg = 4;\n",
                "- Barátok száma \\> 30  –\\> Kedveltseg = 5;"
            ],
            "metadata": {
                "azdata_cell_guid": "57238394-ddf9-4458-8f9e-37e59f88cff0"
            },
            "attachments": {}
        },
        {
            "cell_type": "code",
            "source": [
                "CREATE OR ALTER PROCEDURE Kedveltsegbeallitasa\r\n",
                "AS\r\n",
                "BEGIN\r\n",
                "    SET NOCOUNT ON;\r\n",
                "\r\n",
                "    SET TRANSACTION ISOLATION LEVEL SERIALIZABLE;\r\n",
                "\r\n",
                "    BEGIN TRY\r\n",
                "        BEGIN TRANSACTION kedveltsegbeallitasa;\r\n",
                "\r\n",
                "        DECLARE @KocsmaID INT, @BaratokSzama INT;\r\n",
                "\r\n",
                "        DECLARE kocsmak_cursor CURSOR FOR\r\n",
                "        SELECT KocsmaID, COUNT(*) AS BaratokSzama\r\n",
                "        FROM Kedvencek\r\n",
                "        WHERE Ertekeles >= 2\r\n",
                "        GROUP BY KocsmaID;\r\n",
                "\r\n",
                "        OPEN kocsmak_cursor;\r\n",
                "\r\n",
                "        FETCH NEXT FROM kocsmak_cursor INTO @KocsmaID, @BaratokSzama;\r\n",
                "\r\n",
                "        WHILE @@FETCH_STATUS = 0\r\n",
                "        BEGIN\r\n",
                "            UPDATE Kocsmak\r\n",
                "            SET Kedveltseg = \r\n",
                "                CASE\r\n",
                "                    WHEN @BaratokSzama <= 4 THEN 1\r\n",
                "                    WHEN @BaratokSzama > 4 AND @BaratokSzama <= 10 THEN 2\r\n",
                "                    WHEN @BaratokSzama > 10 AND @BaratokSzama <= 20 THEN 3\r\n",
                "                    WHEN @BaratokSzama > 20 AND @BaratokSzama <= 30 THEN 4\r\n",
                "                    WHEN @BaratokSzama > 30 THEN 5\r\n",
                "                END\r\n",
                "            WHERE KocsmaID = @KocsmaID;\r\n",
                "\r\n",
                "            FETCH NEXT FROM kocsmak_cursor INTO @KocsmaID, @BaratokSzama;\r\n",
                "        END\r\n",
                "\r\n",
                "        CLOSE kocsmak_cursor;\r\n",
                "\r\n",
                "        DEALLOCATE kocsmak_cursor;\r\n",
                "\r\n",
                "        COMMIT TRANSACTION kedveltsegbeallitasa;\r\n",
                "    END TRY\r\n",
                "    BEGIN CATCH\r\n",
                "        SELECT\r\n",
                "            ERROR_NUMBER()  AS ErrNum,\r\n",
                "            ERROR_MESSAGE()  AS ErrMsg,\r\n",
                "            ERROR_STATE() AS ErrState,\r\n",
                "            ERROR_SEVERITY() AS ErrSeverity,\r\n",
                "            ERROR_LINE() AS ErrLine,\r\n",
                "            ERROR_PROCEDURE() AS ErrProcedure;\r\n",
                "\r\n",
                "        ROLLBACK TRANSACTION kedveltsegbeallitasa;\r\n",
                "    END CATCH;\r\n",
                "END\r\n",
                ""
            ],
            "metadata": {
                "azdata_cell_guid": "da1db7fe-c83b-4e9c-aca7-832dc081372a",
                "language": "sql"
            },
            "outputs": [
                {
                    "output_type": "display_data",
                    "data": {
                        "text/html": "Commands completed successfully."
                    },
                    "metadata": {}
                },
                {
                    "output_type": "display_data",
                    "data": {
                        "text/html": "Batch execution time: 00:00:00.035"
                    },
                    "metadata": {}
                },
                {
                    "output_type": "display_data",
                    "data": {
                        "text/html": "Total execution time: 00:00:00.035"
                    },
                    "metadata": {}
                }
            ],
            "execution_count": 10
        },
        {
            "cell_type": "code",
            "source": [
                "GO\r\n",
                "EXEC Kedveltsegbeallitasa"
            ],
            "metadata": {
                "azdata_cell_guid": "1c62985d-2216-4e2f-81cb-4ce2425fe6a6",
                "language": "sql"
            },
            "outputs": [
                {
                    "output_type": "display_data",
                    "data": {
                        "text/html": "Commands completed successfully."
                    },
                    "metadata": {}
                },
                {
                    "output_type": "display_data",
                    "data": {
                        "text/html": "Batch execution time: 00:00:00.040"
                    },
                    "metadata": {}
                },
                {
                    "output_type": "display_data",
                    "data": {
                        "text/html": "Total execution time: 00:00:00.040"
                    },
                    "metadata": {}
                }
            ],
            "execution_count": 11
        },
        {
            "cell_type": "markdown",
            "source": [
                "<span style=\"color: rgb(45, 59, 69); font-family: LatoWeb, &quot;Helvetica Neue&quot;, Helvetica, Arial, sans-serif; font-size: 16px; background-color: rgb(255, 255, 255);\">3. Írjunk INSERT és DELETE triggert, mely a Kedvencek táblába való beszúrás illetve törlés esetén aktualizálja a Kocsmak tábla Kedveltseg mezőjének értékét! Fontos! Nem elfogadott megoldás: ha a triggeren belül egyszerűen csak meghívjuk a 2. feladatban megírt tárolt eljárást!</span>"
            ],
            "metadata": {
                "azdata_cell_guid": "65290269-60e0-40e1-923e-7e8c4fb260b0"
            },
            "attachments": {}
        },
        {
            "cell_type": "code",
            "source": [
                "/*mukodik egyszerre tobb sorra*/\r\n",
                "CREATE TRIGGER tr_insert_delete_Kedvencek\r\n",
                "ON Kedvencek\r\n",
                "AFTER INSERT, DELETE\r\n",
                "AS\r\n",
                "BEGIN\r\n",
                "\r\n",
                "    UPDATE Kocsmak\r\n",
                "    SET Kedveltseg = \r\n",
                "        CASE\r\n",
                "            WHEN (SELECT COUNT(*) FROM Kedvencek WHERE Kedvencek.KocsmaID = Kocsmak.KocsmaID AND Kedvencek.Ertekeles >= 2) <= 4 THEN 1\r\n",
                "            WHEN (SELECT COUNT(*) FROM Kedvencek WHERE Kedvencek.KocsmaID = Kocsmak.KocsmaID AND Kedvencek.Ertekeles >= 2) > 4 AND (SELECT COUNT(*) FROM Kedvencek WHERE Kedvencek.KocsmaID = Kocsmak.KocsmaID AND Kedvencek.Ertekeles >= 2) <= 10 THEN 2\r\n",
                "            WHEN (SELECT COUNT(*) FROM Kedvencek WHERE Kedvencek.KocsmaID = Kocsmak.KocsmaID AND Kedvencek.Ertekeles >= 2) > 10 AND (SELECT COUNT(*) FROM Kedvencek WHERE Kedvencek.KocsmaID = Kocsmak.KocsmaID AND Kedvencek.Ertekeles >= 2) <= 20 THEN 3\r\n",
                "            WHEN (SELECT COUNT(*) FROM Kedvencek WHERE Kedvencek.KocsmaID = Kocsmak.KocsmaID AND Kedvencek.Ertekeles >= 2) > 20 AND (SELECT COUNT(*) FROM Kedvencek WHERE Kedvencek.KocsmaID = Kocsmak.KocsmaID AND Kedvencek.Ertekeles >= 2) <= 30 THEN 4\r\n",
                "            WHEN (SELECT COUNT(*) FROM Kedvencek WHERE Kedvencek.KocsmaID = Kocsmak.KocsmaID AND Kedvencek.Ertekeles >= 2) > 30 THEN 5\r\n",
                "        END\r\n",
                "    FROM Kocsmak\r\n",
                "    INNER JOIN (SELECT KocsmaID FROM INSERTED UNION SELECT KocsmaID FROM DELETED) AS Kedvencek ON Kocsmak.KocsmaID = Kedvencek.KocsmaID;\r\n",
                "END;\r\n",
                "GO\r\n",
                ""
            ],
            "metadata": {
                "azdata_cell_guid": "3597128e-33bb-4396-a58f-e97d00d55c81",
                "language": "sql"
            },
            "outputs": [
                {
                    "output_type": "display_data",
                    "data": {
                        "text/html": "Commands completed successfully."
                    },
                    "metadata": {}
                },
                {
                    "output_type": "display_data",
                    "data": {
                        "text/html": "Batch execution time: 00:00:00.010"
                    },
                    "metadata": {}
                },
                {
                    "output_type": "display_data",
                    "data": {
                        "text/html": "Total execution time: 00:00:00.010"
                    },
                    "metadata": {}
                }
            ],
            "execution_count": 44
        },
        {
            "cell_type": "markdown",
            "source": [
                "4. **a.** Módositsuk az adatbázisunkat a következő módon:\n",
                "\n",
                "- Keszitsünk egy Eladasok táblát mely a naponta eladott termékeket tartalmazza egy illető Kocsmában: ItalID:Int, KocsmaID:Int, Mennyiseg:Int , Egysegar: float, Datum:Date(aktuális dátum alapértelmezett értékkel) Az elsődleges kulcs legyen a KocsmaID, ItalID, Datum összetett kulcs valamint a KocsmaID és ItalID külső kulcsok."
            ],
            "metadata": {
                "azdata_cell_guid": "a1c621be-00b2-45df-8dc0-051e8218b50f"
            },
            "attachments": {}
        },
        {
            "cell_type": "code",
            "source": [
                "CREATE TABLE Eladasok (\r\n",
                "    KocsmaID INT,\r\n",
                "    ItalID INT,\r\n",
                "    Datum DATE DEFAULT GETDATE(),\r\n",
                "    Mennyiseg INT,\r\n",
                "    Egysegar FLOAT,\r\n",
                "    PRIMARY KEY (KocsmaID, ItalID, Datum),\r\n",
                "    FOREIGN KEY (KocsmaID) REFERENCES Kocsmak(KocsmaID),\r\n",
                "    FOREIGN KEY (ItalID) REFERENCES Italok(ItalID)\r\n",
                ");\r\n",
                ""
            ],
            "metadata": {
                "azdata_cell_guid": "16315b29-b8b7-4dd6-8cd6-445dac2e445b",
                "language": "sql"
            },
            "outputs": [
                {
                    "output_type": "display_data",
                    "data": {
                        "text/html": "Commands completed successfully."
                    },
                    "metadata": {}
                },
                {
                    "output_type": "display_data",
                    "data": {
                        "text/html": "Batch execution time: 00:00:00.011"
                    },
                    "metadata": {}
                },
                {
                    "output_type": "display_data",
                    "data": {
                        "text/html": "Total execution time: 00:00:00.011"
                    },
                    "metadata": {}
                }
            ],
            "execution_count": 45
        },
        {
            "cell_type": "markdown",
            "source": [
                "4. **b.**  <span style=\"color: rgb(45, 59, 69); font-family: LatoWeb, &quot;Helvetica Neue&quot;, Helvetica, Arial, sans-serif; font-size: 16px; background-color: rgb(255, 255, 255);\">&nbsp;Írj tárolt eljárást mely felvezet az Eladások táblába. A tárolt eljárás paraméterei: @KocsmaNev, @ItalNev,&nbsp; @ItalTipusNev, @Mennyiseg, @EgysegAr. A tárolt eljárás ellenőrizze, a kocsma létezését,&nbsp; ha nem létezik hibát jelezve lépjen ki, valamint, hogy az eladott mennyiség pozitív. Ha az&nbsp;</span>  <span style=\"color: rgb(45, 59, 69); font-family: LatoWeb, &quot;Helvetica Neue&quot;, Helvetica, Arial, sans-serif; font-size: 16px; background-color: rgb(255, 255, 255);\">@ItalNev</span>  <span style=\"color: rgb(45, 59, 69); font-family: LatoWeb, &quot;Helvetica Neue&quot;, Helvetica, Arial, sans-serif; font-size: 16px; background-color: rgb(255, 255, 255);\">&nbsp;vagy a hozzá tartozó</span> <span style=\"color: rgb(45, 59, 69); font-family: LatoWeb, &quot;Helvetica Neue&quot;, Helvetica, Arial, sans-serif; font-size: 16px; background-color: rgb(255, 255, 255);\">@ItalTipusNev típusú ital&nbsp;</span>  <span style=\"color: rgb(45, 59, 69); font-family: LatoWeb, &quot;Helvetica Neue&quot;, Helvetica, Arial, sans-serif; font-size: 16px; background-color: rgb(255, 255, 255);\">nem létezik kerüljon felvezetésre az Italok és ItalTipusok táblába valamint a megadott @EgysegAr-al az Arak táblába is. Abban az esetben ha létezik, frissítse az Arak.Ar mezőjét az uj értékkel ha az változott. Az eladás felvezetésekor az eladás Dátuma legyen az aktuális dátum. Végül frissítse a kocsma bevételét hozzáadva a @Mennyiseg * @EgysegAr erteket.</span>"
            ],
            "metadata": {
                "azdata_cell_guid": "12bc3bef-32e8-437c-a7cc-d56bbbd90fc3"
            },
            "attachments": {}
        },
        {
            "cell_type": "code",
            "source": [
                "CREATE PROCEDURE Eladastfelvezetniii\r\n",
                "    @KocsmaNev VARCHAR(30),\r\n",
                "    @ItalNev VARCHAR(30),\r\n",
                "    @ItalTipusNev VARCHAR(30),\r\n",
                "    @Mennyiseg INT,\r\n",
                "    @EgysegAr FLOAT\r\n",
                "AS\r\n",
                "BEGIN\r\n",
                "    SET NOCOUNT ON;\r\n",
                "\r\n",
                "    DECLARE @KocsmaID INT;\r\n",
                "    SELECT @KocsmaID = KocsmaID FROM Kocsmak WHERE Nev = @KocsmaNev;\r\n",
                "\r\n",
                "    IF @KocsmaID IS NULL\r\n",
                "    BEGIN\r\n",
                "        RAISERROR ('Hiba: A megadott kocsmának nincs bejegyzése!', 8, 1);\r\n",
                "        RETURN;\r\n",
                "    END\r\n",
                "\r\n",
                "    IF @Mennyiseg <= 0\r\n",
                "    BEGIN\r\n",
                "        RAISERROR('Hiba: Az eladott mennyiségnek pozitívnak kell lennie!', 16, 1);\r\n",
                "        RETURN;\r\n",
                "    END\r\n",
                "\r\n",
                "    DECLARE @ItalID INT;\r\n",
                "    SELECT @ItalID = ItalID\r\n",
                "    FROM Italok i\r\n",
                "    JOIN ItalTipusok t ON i.TipusID = t.TipusID\r\n",
                "    WHERE Nev = @ItalNev AND TipusNev = @ItalTipusNev;\r\n",
                "\r\n",
                "    DECLARE @TipusID INT;\r\n",
                "    SELECT @TipusID = TipusID FROM ItalTipusok WHERE TipusNev = @ItalTipusNev;\r\n",
                "\r\n",
                "    IF @TipusID IS NULL\r\n",
                "    BEGIN\r\n",
                "        INSERT INTO ItalTipusok (TipusNev) VALUES (@ItalTipusNev);\r\n",
                "        SELECT @TipusID = TipusID FROM ItalTipusok WHERE TipusNev=@ItalTipusNev;\r\n",
                "    END\r\n",
                "\r\n",
                "    IF @ItalID IS NULL\r\n",
                "    BEGIN\r\n",
                "        INSERT INTO Italok (Nev, TipusID) VALUES (@ItalNev, @TipusID);\r\n",
                "        SELECT @ItalID = ItalID FROM Italok WHERE Nev=@ItalNev;\r\n",
                "    END\r\n",
                "\r\n",
                "    DECLARE @Ar FLOAT;\r\n",
                "    SELECT @Ar = Ar FROM Arak WHERE ItalID = @ItalID;\r\n",
                "\r\n",
                "    IF @Ar IS NULL\r\n",
                "    BEGIN\r\n",
                "        INSERT INTO Arak (ItalID, Ar, KocsmaID) VALUES (@ItalID, @EgysegAr, @KocsmaID);\r\n",
                "    END\r\n",
                "    ELSE\r\n",
                "    BEGIN\r\n",
                "        IF @EgysegAr <> (SELECT Ar FROM Arak WHERE ItalID = @ItalID)\r\n",
                "        BEGIN\r\n",
                "            UPDATE Arak SET Ar = @EgysegAr WHERE ItalID = @ItalID;\r\n",
                "        END\r\n",
                "    END\r\n",
                "\r\n",
                "    IF @ItalID IS NOT NULL\r\n",
                "    BEGIN\r\n",
                "        INSERT INTO Eladasok (KocsmaID, ItalID, Mennyiseg, Egysegar, Datum)\r\n",
                "        VALUES (@KocsmaID, @ItalID, @Mennyiseg, @EgysegAr, GETDATE());\r\n",
                "\r\n",
                "        UPDATE Kocsmak\r\n",
                "        SET Bevetel = Bevetel + (@Mennyiseg * @EgysegAr)\r\n",
                "        WHERE KocsmaID = @KocsmaID;\r\n",
                "    END\r\n",
                "END;\r\n",
                ""
            ],
            "metadata": {
                "azdata_cell_guid": "9e9fd799-0cc7-45df-a5ca-b5a0ac632e56",
                "language": "sql"
            },
            "outputs": [
                {
                    "output_type": "display_data",
                    "data": {
                        "text/html": "Commands completed successfully."
                    },
                    "metadata": {}
                },
                {
                    "output_type": "display_data",
                    "data": {
                        "text/html": "Batch execution time: 00:00:00.016"
                    },
                    "metadata": {}
                },
                {
                    "output_type": "display_data",
                    "data": {
                        "text/html": "Total execution time: 00:00:00.016"
                    },
                    "metadata": {}
                }
            ],
            "execution_count": 56
        },
        {
            "cell_type": "code",
            "source": [
                "GO\r\n",
                "EXEC Eladastfelvezetniii\r\n",
                "@KocsmaNev='kocsma',\r\n",
                "@ItalNev='Hugo',\r\n",
                "@ItalTipusNev='pezsgo',\r\n",
                "@Mennyiseg=-1,\r\n",
                "@Egysegar=10;"
            ],
            "metadata": {
                "azdata_cell_guid": "82c70215-3e0e-4c96-bcbb-b9e036e952da",
                "language": "sql"
            },
            "outputs": [
                {
                    "output_type": "display_data",
                    "data": {
                        "text/html": "Msg 50000, Level 8, State 1, Procedure Eladastfelvezetniii, Line 16\r\nHiba: A megadott kocsmának nincs bejegyzése!"
                    },
                    "metadata": {}
                },
                {
                    "output_type": "display_data",
                    "data": {
                        "text/html": "Batch execution time: 00:00:00.019"
                    },
                    "metadata": {}
                },
                {
                    "output_type": "display_data",
                    "data": {
                        "text/html": "Total execution time: 00:00:00.019"
                    },
                    "metadata": {}
                }
            ],
            "execution_count": 61
        }
    ]
}