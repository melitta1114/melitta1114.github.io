{
    "metadata": {
        "kernelspec": {
            "name": "SQL",
            "display_name": "SQL",
            "language": "sql"
        },
        "language_info": {
            "name": "sql",
            "version": ""
        }
    },
    "nbformat_minor": 2,
    "nbformat": 4,
    "cells": [
        {
            "cell_type": "markdown",
            "source": [
                "### **Nev: Veres Melitta-Kinga**\n",
                "\n",
                "**Azonosito: vmgi4447**"
            ],
            "metadata": {
                "azdata_cell_guid": "a3652ffb-9495-439a-b55f-98bc26984983"
            },
            "attachments": {}
        },
        {
            "cell_type": "markdown",
            "source": [
                "1.Í<span style=\"color: rgb(45, 59, 69); font-family: LatoWeb, &quot;Helvetica Neue&quot;, Helvetica, Arial, sans-serif; font-size: 16px; background-color: rgb(255, 255, 255);\">rjunk&nbsp;</span>  **tárolt eljárást**<span style=\"color: rgb(45, 59, 69); font-family: LatoWeb, &quot;Helvetica Neue&quot;, Helvetica, Arial, sans-serif; font-size: 16px; background-color: rgb(255, 255, 255);\">, amely meghatározza azokat a kocsmákat, amelyekben legalább&nbsp;2 olyan&nbsp;italt árulnak, mint a paraméterként megadott kocsma (@KocsmaNev varchar(30) típusú)! Ha nincs ilyen kocsma, írjunk ki hibaüzenetet, majd szúrjuk be a kocsmát az adatbázisba!</span>"
            ],
            "metadata": {
                "azdata_cell_guid": "3029bd64-fe2e-4430-aa54-d4301ece11b1"
            },
            "attachments": {}
        },
        {
            "cell_type": "code",
            "source": [
                "CREATE OR ALTER PROCEDURE KocsmaItalok\r\n",
                "@KocsmaNev VARCHAR(30)\r\n",
                "AS\r\n",
                "BEGIN\r\n",
                "    IF @KocsmaNev IS NULL\r\n",
                "    BEGIN\r\n",
                "        PRINT @KocsmaNev + ' nem letezik'\r\n",
                "        INSERT INTO Kocsmak(Nev) VALUES (@KocsmaNev)\r\n",
                "    END\r\n",
                "    ELSE\r\n",
                "    BEGIN\r\n",
                "        CREATE TABLE #Italnevek(Italok VARCHAR(30))\r\n",
                "\r\n",
                "        INSERT #Italnevek(Italok)\r\n",
                "        SELECT i.Nev FROM Kocsmak k \r\n",
                "        LEFT JOIN Arak a ON k.KocsmaID = a.KocsmaID\r\n",
                "        LEFT JOIN Italok i ON a.ItalID = i.ItalID\r\n",
                "        WHERE k.Nev = @KocsmaNev\r\n",
                "\r\n",
                "        CREATE TABLE #Eredmeny(Nev VARCHAR(30))\r\n",
                "        INSERT #Eredmeny(Nev)\r\n",
                "        SELECT k.Nev\r\n",
                "        FROM Kocsmak k \r\n",
                "        LEFT JOIN Arak a ON k.KocsmaID = a.KocsmaID\r\n",
                "        LEFT JOIN Italok i ON a.ItalID = i.ItalID\r\n",
                "        WHERE i.Nev IN (SELECT Italok FROM #Italnevek)\r\n",
                "        GROUP BY k.Nev\r\n",
                "        HAVING COUNT(i.Nev) >= 2\r\n",
                "        SELECT * FROM #Eredmeny\r\n",
                "    END\r\n",
                "END"
            ],
            "metadata": {
                "azdata_cell_guid": "09da4fe3-0616-4ce5-b324-901141591b7b",
                "language": "sql"
            },
            "outputs": [
                {
                    "output_type": "display_data",
                    "data": {
                        "text/html": "Commands completed successfully."
                    },
                    "metadata": {}
                },
                {
                    "output_type": "display_data",
                    "data": {
                        "text/html": "Batch execution time: 00:00:00.015"
                    },
                    "metadata": {}
                },
                {
                    "output_type": "display_data",
                    "data": {
                        "text/html": "Total execution time: 00:00:00.015"
                    },
                    "metadata": {}
                }
            ],
            "execution_count": 2
        },
        {
            "cell_type": "code",
            "source": [
                "EXEC KocsmaItalok @KocsmaNev = 'Frederico Sawley'"
            ],
            "metadata": {
                "azdata_cell_guid": "e18ebf99-3873-4173-b179-22ad72e9b4db",
                "language": "sql"
            },
            "outputs": [
                {
                    "output_type": "display_data",
                    "data": {
                        "text/html": "(7 rows affected)"
                    },
                    "metadata": {}
                },
                {
                    "output_type": "display_data",
                    "data": {
                        "text/html": "(6 rows affected)"
                    },
                    "metadata": {}
                },
                {
                    "output_type": "display_data",
                    "data": {
                        "text/html": "(6 rows affected)"
                    },
                    "metadata": {}
                },
                {
                    "output_type": "display_data",
                    "data": {
                        "text/html": "Batch execution time: 00:00:00.119"
                    },
                    "metadata": {}
                },
                {
                    "output_type": "display_data",
                    "data": {
                        "text/html": "Total execution time: 00:00:00.119"
                    },
                    "metadata": {}
                },
                {
                    "output_type": "execute_result",
                    "execution_count": 2,
                    "data": {
                        "application/vnd.dataresource+json": {
                            "schema": {
                                "fields": [
                                    {
                                        "name": "Nev"
                                    }
                                ]
                            },
                            "data": [
                                {
                                    "Nev": "Frederico Sawley"
                                },
                                {
                                    "Nev": "Hedwiga Ledbetter"
                                },
                                {
                                    "Nev": "Lewes Ashbrook"
                                },
                                {
                                    "Nev": "Orren Broadhurst"
                                },
                                {
                                    "Nev": "Perrine Chuney"
                                },
                                {
                                    "Nev": "Sandra Tweed"
                                }
                            ]
                        },
                        "text/html": "<table><tr><th>Nev</th></tr><tr><td>Frederico Sawley</td></tr><tr><td>Hedwiga Ledbetter</td></tr><tr><td>Lewes Ashbrook</td></tr><tr><td>Orren Broadhurst</td></tr><tr><td>Perrine Chuney</td></tr><tr><td>Sandra Tweed</td></tr></table>"
                    },
                    "metadata": {}
                }
            ],
            "execution_count": 2
        },
        {
            "cell_type": "markdown",
            "source": [
                "2. <span style=\"background-color: rgb(255, 255, 255); color: rgb(45, 59, 69); font-family: LatoWeb, &quot;Helvetica Neue&quot;, Helvetica, Arial, sans-serif; font-size: 16px;\">Írjunk&nbsp;</span> **függvényt**<span style=\"background-color: rgb(255, 255, 255); color: rgb(45, 59, 69); font-family: LatoWeb, &quot;Helvetica Neue&quot;, Helvetica, Arial, sans-serif; font-size: 16px;\">, melynek bemenő paraméterei: @pBaratNev, @pItaltipusNev. A függvény egy táblában térítse vissza azon kocsmá(k) nevét, címét és a kapható italok nevét és árát mely(ek)et a paraméterként megadott barát kedvel és ahol a megadott italtípusból kapható ital!</span>"
            ],
            "metadata": {
                "azdata_cell_guid": "c27e94d6-be00-4ee2-839b-bb40fc6f6262"
            },
            "attachments": {}
        },
        {
            "cell_type": "code",
            "source": [
                "CREATE OR ALTER FUNCTION dbo.Kocsmanevek(@pBaratNev VARCHAR(30), @pItaltipusNev VARCHAR(30))\r\n",
                "RETURNS @Ujtabla TABLE(Nev VARCHAR(30), Cim VARCHAR(30), Ital VARCHAR(30), ItalAr INT)\r\n",
                "AS\r\n",
                "BEGIN\r\n",
                "    INSERT INTO @Ujtabla (Nev, Cim, Ital, ItalAr)\r\n",
                "    SELECT k.Nev, k.Cim, i.Nev, a.Ar FROM Kocsmak k\r\n",
                "    JOIN Arak a ON k.KocsmaID=a.KocsmaID\r\n",
                "    JOIN Italok i ON a.ItalID=i.ItalID\r\n",
                "    JOIN ItalTipusok it ON i.TipusID=it.TipusID\r\n",
                "    JOIN Kedvencek ke ON k.KocsmaID=ke.KocsmaID\r\n",
                "    JOIN Baratok b ON ke.BaratID=b.BaratID\r\n",
                "    WHERE b.Nev=@pBaratNev AND it.TipusNev=@pItaltipusNev\r\n",
                "\r\n",
                "    RETURN;\r\n",
                "END"
            ],
            "metadata": {
                "azdata_cell_guid": "e5c1249c-edc4-4ae2-9e6f-a32aaac58a41",
                "language": "sql"
            },
            "outputs": [
                {
                    "output_type": "display_data",
                    "data": {
                        "text/html": "Commands completed successfully."
                    },
                    "metadata": {}
                },
                {
                    "output_type": "display_data",
                    "data": {
                        "text/html": "Batch execution time: 00:00:00.019"
                    },
                    "metadata": {}
                },
                {
                    "output_type": "display_data",
                    "data": {
                        "text/html": "Total execution time: 00:00:00.019"
                    },
                    "metadata": {}
                }
            ],
            "execution_count": 3
        },
        {
            "cell_type": "code",
            "source": [
                "DECLARE @ResultTable TABLE(Nev VARCHAR(30), Cim VARCHAR(30), Ital VARCHAR(30), ItalAr INT);\r\n",
                "INSERT INTO @ResultTable\r\n",
                "SELECT * FROM dbo.Kocsmanevek('Rik Turbard', 'tonic') /*pirossal alahuzza a dbo.Kocsmanevek-et de attol meg jol fut le*/\r\n",
                "SELECT * FROM @ResultTable"
            ],
            "metadata": {
                "azdata_cell_guid": "ac9fbf20-72af-4c4f-8e8e-8c807cc4eabc",
                "language": "sql"
            },
            "outputs": [
                {
                    "output_type": "display_data",
                    "data": {
                        "text/html": "(2 rows affected)"
                    },
                    "metadata": {}
                },
                {
                    "output_type": "display_data",
                    "data": {
                        "text/html": "(2 rows affected)"
                    },
                    "metadata": {}
                },
                {
                    "output_type": "display_data",
                    "data": {
                        "text/html": "Batch execution time: 00:00:00.098"
                    },
                    "metadata": {}
                },
                {
                    "output_type": "display_data",
                    "data": {
                        "text/html": "Total execution time: 00:00:00.098"
                    },
                    "metadata": {}
                },
                {
                    "output_type": "execute_result",
                    "execution_count": 4,
                    "data": {
                        "application/vnd.dataresource+json": {
                            "schema": {
                                "fields": [
                                    {
                                        "name": "Nev"
                                    },
                                    {
                                        "name": "Cim"
                                    },
                                    {
                                        "name": "Ital"
                                    },
                                    {
                                        "name": "ItalAr"
                                    }
                                ]
                            },
                            "data": [
                                {
                                    "Nev": "Hedwiga Ledbetter",
                                    "Cim": "6 Packers Parkway",
                                    "Ital": "Coca Cola",
                                    "ItalAr": "15"
                                },
                                {
                                    "Nev": "Sandra Tweed",
                                    "Cim": "8 Superior Alley",
                                    "Ital": "Kinley",
                                    "ItalAr": "29"
                                }
                            ]
                        },
                        "text/html": "<table><tr><th>Nev</th><th>Cim</th><th>Ital</th><th>ItalAr</th></tr><tr><td>Hedwiga Ledbetter</td><td>6 Packers Parkway</td><td>Coca Cola</td><td>15</td></tr><tr><td>Sandra Tweed</td><td>8 Superior Alley</td><td>Kinley</td><td>29</td></tr></table>"
                    },
                    "metadata": {}
                }
            ],
            "execution_count": 4
        },
        {
            "cell_type": "markdown",
            "source": [
                "3. <span style=\"background-color: rgb(255, 255, 255); color: rgb(45, 59, 69); font-family: LatoWeb, &quot;Helvetica Neue&quot;, Helvetica, Arial, sans-serif; font-size: 16px;\">Írjunk&nbsp;</span> **DELETE triggert**<span style=\"background-color: rgb(255, 255, 255); color: rgb(45, 59, 69); font-family: LatoWeb, &quot;Helvetica Neue&quot;, Helvetica, Arial, sans-serif; font-size: 16px;\">, mely akkor aktiválódik, ha törlünk</span> **egy vagy több** <span style=\"background-color: rgb(255, 255, 255); color: rgb(45, 59, 69); font-family: LatoWeb, &quot;Helvetica Neue&quot;, Helvetica, Arial, sans-serif; font-size: 16px;\">sort az ItalTipusok táblából! (</span>**Figyelem!** <span style=\"background-color: rgb(255, 255, 255); color: rgb(45, 59, 69); font-family: LatoWeb, &quot;Helvetica Neue&quot;, Helvetica, Arial, sans-serif; font-size: 16px;\">A hivatkozási épség megszorítások fenntartása miatt probléma lehet, ha egy olyan italtípust szeretnék törölni, melyhez tartozik ital. Ezt a problémát orvosoljuk a trigger segítségével! Az adott italtípus mindenképp törlődjön a trigger végrehajtásának következtében!)</span>"
            ],
            "metadata": {
                "azdata_cell_guid": "23575252-de12-4d97-bba9-c64afc00a13e"
            },
            "attachments": {}
        },
        {
            "cell_type": "code",
            "source": [
                "CREATE TRIGGER dbo.ItalTipusoktorlese ON ItalTipusok\r\n",
                "INSTEAD OF\r\n",
                "DELETE\r\n",
                "AS\r\n",
                "BEGIN\r\n",
                "    DECLARE @pItalTipusID INT\r\n",
                "\r\n",
                "    SET @pItalTipusID = ( SELECT TipusID FROM Deleted )\r\n",
                "\r\n",
                "    IF (SELECT COUNT(*) FROM Italok \r\n",
                "    JOIN Arak\r\n",
                "    ON Italok.ItalID=Arak.ItalID\r\n",
                "    WHERE TipusID = @pItalTipusID) > 0\r\n",
                "    BEGIN\r\n",
                "        DELETE FROM Arak WHERE ItalID IN (SELECT ItalID FROM Italok WHERE TipusID=@pItalTipusID)\r\n",
                "        DELETE FROM Italok WHERE TipusID = @pItalTipusID;\r\n",
                "    END\r\n",
                "\r\n",
                "    DELETE FROM ItalTipusok WHERE TipusID = @pItalTipusID\r\n",
                "END"
            ],
            "metadata": {
                "azdata_cell_guid": "021f6d44-56a6-4648-bcbe-c4bbef5c121a",
                "language": "sql",
                "tags": []
            },
            "outputs": [
                {
                    "output_type": "display_data",
                    "data": {
                        "text/html": "Commands completed successfully."
                    },
                    "metadata": {}
                },
                {
                    "output_type": "display_data",
                    "data": {
                        "text/html": "Batch execution time: 00:00:00.011"
                    },
                    "metadata": {}
                },
                {
                    "output_type": "display_data",
                    "data": {
                        "text/html": "Total execution time: 00:00:00.011"
                    },
                    "metadata": {}
                }
            ],
            "execution_count": 4
        },
        {
            "cell_type": "code",
            "source": [
                "/*tesztelem az dbo.ItalTipusoktorlese triggert*/\r\n",
                "DELETE FROM ItalTipusok\r\n",
                "WHERE TipusID=3"
            ],
            "metadata": {
                "azdata_cell_guid": "742ced73-cd80-47eb-bb92-4f7624f65883",
                "language": "sql"
            },
            "outputs": [
                {
                    "output_type": "display_data",
                    "data": {
                        "text/html": "(0 rows affected)"
                    },
                    "metadata": {}
                },
                {
                    "output_type": "display_data",
                    "data": {
                        "text/html": "(0 rows affected)"
                    },
                    "metadata": {}
                },
                {
                    "output_type": "display_data",
                    "data": {
                        "text/html": "Batch execution time: 00:00:00.021"
                    },
                    "metadata": {}
                },
                {
                    "output_type": "display_data",
                    "data": {
                        "text/html": "Total execution time: 00:00:00.021"
                    },
                    "metadata": {}
                }
            ],
            "execution_count": 31
        },
        {
            "cell_type": "markdown",
            "source": [
                "4. <span style=\"background-color: rgb(255, 255, 255); color: rgb(45, 59, 69); font-family: LatoWeb, &quot;Helvetica Neue&quot;, Helvetica, Arial, sans-serif; font-size: 16px;\">Írjunk&nbsp;</span> **INSERT** <span style=\"background-color: rgb(255, 255, 255); color: rgb(45, 59, 69); font-family: LatoWeb, &quot;Helvetica Neue&quot;, Helvetica, Arial, sans-serif; font-size: 16px;\">és</span> **UPDATE** <span style=\"background-color: rgb(255, 255, 255); color: rgb(45, 59, 69); font-family: LatoWeb, &quot;Helvetica Neue&quot;, Helvetica, Arial, sans-serif; font-size: 16px;\">triggert az Arak táblára vonatkozóan, amely csak akkor engedélyezi a művelet végrehajtását, ha az árak összértéke</span> **5** <span style=\"background-color: rgb(255, 255, 255); color: rgb(45, 59, 69); font-family: LatoWeb, &quot;Helvetica Neue&quot;, Helvetica, Arial, sans-serif; font-size: 16px;\">és</span> **1000** <span style=\"background-color: rgb(255, 255, 255); color: rgb(45, 59, 69); font-family: LatoWeb, &quot;Helvetica Neue&quot;, Helvetica, Arial, sans-serif; font-size: 16px;\">között marad!</span>"
            ],
            "metadata": {
                "azdata_cell_guid": "b3fe2e89-3d90-412b-b9b0-36026f0ef881"
            },
            "attachments": {}
        },
        {
            "cell_type": "code",
            "source": [
                "CREATE TRIGGER dbo.InsertmegUpdate ON Arak\r\n",
                "FOR\r\n",
                "INSERT, UPDATE\r\n",
                "AS\r\n",
                "BEGIN\r\n",
                "    DECLARE @pAr REAL\r\n",
                "\r\n",
                "    SET @pAr=(SELECT SUM(Ar) FROM Arak) + (SELECT Ar FROM Inserted)\r\n",
                "\r\n",
                "    IF @pAr BETWEEN 5 AND 1000\r\n",
                "    BEGIN\r\n",
                "        UPDATE Arak\r\n",
                "        SET KocsmaID=Inserted.KocsmaID,\r\n",
                "        ItalID=Inserted.ItalID,\r\n",
                "        Ar=Inserted.AR\r\n",
                "        FROM Arak\r\n",
                "        JOIN Inserted \r\n",
                "        ON Arak.ItalID=Inserted.ItalID AND Arak.KocsmaID=Inserted.KocsmaID\r\n",
                "    END\r\n",
                "    ELSE\r\n",
                "    BEGIN\r\n",
                "        PRINT 'A muvelet nem vegezheto el'\r\n",
                "        ROLLBACK\r\n",
                "    END\r\n",
                "END"
            ],
            "metadata": {
                "azdata_cell_guid": "a8653de6-bedb-4d0f-93dd-58b69e657f0c",
                "language": "sql"
            },
            "outputs": [
                {
                    "output_type": "display_data",
                    "data": {
                        "text/html": "Commands completed successfully."
                    },
                    "metadata": {}
                },
                {
                    "output_type": "display_data",
                    "data": {
                        "text/html": "Batch execution time: 00:00:00.005"
                    },
                    "metadata": {}
                },
                {
                    "output_type": "display_data",
                    "data": {
                        "text/html": "Total execution time: 00:00:00.005"
                    },
                    "metadata": {}
                }
            ],
            "execution_count": 5
        },
        {
            "cell_type": "code",
            "source": [
                "/*tesztelem az dbo.InsertmegUpdate triggert*/\r\n",
                "INSERT Arak VALUES(1, 7, 725)\r\n",
                ""
            ],
            "metadata": {
                "azdata_cell_guid": "42a79e2e-e4f0-469a-94fb-77b7949f3f8e",
                "language": "sql"
            },
            "outputs": [
                {
                    "output_type": "display_data",
                    "data": {
                        "text/html": "A muvelet nem vegezheto el"
                    },
                    "metadata": {}
                },
                {
                    "output_type": "error",
                    "ename": "",
                    "evalue": "Msg 3609, Level 16, State 1, Line 1\r\nThe transaction ended in the trigger. The batch has been aborted.",
                    "traceback": []
                },
                {
                    "output_type": "display_data",
                    "data": {
                        "text/html": "Batch execution time: 00:00:00.013"
                    },
                    "metadata": {}
                },
                {
                    "output_type": "display_data",
                    "data": {
                        "text/html": "Total execution time: 00:00:00.013"
                    },
                    "metadata": {}
                }
            ],
            "execution_count": 51
        },
        {
            "cell_type": "code",
            "source": [
                "/*tesztelem az dbo.InsertmegUpdate triggert*/\r\n",
                "UPDATE Arak\r\n",
                "SET Ar=726\r\n",
                "WHERE KocsmaID=1 AND ItalID=6"
            ],
            "metadata": {
                "azdata_cell_guid": "6db27ecd-824c-47ea-8c94-cde28896a4a8",
                "language": "sql"
            },
            "outputs": [
                {
                    "output_type": "display_data",
                    "data": {
                        "text/html": "A muvelet nem vegezheto el"
                    },
                    "metadata": {}
                },
                {
                    "output_type": "error",
                    "ename": "",
                    "evalue": "Msg 3609, Level 16, State 1, Line 1\r\nThe transaction ended in the trigger. The batch has been aborted.",
                    "traceback": []
                },
                {
                    "output_type": "display_data",
                    "data": {
                        "text/html": "Batch execution time: 00:00:00.004"
                    },
                    "metadata": {}
                },
                {
                    "output_type": "display_data",
                    "data": {
                        "text/html": "Total execution time: 00:00:00.004"
                    },
                    "metadata": {}
                }
            ],
            "execution_count": 52
        },
        {
            "cell_type": "markdown",
            "source": [
                "5. <span style=\"background-color: rgb(255, 255, 255); color: rgb(45, 59, 69); font-family: LatoWeb, &quot;Helvetica Neue&quot;, Helvetica, Arial, sans-serif; font-size: 16px;\">Írjunk&nbsp;</span>  **DELETE triggert**<span style=\"background-color: rgb(255, 255, 255); color: rgb(45, 59, 69); font-family: LatoWeb, &quot;Helvetica Neue&quot;, Helvetica, Arial, sans-serif; font-size: 16px;\">, amely nem enged törölni olyan kocsmát, melyet legalább 3-an kedvelnek és a nyitás dátuma 2015 után történt!</span>"
            ],
            "metadata": {
                "azdata_cell_guid": "68936641-03e5-4d68-ab7f-ac8a9579bc6c"
            },
            "attachments": {}
        },
        {
            "cell_type": "code",
            "source": [
                "CREATE TRIGGER dbo.Nemtorlunkkocsmat ON Kocsmak\r\n",
                "INSTEAD OF\r\n",
                "DELETE\r\n",
                "AS\r\n",
                "BEGIN\r\n",
                "    DECLARE @pKocsmaID INT\r\n",
                "\r\n",
                "    SET @pKocsmaID = (SELECT KocsmaID FROM Deleted)\r\n",
                "\r\n",
                "    IF (SELECT YEAR(NyitasDatuma) FROM Deleted) >= 2015 AND\r\n",
                "    (SELECT COUNT(BaratID) FROM Kedvencek\r\n",
                "    WHERE KocsmaID=@pKocsmaID\r\n",
                "    ) >=3 \r\n",
                "    BEGIN\r\n",
                "        PRINT 'Nem torolheto a kocsma a tablabol.'\r\n",
                "        ROLLBACK\r\n",
                "    END\r\n",
                "    ELSE\r\n",
                "    BEGIN\r\n",
                "        DELETE FROM Kedvencek\r\n",
                "        WHERE KocsmaID=@pKocsmaID\r\n",
                "\r\n",
                "        DELETE FROM Arak\r\n",
                "        WHERE KocsmaID=@pKocsmaID\r\n",
                "\r\n",
                "        DELETE FROM Kocsmak\r\n",
                "        WHERE KocsmaID = @pKocsmaID;\r\n",
                "    END\r\n",
                "END"
            ],
            "metadata": {
                "azdata_cell_guid": "259f4d91-5a85-4204-a304-90470976690f",
                "language": "sql",
                "tags": []
            },
            "outputs": [
                {
                    "output_type": "display_data",
                    "data": {
                        "text/html": "Commands completed successfully."
                    },
                    "metadata": {}
                },
                {
                    "output_type": "display_data",
                    "data": {
                        "text/html": "Batch execution time: 00:00:00.011"
                    },
                    "metadata": {}
                },
                {
                    "output_type": "display_data",
                    "data": {
                        "text/html": "Total execution time: 00:00:00.011"
                    },
                    "metadata": {}
                }
            ],
            "execution_count": 6
        },
        {
            "cell_type": "code",
            "source": [
                "/*tesztelem a dbo.Nemtorlunkkocsmat triggert*/\r\n",
                "DELETE FROM Kocsmak\r\n",
                "WHERE Nev='kocsma'"
            ],
            "metadata": {
                "azdata_cell_guid": "72f70779-02e9-4914-85a8-3608b9a94518",
                "language": "sql",
                "tags": []
            },
            "outputs": [
                {
                    "output_type": "display_data",
                    "data": {
                        "text/html": "Nem torolheto a kocsma a tablabol."
                    },
                    "metadata": {}
                },
                {
                    "output_type": "error",
                    "ename": "",
                    "evalue": "Msg 3609, Level 16, State 1, Line 1\r\nThe transaction ended in the trigger. The batch has been aborted.",
                    "traceback": []
                },
                {
                    "output_type": "display_data",
                    "data": {
                        "text/html": "Batch execution time: 00:00:00.015"
                    },
                    "metadata": {}
                },
                {
                    "output_type": "display_data",
                    "data": {
                        "text/html": "Total execution time: 00:00:00.015"
                    },
                    "metadata": {}
                }
            ],
            "execution_count": 21
        },
        {
            "cell_type": "markdown",
            "source": [
                "6. **a.** <span style=\"background-color: rgb(255, 255, 255); color: rgb(45, 59, 69); font-family: LatoWeb, &quot;Helvetica Neue&quot;, Helvetica, Arial, sans-serif; font-size: 16px;\">Hozzunk létre egy új táblát:</span>\n",
                "\n",
                "  Arak\\_Log(ID, Idopont, Muvelet, KocsmaID, KocsmaNev, ItalID, ItalNev, RegiAr, UjAr),\n",
                "\n",
                "ahol Idopont-datetime, Muvelet-varchar(50), RegiAr-int, UjAr-int típusú mezők."
            ],
            "metadata": {
                "azdata_cell_guid": "5e32866d-023e-46e9-9de9-48d2d54cfea4"
            },
            "attachments": {}
        },
        {
            "cell_type": "code",
            "source": [
                "CREATE TABLE dbo.Arak_Log(\r\n",
                "    ID INT IDENTITY(1,1) PRIMARY KEY,\r\n",
                "    Idopont DATETIME,\r\n",
                "    Muvelet VARCHAR(50),\r\n",
                "    KocsmaID INT FOREIGN KEY REFERENCES Kocsmak(KocsmaID),\r\n",
                "    KocsmaNev VARCHAR(30),\r\n",
                "    ItalID INT FOREIGN KEY REFERENCES Italok(ItalID),\r\n",
                "    ItalNev VARCHAR(30),\r\n",
                "    RegiAR INT,\r\n",
                "    UjAr INT\r\n",
                ")"
            ],
            "metadata": {
                "azdata_cell_guid": "c02a4031-efd8-498c-9026-be63577d0328",
                "language": "sql"
            },
            "outputs": [
                {
                    "output_type": "display_data",
                    "data": {
                        "text/html": "Commands completed successfully."
                    },
                    "metadata": {}
                },
                {
                    "output_type": "display_data",
                    "data": {
                        "text/html": "Batch execution time: 00:00:00.006"
                    },
                    "metadata": {}
                },
                {
                    "output_type": "display_data",
                    "data": {
                        "text/html": "Total execution time: 00:00:00.006"
                    },
                    "metadata": {}
                }
            ],
            "execution_count": 1
        },
        {
            "cell_type": "markdown",
            "source": [
                "6. <span style=\"color: rgb(45, 59, 69); font-family: LatoWeb, &quot;Helvetica Neue&quot;, Helvetica, Arial, sans-serif; font-size: 16px; background-color: rgb(255, 255, 255);\"><strong>b.</strong>&nbsp;Oldjuk meg, hogy a&nbsp;</span> <span style=\"color: rgb(45, 59, 69); font-family: LatoWeb, &quot;Helvetica Neue&quot;, Helvetica, Arial, sans-serif; font-size: 16px; background-color: rgb(255, 255, 255);\">Kocsmak táblából való törlés esetén az Arak_Log tábla&nbsp;</span> <span style=\"color: rgb(45, 59, 69); font-family: LatoWeb, &quot;Helvetica Neue&quot;, Helvetica, Arial, sans-serif; font-size: 16px; background-color: rgb(255, 255, 255);\">KocsmaID</span> <span style=\"color: rgb(45, 59, 69); font-family: LatoWeb, &quot;Helvetica Neue&quot;, Helvetica, Arial, sans-serif; font-size: 16px; background-color: rgb(255, 255, 255);\">mezőjének értéke&nbsp;</span> <span style=\"color: rgb(45, 59, 69); font-family: LatoWeb, &quot;Helvetica Neue&quot;, Helvetica, Arial, sans-serif; font-size: 16px; background-color: rgb(255, 255, 255);\">NULL-ra módosuljon!</span>"
            ],
            "metadata": {
                "azdata_cell_guid": "77f6c27e-6f26-493b-bbaa-1b719dbe7485"
            },
            "attachments": {}
        },
        {
            "cell_type": "code",
            "source": [
                "CREATE TRIGGER dbo.Kocsmaktorleseeseten ON Kocsmak\r\n",
                "AFTER\r\n",
                "DELETE\r\n",
                "AS\r\n",
                "BEGIN\r\n",
                "    DECLARE @pKocsmaID INT\r\n",
                "\r\n",
                "    SET @pKocsmaID=(SELECT KocsmaID FROM Deleted)\r\n",
                "\r\n",
                "    UPDATE dbo.Arak_Log\r\n",
                "    SET KocsmaID = NULL\r\n",
                "    WHERE KocsmaID = @pKocsmaID\r\n",
                "\r\n",
                "END"
            ],
            "metadata": {
                "azdata_cell_guid": "7f027b9b-6167-44b7-816a-cf012af4db37",
                "language": "sql"
            },
            "outputs": [
                {
                    "output_type": "display_data",
                    "data": {
                        "text/html": "Commands completed successfully."
                    },
                    "metadata": {}
                },
                {
                    "output_type": "display_data",
                    "data": {
                        "text/html": "Batch execution time: 00:00:00.003"
                    },
                    "metadata": {}
                },
                {
                    "output_type": "display_data",
                    "data": {
                        "text/html": "Total execution time: 00:00:00.003"
                    },
                    "metadata": {}
                }
            ],
            "execution_count": 7
        },
        {
            "cell_type": "code",
            "source": [
                "/*tesztelem a dbo.Kocsmaktorleseeseten trigget*/\r\n",
                "DELETE FROM Kocsmak\r\n",
                "WHERE Nev='Sosanna Segeswoeth'"
            ],
            "metadata": {
                "azdata_cell_guid": "6b51857d-6917-4680-962d-63491da18308",
                "language": "sql"
            },
            "outputs": [
                {
                    "output_type": "display_data",
                    "data": {
                        "text/html": "(1 row affected)"
                    },
                    "metadata": {}
                },
                {
                    "output_type": "display_data",
                    "data": {
                        "text/html": "(0 rows affected)"
                    },
                    "metadata": {}
                },
                {
                    "output_type": "display_data",
                    "data": {
                        "text/html": "(1 row affected)"
                    },
                    "metadata": {}
                },
                {
                    "output_type": "display_data",
                    "data": {
                        "text/html": "(1 row affected)"
                    },
                    "metadata": {}
                },
                {
                    "output_type": "display_data",
                    "data": {
                        "text/html": "(1 row affected)"
                    },
                    "metadata": {}
                },
                {
                    "output_type": "display_data",
                    "data": {
                        "text/html": "Batch execution time: 00:00:00.044"
                    },
                    "metadata": {}
                },
                {
                    "output_type": "display_data",
                    "data": {
                        "text/html": "Total execution time: 00:00:00.044"
                    },
                    "metadata": {}
                }
            ],
            "execution_count": 34
        },
        {
            "cell_type": "markdown",
            "source": [
                "6. <span style=\"color: rgb(45, 59, 69); font-family: LatoWeb, &quot;Helvetica Neue&quot;, Helvetica, Arial, sans-serif; font-size: 16px; background-color: rgb(255, 255, 255);\"><strong>c.</strong>&nbsp;Írjunk&nbsp;</span> **UPDATE triggert**<span style=\"color: rgb(45, 59, 69); font-family: LatoWeb, &quot;Helvetica Neue&quot;, Helvetica, Arial, sans-serif; font-size: 16px; background-color: rgb(255, 255, 255);\">, mely az Arak tábla Ar mezőjének módosításakor beszúr egy új sort a Arak_Log táblába. Az időpont legyen a módosítás időpontja, művelet szövege: ‘ar növelése’ vagy ‘ar csökkentése’, RegiAr-régi érték, UjAr-új érték.</span>"
            ],
            "metadata": {
                "azdata_cell_guid": "5e5bec03-ab3a-4def-b714-b6c80b1f7386"
            },
            "attachments": {}
        },
        {
            "cell_type": "code",
            "source": [
                "CREATE TRIGGER dbo.Armodositas ON Arak\r\n",
                "AFTER\r\n",
                "UPDATE \r\n",
                "AS\r\n",
                "BEGIN\r\n",
                "    DECLARE @pRegiAr INT, @pUjAr INT, @pMuvelet VARCHAR(50)\r\n",
                "\r\n",
                "    SET @pRegiAr = (SELECT Ar FROM Deleted)\r\n",
                "    SET @pUjAr = (SELECT Ar FROM Inserted)\r\n",
                "\r\n",
                "    IF @pRegiAr <> @pUjAr\r\n",
                "    BEGIN\r\n",
                "    IF @pRegiAr > @pUjAr\r\n",
                "    BEGIN\r\n",
                "        SET @pMuvelet='ar csokkentese'\r\n",
                "    END\r\n",
                "    ELSE\r\n",
                "    BEGIN\r\n",
                "        SET @pMuvelet='ar novelese'\r\n",
                "    END\r\n",
                "\r\n",
                "    INSERT INTO Arak_Log(Idopont, Muvelet, KocsmaID, KocsmaNev, ItalID, ItalNev, RegiAR, UjAr)\r\n",
                "    VALUES (GETDATE(), @pMuvelet, (SELECT KocsmaID FROM Deleted), (SELECT Nev FROM Kocsmak WHERE KocsmaID=(SELECT KocsmaID FROM Deleted)), \r\n",
                "    (SELECT ItalID FROM Deleted), (SELECT Nev FROM Italok WHERE ItalID=(SELECT ItalID FROM Deleted)), \r\n",
                "    @pRegiAr, @pUjAr);\r\n",
                "    END\r\n",
                "END"
            ],
            "metadata": {
                "azdata_cell_guid": "3079d526-f138-4410-9953-fa3b638549cd",
                "language": "sql",
                "tags": []
            },
            "outputs": [
                {
                    "output_type": "display_data",
                    "data": {
                        "text/html": "Commands completed successfully."
                    },
                    "metadata": {}
                },
                {
                    "output_type": "display_data",
                    "data": {
                        "text/html": "Batch execution time: 00:00:00.004"
                    },
                    "metadata": {}
                },
                {
                    "output_type": "display_data",
                    "data": {
                        "text/html": "Total execution time: 00:00:00.004"
                    },
                    "metadata": {}
                }
            ],
            "execution_count": 14
        },
        {
            "cell_type": "code",
            "source": [
                "/*tesztelem a dbo.Armodositas triggert*/\r\n",
                "UPDATE Arak \r\n",
                "SET Ar=10\r\n",
                "WHERE KocsmaID=1 AND ItalID=2"
            ],
            "metadata": {
                "azdata_cell_guid": "e8e9dcb7-34de-4ca5-9736-0fbabd333081",
                "language": "sql"
            },
            "outputs": [
                {
                    "output_type": "display_data",
                    "data": {
                        "text/html": "(1 row affected)"
                    },
                    "metadata": {}
                },
                {
                    "output_type": "display_data",
                    "data": {
                        "text/html": "(1 row affected)"
                    },
                    "metadata": {}
                },
                {
                    "output_type": "display_data",
                    "data": {
                        "text/html": "(1 row affected)"
                    },
                    "metadata": {}
                },
                {
                    "output_type": "display_data",
                    "data": {
                        "text/html": "Batch execution time: 00:00:00.004"
                    },
                    "metadata": {}
                },
                {
                    "output_type": "display_data",
                    "data": {
                        "text/html": "Total execution time: 00:00:00.004"
                    },
                    "metadata": {}
                }
            ],
            "execution_count": 13
        }
    ]
}