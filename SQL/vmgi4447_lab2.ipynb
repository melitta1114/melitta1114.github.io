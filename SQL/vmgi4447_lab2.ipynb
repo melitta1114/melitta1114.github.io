{
    "metadata": {
        "kernelspec": {
            "name": "SQL",
            "display_name": "SQL",
            "language": "sql"
        },
        "language_info": {
            "name": "sql",
            "version": ""
        }
    },
    "nbformat_minor": 2,
    "nbformat": 4,
    "cells": [
        {
            "cell_type": "markdown",
            "source": [
                "Veres Melitta-Kinga, azonosító: 4447"
            ],
            "metadata": {
                "azdata_cell_guid": "d4e4f78d-2842-417b-a3e8-40fc31e0f626"
            },
            "attachments": {}
        },
        {
            "cell_type": "code",
            "source": [
                "/*1.SELECT utasítás segítségével adjuk meg minden kocsma esetén, hogy mennyire “népszerű” (KocsmaNev, Népszerűség) formában, ahol:\r\n",
                "ha több, mint 4 barát kedveli, akkor: Népszerűség értéke: ‘Magas’\r\n",
                "ha 2-3 barát kedveli, akkor: Népszerűség értéke: ‘Elfogadhato’\r\n",
                "ha kevesebb, mint 2 barát kedveli, akkor: Népszerűség értéke: ‘Alacsony’*/\r\n",
                "\r\n",
                "SELECT k.Nev AS KocsmaNev,\r\n",
                "       CASE\r\n",
                "           WHEN COUNT(ke.BaratID) >= 4 THEN 'Magas'\r\n",
                "           WHEN COUNT(ke.BaratID) BETWEEN 2 AND 3 THEN 'Elfogadhato'\r\n",
                "           ELSE 'Alacsony'\r\n",
                "       END AS Nepszeruseg\r\n",
                "FROM Kocsmak k\r\n",
                "LEFT JOIN Kedvencek ke ON k.KocsmaID = ke.KocsmaID\r\n",
                "GROUP BY k.Nev\r\n",
                "        "
            ],
            "metadata": {
                "azdata_cell_guid": "c98215b5-9c14-472a-af6b-81ea8d5646c9",
                "language": "sql",
                "tags": []
            },
            "outputs": [
                {
                    "output_type": "display_data",
                    "data": {
                        "text/html": "Warning: Null value is eliminated by an aggregate or other SET operation."
                    },
                    "metadata": {}
                },
                {
                    "output_type": "display_data",
                    "data": {
                        "text/html": "(17 rows affected)"
                    },
                    "metadata": {}
                },
                {
                    "output_type": "display_data",
                    "data": {
                        "text/html": "Batch execution time: 00:00:00.049"
                    },
                    "metadata": {}
                },
                {
                    "output_type": "display_data",
                    "data": {
                        "text/html": "Total execution time: 00:00:00.049"
                    },
                    "metadata": {}
                },
                {
                    "output_type": "execute_result",
                    "execution_count": 1,
                    "data": {
                        "application/vnd.dataresource+json": {
                            "schema": {
                                "fields": [
                                    {
                                        "name": "KocsmaNev"
                                    },
                                    {
                                        "name": "Nepszeruseg"
                                    }
                                ]
                            },
                            "data": [
                                {
                                    "KocsmaNev": "Bleriot",
                                    "Nepszeruseg": "Magas"
                                },
                                {
                                    "KocsmaNev": "Bulgakov",
                                    "Nepszeruseg": "Elfogadhato"
                                },
                                {
                                    "KocsmaNev": "E",
                                    "Nepszeruseg": "Alacsony"
                                },
                                {
                                    "KocsmaNev": "El",
                                    "Nepszeruseg": "Alacsony"
                                },
                                {
                                    "KocsmaNev": "Elb",
                                    "Nepszeruseg": "Alacsony"
                                },
                                {
                                    "KocsmaNev": "ElbE",
                                    "Nepszeruseg": "Alacsony"
                                },
                                {
                                    "KocsmaNev": "Hibrid",
                                    "Nepszeruseg": "Alacsony"
                                },
                                {
                                    "KocsmaNev": "Insomnia",
                                    "Nepszeruseg": "Alacsony"
                                },
                                {
                                    "KocsmaNev": "kkk",
                                    "Nepszeruseg": "Alacsony"
                                },
                                {
                                    "KocsmaNev": "Klausen",
                                    "Nepszeruseg": "Magas"
                                },
                                {
                                    "KocsmaNev": "kocsma",
                                    "Nepszeruseg": "Alacsony"
                                },
                                {
                                    "KocsmaNev": "Krajczar",
                                    "Nepszeruseg": "Elfogadhato"
                                },
                                {
                                    "KocsmaNev": "lll",
                                    "Nepszeruseg": "Alacsony"
                                },
                                {
                                    "KocsmaNev": "Rhedey",
                                    "Nepszeruseg": "Alacsony"
                                },
                                {
                                    "KocsmaNev": "Soviet",
                                    "Nepszeruseg": "Elfogadhato"
                                },
                                {
                                    "KocsmaNev": "ttt",
                                    "Nepszeruseg": "Alacsony"
                                },
                                {
                                    "KocsmaNev": "vvv",
                                    "Nepszeruseg": "Alacsony"
                                }
                            ]
                        },
                        "text/html": "<table><tr><th>KocsmaNev</th><th>Nepszeruseg</th></tr><tr><td>Bleriot</td><td>Magas</td></tr><tr><td>Bulgakov</td><td>Elfogadhato</td></tr><tr><td>E</td><td>Alacsony</td></tr><tr><td>El</td><td>Alacsony</td></tr><tr><td>Elb</td><td>Alacsony</td></tr><tr><td>ElbE</td><td>Alacsony</td></tr><tr><td>Hibrid</td><td>Alacsony</td></tr><tr><td>Insomnia</td><td>Alacsony</td></tr><tr><td>kkk</td><td>Alacsony</td></tr><tr><td>Klausen</td><td>Magas</td></tr><tr><td>kocsma</td><td>Alacsony</td></tr><tr><td>Krajczar</td><td>Elfogadhato</td></tr><tr><td>lll</td><td>Alacsony</td></tr><tr><td>Rhedey</td><td>Alacsony</td></tr><tr><td>Soviet</td><td>Elfogadhato</td></tr><tr><td>ttt</td><td>Alacsony</td></tr><tr><td>vvv</td><td>Alacsony</td></tr></table>"
                    },
                    "metadata": {}
                }
            ],
            "execution_count": 1
        },
        {
            "cell_type": "code",
            "source": [
                "/*2.Írjunk tárolt eljárást, melynek bemenő paramétere egy természetes szám (@pSzam), kimeneti paramétere: @pOut-int típusú! \r\n",
                "Ha @pSzam<0, írjunk ki megfelelő hibaüzenetet, valamint @pOut = -1! \r\n",
                "Ellenkező esetben, írassuk ki azon kocsmá(ka)t (KocsmaNev), mely(ek)ben kevesebb italtípusból válogathatunk, \r\n",
                "mint a paraméterként megadott szám (0 is lehet a szám)! Ekkor @pOut=a feltételnek eleget tevő kocsmák száma! \r\n",
                "Ha nincs egyetlen ilyen kocsma sem, írassunk ki megfelelő figyelmeztető üzenetet is!*/\r\n",
                "\r\n",
                "CREATE OR ALTER PROCEDURE KocsmaItalok\r\n",
                "    @pSzam INT,\r\n",
                "    @pOut INT OUTPUT\r\n",
                "AS\r\n",
                "BEGIN\r\n",
                "    IF @pSzam < 0\r\n",
                "    BEGIN\r\n",
                "        PRINT 'Hiba: pSzam negativ!'\r\n",
                "        SET @pOut = -1\r\n",
                "    END\r\n",
                "    ELSE\r\n",
                "    BEGIN\r\n",
                "        SET @pOut = (SELECT COUNT(*) FROM (\r\n",
                "            SELECT k.Nev\r\n",
                "            FROM Kocsmak k\r\n",
                "            JOIN Arak a ON k.KocsmaID = a.KocsmaID\r\n",
                "            JOIN Italok i ON a.ItalID = i.ItalID\r\n",
                "            JOIN ItalTipusok it ON i.TipusID = it.TipusID\r\n",
                "            GROUP BY k.Nev\r\n",
                "            HAVING COUNT(DISTINCT it.TipusID) < @pSzam\r\n",
                "            )AS eredmeny)\r\n",
                "        \r\n",
                "        IF @pOut = 0\r\n",
                "    BEGIN\r\n",
                "            PRINT'Nincs olyan kocsma, ahol kevesebb italtipusbol valogathatunk, mint pSzam!';\r\n",
                "    END\r\n",
                "    ELSE\r\n",
                "    BEGIN\r\n",
                "        SELECT k.Nev AS KocsmaNev\r\n",
                "        FROM Kocsmak k\r\n",
                "        JOIN Arak a ON k.KocsmaID = a.KocsmaID\r\n",
                "        JOIN Italok i ON a.ItalID = i.ItalID\r\n",
                "        JOIN ItalTipusok it ON i.TipusID = it.TipusID\r\n",
                "        GROUP BY k.Nev\r\n",
                "        HAVING COUNT(DISTINCT it.TipusID) < @pSzam\r\n",
                "\r\n",
                "        SET @pOut=@@ROWCOUNT;\r\n",
                "        PRINT CAST(@pOut AS NVARCHAR(10)) + ' kocsma felelt meg az elvasaroknak'\r\n",
                "    END\r\n",
                "    END\r\n",
                "END   \r\n",
                "\r\n",
                "GO\r\n",
                "    \r\n",
                "DECLARE @result INT;\r\n",
                "\r\n",
                "EXEC KocsmaItalok @pSzam = 2, @pOut = @result;\r\n",
                "\r\n",
                "\r\n",
                "\r\n",
                "\r\n",
                ""
            ],
            "metadata": {
                "azdata_cell_guid": "8f6ab11e-500e-4e36-a336-b2dad516f380",
                "language": "sql",
                "tags": []
            },
            "outputs": [
                {
                    "output_type": "display_data",
                    "data": {
                        "text/html": "Commands completed successfully."
                    },
                    "metadata": {}
                },
                {
                    "output_type": "display_data",
                    "data": {
                        "text/html": "Batch execution time: 00:00:00.004"
                    },
                    "metadata": {}
                },
                {
                    "output_type": "display_data",
                    "data": {
                        "text/html": "(7 rows affected)"
                    },
                    "metadata": {}
                },
                {
                    "output_type": "display_data",
                    "data": {
                        "text/html": "7 kocsma felelt meg az elvasaroknak"
                    },
                    "metadata": {}
                },
                {
                    "output_type": "display_data",
                    "data": {
                        "text/html": "Batch execution time: 00:00:00.035"
                    },
                    "metadata": {}
                },
                {
                    "output_type": "display_data",
                    "data": {
                        "text/html": "Total execution time: 00:00:00.039"
                    },
                    "metadata": {}
                },
                {
                    "output_type": "execute_result",
                    "execution_count": 4,
                    "data": {
                        "application/vnd.dataresource+json": {
                            "schema": {
                                "fields": [
                                    {
                                        "name": "KocsmaNev"
                                    }
                                ]
                            },
                            "data": [
                                {
                                    "KocsmaNev": "Bleriot"
                                },
                                {
                                    "KocsmaNev": "E"
                                },
                                {
                                    "KocsmaNev": "El"
                                },
                                {
                                    "KocsmaNev": "Elb"
                                },
                                {
                                    "KocsmaNev": "ElbE"
                                },
                                {
                                    "KocsmaNev": "kocsma"
                                },
                                {
                                    "KocsmaNev": "lll"
                                }
                            ]
                        },
                        "text/html": "<table><tr><th>KocsmaNev</th></tr><tr><td>Bleriot</td></tr><tr><td>E</td></tr><tr><td>El</td></tr><tr><td>Elb</td></tr><tr><td>ElbE</td></tr><tr><td>kocsma</td></tr><tr><td>lll</td></tr></table>"
                    },
                    "metadata": {}
                }
            ],
            "execution_count": 4
        },
        {
            "cell_type": "code",
            "source": [
                "/*3.Írjunk tárolt eljárást, mely a paraméterként megadott kocsma(Kocsma.Nev) \r\n",
                "címéből és italaibol eltűnteti a szóközöket és visszatériti az eltüntetett szóközök számát!*/\r\n",
                "\r\n",
                "/*temporalis tablanal nem muszaj deklaralni csak legyen ott a neve elott a duplakereszt*/\r\n",
                "\r\n",
                "CREATE  OR ALTER PROCEDURE Szokoz\r\n",
                "    @KocsmaNev NVARCHAR(20)\r\n",
                "AS\r\n",
                "BEGIN\r\n",
                "    DECLARE @szokozszam INT=0;\r\n",
                "\r\n",
                "\r\n",
                "    UPDATE Kocsmak\r\n",
                "    SET Cim = REPLACE(Cim, ' ', '')\r\n",
                "    WHERE Nev = @KocsmaNev;\r\n",
                "\r\n",
                "    SET @szokozszam = @szokozszam + LEN(Kocsmak.Cim) - LEN(REPLACE(Kocsmak.Cim, ' ', ''));\r\n",
                "\r\n",
                "\r\n",
                "    UPDATE Italok\r\n",
                "    SET ItalNev = REPLACE(ItalNev, ' ', '')\r\n",
                "    FROM Italok i\r\n",
                "    INNER JOIN Arak a ON i.ItalID=a.ItalID\r\n",
                "    INNER JOIN Kocsmak k ON a.KocsmaID = k.KocsmaID\r\n",
                "    WHERE k.Nev = @KocsmaNev\r\n",
                "    \r\n",
                "\r\n",
                "    SET @szokozszam = @szokozszam + LEN(Italok.ItalNev) - LEN(REPLACE(Italok.ItalNev, ' ', ''));\r\n",
                "\r\n",
                "\r\n",
                "    SELECT @szokozszam AS Eltavolitott_szokozok_szama;\r\n",
                "    \r\n",
                "END\r\n",
                "\r\n",
                "GO\r\n",
                "EXEC Szokoz @KocsmaNev='vvv'\r\n",
                "\r\n",
                "\r\n",
                "/*Ez egy helyes megoldas:\r\n",
                "CREATE OR ALTER PROCEDURE SzokozEltuntetes\r\n",
                "\t@KocsmaNev NVARCHAR(20),\r\n",
                "\t@eltuntDb INT OUTPUT\r\n",
                "AS\r\n",
                "BEGIN\r\n",
                "   \r\n",
                "\tDECLARE @eltuntDb1 INT;\r\n",
                "\tDECLARE @eltuntDb2 INT;\r\n",
                "\tDECLARE @cim nvarchar(50);\r\n",
                "\r\n",
                "\tSET @eltuntDb = 0;\r\n",
                "\r\n",
                "\tIF EXISTS (SELECT Cim FROM Kocsmak WHERE Nev = @KocsmaNev)\r\n",
                "\tBEGIN\r\n",
                "\t\tSET @cim = (SELECT Cim FROM Kocsmak WHERE Nev = @KocsmaNev);\r\n",
                "\t\tSELECT @eltuntDb1 = DATALENGTH(@cim)/2 - LEN(REPLACE(@cim, ' ', ''));\r\n",
                "\t\tUPDATE Kocsmak\r\n",
                "\t\tSET Cim = REPLACE(Cim, ' ', '')\r\n",
                "\t\tWHERE Nev = @KocsmaNev;\r\n",
                "      \r\n",
                "\t\tSELECT @eltuntDb2 = LEN(I.ItalNev) - LEN(REPLACE(I.ItalNev, ' ', ''))\r\n",
                "\t\tFROM Italok I\r\n",
                "\t\tWHERE I.ItalID IN (SELECT A.ItalID FROM Arak A WHERE A.KocsmaID = (SELECT KocsmaID FROM Kocsmak WHERE Nev = @KocsmaNev));\r\n",
                "\t\tUPDATE Italok\r\n",
                "\t\tSET ItalNev = REPLACE(I.ItalNev, ' ', '')\r\n",
                "\t\tFROM Italok I\r\n",
                "\t\tWHERE I.ItalID IN (SELECT A.ItalID FROM Arak A WHERE A.KocsmaID = (SELECT KocsmaID FROM Kocsmak WHERE Nev = @KocsmaNev));\r\n",
                "\t\r\n",
                "\t\t\r\n",
                "\t\t--PRINT DATALENGTH(@cim)/2\r\n",
                "\t\t--PRINT LEN(REPLACE(@cim, ' ', ''))\r\n",
                "\t\t--PRINT @eltuntDb1\r\n",
                "\t\t--PRINT @eltuntDb2\r\n",
                "\r\n",
                "\t\tSET @eltuntDb = @eltuntDb1 + @eltuntDb2;\r\n",
                "\tEND\r\n",
                "\tELSE\r\n",
                "\tBEGIN\r\n",
                "\t\t--PRINT 'A kocsmanév nem létezik.';\r\n",
                "\t\tRAISERROR (N'A kocsmanév nem létezik.', 16, 1);\r\n",
                "\tEND\r\n",
                "END\r\n",
                "\r\n",
                "DECLARE @eltuntDb INT;\r\n",
                "EXEC SzokozEltuntetes @KocsmaNev = 'Bleriot', @eltuntDb = @eltuntDb OUTPUT;\r\n",
                "PRINT 'Eltávolított szóközök száma: ' + CAST(@eltuntDb AS NVARCHAR(10));*/\r\n",
                "\r\n",
                "\r\n",
                ""
            ],
            "metadata": {
                "azdata_cell_guid": "c8c1cbb2-f1e1-4e66-ba74-7748482b950d",
                "language": "sql",
                "tags": []
            },
            "outputs": [
                {
                    "output_type": "display_data",
                    "data": {
                        "text/html": "Commands completed successfully."
                    },
                    "metadata": {}
                },
                {
                    "output_type": "display_data",
                    "data": {
                        "text/html": "Batch execution time: 00:00:00.025"
                    },
                    "metadata": {}
                },
                {
                    "output_type": "display_data",
                    "data": {
                        "text/html": "(1 row affected)"
                    },
                    "metadata": {}
                },
                {
                    "output_type": "display_data",
                    "data": {
                        "text/html": "UPDATE Italok executed"
                    },
                    "metadata": {}
                },
                {
                    "output_type": "display_data",
                    "data": {
                        "text/html": "(1 row affected)"
                    },
                    "metadata": {}
                },
                {
                    "output_type": "display_data",
                    "data": {
                        "text/html": "UPDATE Italok executed"
                    },
                    "metadata": {}
                },
                {
                    "output_type": "display_data",
                    "data": {
                        "text/html": "(1 row affected)"
                    },
                    "metadata": {}
                },
                {
                    "output_type": "display_data",
                    "data": {
                        "text/html": "UPDATE Italok executed"
                    },
                    "metadata": {}
                },
                {
                    "output_type": "display_data",
                    "data": {
                        "text/html": "Batch execution time: 00:00:00.034"
                    },
                    "metadata": {}
                },
                {
                    "output_type": "display_data",
                    "data": {
                        "text/html": "Total execution time: 00:00:00.059"
                    },
                    "metadata": {}
                },
                {
                    "output_type": "execute_result",
                    "execution_count": 60,
                    "data": {
                        "application/vnd.dataresource+json": {
                            "schema": {
                                "fields": [
                                    {
                                        "name": "Eltavolitott_szokozok_szama"
                                    }
                                ]
                            },
                            "data": [
                                {
                                    "Eltavolitott_szokozok_szama": "0"
                                }
                            ]
                        },
                        "text/html": "<table><tr><th>Eltavolitott_szokozok_szama</th></tr><tr><td>0</td></tr></table>"
                    },
                    "metadata": {}
                }
            ],
            "execution_count": 60
        },
        {
            "cell_type": "code",
            "source": [
                "/*4.Írjunk tárolt eljárást, melynek bemenő paramétere @pAtlagAr - int típusú. \r\n",
                "A tárolt eljárás azon kocsmák bevételét (Kocsmak.Bevetel) csökkenti (UPDATE) 10%-kal, ahol az italok átlagára <=@pAtlagAr! Kimeneti paraméter: \r\n",
                "@pmodkt (int) - módosított kocsmák száma. \r\n",
                "Megj. Ha van olyan kocsma, melynek bevétele eleve 39999 EURO feletti, ezek esetén ne végezze el a módosítást!*/\r\n",
                "\r\n",
                "CREATE OR ALTER PROCEDURE Tizszazalek\r\n",
                "    @pAtlagAr INT,\r\n",
                "    @pmodkt INT OUTPUT\r\n",
                "AS\r\n",
                "BEGIN\r\n",
                "    CREATE TABLE #ModositottKocsmak (\r\n",
                "        KocsmaID INT,\r\n",
                "        Nev VARCHAR(20),\r\n",
                "        Cim VARCHAR(30),\r\n",
                "        Bevetel INT\r\n",
                "    );\r\n",
                "\r\n",
                "    INSERT INTO #ModositottKocsmak (KocsmaID, Nev, Cim, Bevetel)\r\n",
                "    SELECT KocsmaID, Nev, Cim, Bevetel\r\n",
                "    FROM Kocsmak\r\n",
                "    WHERE Bevetel < 39999 AND Nev IN (\r\n",
                "        SELECT k.Nev\r\n",
                "        FROM Arak a\r\n",
                "        JOIN Kocsmak k ON a.KocsmaID = k.KocsmaID\r\n",
                "        GROUP BY k.Nev\r\n",
                "        HAVING AVG(a.Ar) < 5\r\n",
                "    );\r\n",
                "\r\n",
                "    UPDATE Kocsmak\r\n",
                "    SET Bevetel = Bevetel - Bevetel * 0.1\r\n",
                "    WHERE Bevetel < 39999 AND Nev IN (\r\n",
                "        SELECT k.Nev\r\n",
                "        FROM Arak a\r\n",
                "        JOIN Kocsmak k ON a.KocsmaID = k.KocsmaID\r\n",
                "        GROUP BY k.Nev\r\n",
                "        HAVING AVG(a.Ar) < 5\r\n",
                "    );\r\n",
                "\r\n",
                "    SET @pmodkt = @@ROWCOUNT;\r\n",
                "\t\r\n",
                "    SELECT * FROM #ModositottKocsmak;\r\n",
                "\r\n",
                "    DROP TABLE #ModositottKocsmak;\r\n",
                "END\r\n",
                "\r\n",
                "GO\r\n",
                "DECLARE @pmodkt2 INT\r\n",
                "EXEC Tizszazalek @pAtlagAr=5, @pmodkt=@pmodkt2 OUTPUT\r\n",
                "PRINT CAST(@pmodkt2 AS NVARCHAR(10)) + '- modositott kocsmak szama'"
            ],
            "metadata": {
                "azdata_cell_guid": "f4d08edc-d08a-473f-9a76-c557de11ca81",
                "language": "sql",
                "tags": []
            },
            "outputs": [
                {
                    "output_type": "display_data",
                    "data": {
                        "text/html": "Commands completed successfully."
                    },
                    "metadata": {}
                },
                {
                    "output_type": "display_data",
                    "data": {
                        "text/html": "Batch execution time: 00:00:00.006"
                    },
                    "metadata": {}
                },
                {
                    "output_type": "display_data",
                    "data": {
                        "text/html": "(1 row affected)"
                    },
                    "metadata": {}
                },
                {
                    "output_type": "display_data",
                    "data": {
                        "text/html": "(1 row affected)"
                    },
                    "metadata": {}
                },
                {
                    "output_type": "display_data",
                    "data": {
                        "text/html": "(1 row affected)"
                    },
                    "metadata": {}
                },
                {
                    "output_type": "display_data",
                    "data": {
                        "text/html": "1- modositott kocsmak szama"
                    },
                    "metadata": {}
                },
                {
                    "output_type": "display_data",
                    "data": {
                        "text/html": "Batch execution time: 00:00:00.053"
                    },
                    "metadata": {}
                },
                {
                    "output_type": "display_data",
                    "data": {
                        "text/html": "Total execution time: 00:00:00.059"
                    },
                    "metadata": {}
                },
                {
                    "output_type": "execute_result",
                    "execution_count": 5,
                    "data": {
                        "application/vnd.dataresource+json": {
                            "schema": {
                                "fields": [
                                    {
                                        "name": "KocsmaID"
                                    },
                                    {
                                        "name": "Nev"
                                    },
                                    {
                                        "name": "Cim"
                                    },
                                    {
                                        "name": "Bevetel"
                                    }
                                ]
                            },
                            "data": [
                                {
                                    "KocsmaID": "4",
                                    "Nev": "Soviet",
                                    "Cim": "ismeretlen",
                                    "Bevetel": "28066"
                                }
                            ]
                        },
                        "text/html": "<table><tr><th>KocsmaID</th><th>Nev</th><th>Cim</th><th>Bevetel</th></tr><tr><td>4</td><td>Soviet</td><td>ismeretlen</td><td>28066</td></tr></table>"
                    },
                    "metadata": {}
                }
            ],
            "execution_count": 5
        },
        {
            "cell_type": "code",
            "source": [
                "/*5.Írj tárolt eljárást amely frissiti egy kocsma(Parameter: @pKocsmaNev) \r\n",
                "árait egy bizonyos ital tipusban(@pItalTipus), a piacon legalacsonyabb értékekkel \r\n",
                "vagyis minden ital ára a legkisebb legyen az illető kategóriából. */\r\n",
                "\r\n",
                "CREATE OR ALTER PROCEDURE Arfrissites\r\n",
                "@pKocsmaNev VARCHAR(20),\r\n",
                "@pItalTipus VARCHAR(10)\r\n",
                "AS\r\n",
                "BEGIN\r\n",
                "\tUPDATE Arak\r\n",
                "\tSET Ar=(SELECT MIN(Ar) FROM Kocsmak k\r\n",
                "\tJOIN Arak a ON a.KocsmaID=k.KocsmaID\r\n",
                "\tJOIN Italok i ON a.ItalID=i.ItalID\r\n",
                "\tJOIN ItalTipusok it ON i.TipusID=it.TipusID\r\n",
                "\tWHERE k.Nev=@pKocsmaNev and it.TipusNev=@pItalTipus)\r\n",
                "\tWHERE KocsmaID = (SELECT KocsmaID FROM Kocsmak WHERE Nev = @pKocsmaNev)\r\n",
                "\tAND ItalID IN (SELECT ItalID FROM Italok WHERE TipusID = (SELECT TipusID FROM ItalTipusok WHERE TipusNev = @pItalTipus));\r\n",
                "\r\n",
                "END\r\n",
                "\r\n",
                "GO\r\n",
                "EXEC Arfrissites @pKocsmaNev='Krajczar', @pItalTipus='sor'"
            ],
            "metadata": {
                "azdata_cell_guid": "5676da30-c830-477e-945c-38247e6b1266",
                "language": "sql",
                "tags": []
            },
            "outputs": [
                {
                    "output_type": "display_data",
                    "data": {
                        "text/html": "Commands completed successfully."
                    },
                    "metadata": {}
                },
                {
                    "output_type": "display_data",
                    "data": {
                        "text/html": "Batch execution time: 00:00:00.003"
                    },
                    "metadata": {}
                },
                {
                    "output_type": "display_data",
                    "data": {
                        "text/html": "(5 rows affected)"
                    },
                    "metadata": {}
                },
                {
                    "output_type": "display_data",
                    "data": {
                        "text/html": "Batch execution time: 00:00:00.029"
                    },
                    "metadata": {}
                },
                {
                    "output_type": "display_data",
                    "data": {
                        "text/html": "Total execution time: 00:00:00.032"
                    },
                    "metadata": {}
                }
            ],
            "execution_count": 6
        },
        {
            "cell_type": "code",
            "source": [
                "/*6.Írjunk tárolt eljárást, melynek segítségével egy új kocsmát vezethetünk fel az adatbázisba! \r\n",
                "Bemenő paraméterek: @pKocsmaNev, @pCim, @pNyitasDatuma, @pBaratNev, @pBaratEmail, @pItalTipNev, @pItalNev, @pAr)! \r\n",
                "Ellenőrizzük, hogy a megadott kocsma létezik-e már az adatbázisban. \r\n",
                "Ha igen, írassunk ki hibaüzenetet és térítsünk vissza -1-t! \r\n",
                "Ellenkező esetben szúrjuk be a Kocsmák, Kedvencek és Arak táblákba a megfelelő sorokat! \r\n",
                "Fontos: Ha nem létezik az illető barát, ital, italtípus az adatbázisban, akkor először a \r\n",
                "Baratok, ItalTipusok, illetve Italok táblákba szúrjuk be a megfelelő adatokat!*/\r\n",
                "\r\n",
                "CREATE OR ALTER PROCEDURE Kocsmabeszuras\r\n",
                "@pKocsmaNev VARCHAR(20),\r\n",
                "@pCim VARCHAR(30),\r\n",
                "@pNyitasDatuma DATE,\r\n",
                "@pBaratNev VARCHAR(30),\r\n",
                "@pBaratEmail VARCHAR(20),\r\n",
                "@pItalTipNev VARCHAR(10),\r\n",
                "@pItalNev VARCHAR(20),\r\n",
                "@pAr REAL\r\n",
                "\r\n",
                "AS\r\n",
                "BEGIN\r\n",
                "    DECLARE @vUjKocsmaID INT;\r\n",
                "    DECLARE @vUjItalID INT;\r\n",
                "    DECLARE @vUjItalTipID INT\r\n",
                "\r\n",
                "    DECLARE @Results TABLE (\r\n",
                "        Nev VARCHAR(20),\r\n",
                "        Cim VARCHAR(30),\r\n",
                "        NyitasDatuma DATE,\r\n",
                "        BaratNev VARCHAR(30),\r\n",
                "        BaratEmail VARCHAR(20),\r\n",
                "        ItalTipusNev VARCHAR(10),\r\n",
                "        ItalNev VARCHAR(20),\r\n",
                "        Ar REAL\r\n",
                "    );\r\n",
                "\r\n",
                "    IF EXISTS (SELECT Nev FROM Kocsmak \r\n",
                "    WHERE Nev=@pKocsmaNev)\r\n",
                "    BEGIN\r\n",
                "        PRINT 'A megadott kocsma mar letezik az adatbazisban.'\r\n",
                "        RETURN -1;\r\n",
                "    END\r\n",
                "    ELSE \r\n",
                "    BEGIN\r\n",
                "        IF NOT EXISTS (SELECT Nev FROM Baratok\r\n",
                "            WHERE Nev=@pBaratNev)\r\n",
                "        BEGIN\r\n",
                "            INSERT INTO Baratok(Nev, Email) VALUES (@pBaratNev, @pBaratEmail)\r\n",
                "        END\r\n",
                "\r\n",
                "        IF NOT EXISTS (SELECT TipusNev FROM ItalTipusok\r\n",
                "            WHERE TipusNev=@pItalTipNev)\r\n",
                "        BEGIN\r\n",
                "            INSERT INTO ItalTipusok(TipusNev) VALUES (@pItalTipNev)\r\n",
                "        END\r\n",
                "        IF NOT EXISTS (SELECT ItalNev FROM Italok\r\n",
                "            WHERE ItalNev=@pItalNev)\r\n",
                "        BEGIN\r\n",
                "            SET @vUjItalTipID=(SELECT TipusID FROM ItalTipusok\r\n",
                "                                WHERE TipusNev=@pItalTipNev)\r\n",
                "            INSERT INTO Italok(ItalNev, TipusID) VALUES (@pItalNev, @vUjItalTipID)    \r\n",
                "        END\r\n",
                "        INSERT INTO Kocsmak(Nev, Cim, NyitasDatuma) VALUES (@pKocsmaNev, @pCim, @pNyitasDatuma)\r\n",
                "\r\n",
                "        SET @vUjKocsmaID= (SELECT KocsmaID FROM Kocsmak\r\n",
                "                            WHERE Nev=@pKocsmaNev)\r\n",
                "        \r\n",
                "        SET @vUjItalID = (SELECT ItalID FROM Italok \r\n",
                "                            WHERE ItalNev = @pItalNev);\r\n",
                "\r\n",
                "        INSERT INTO Arak (Ar, KocsmaID, ItalID)\r\n",
                "        VALUES (@pAr, @vUjKocsmaID, @vUjItalID);\r\n",
                "\r\n",
                "    \r\n",
                "        INSERT INTO @Results (Nev, Cim, NyitasDatuma, BaratNev, BaratEmail, ItalTipusNev, ItalNev, Ar)\r\n",
                "        VALUES(@pKocsmaNev, @pCim, @pNyitasDatuma, @pBaratNev, @pBaratEmail, @pItalTipNev, @pItalNev, @pAr)\r\n",
                "\r\n",
                "        SELECT * FROM @Results;\r\n",
                "\r\n",
                "    END\r\n",
                "END\r\n",
                "\r\n",
                "GO\r\n",
                "EXEC KocsmaBeszuras \r\n",
                "@pKocsmaNev='E',\r\n",
                "@pCim='Cim Hibrid',\r\n",
                "@pNyitasDatuma='2023-11-10',\r\n",
                "@pBaratNev='Vajk',\r\n",
                "@pBaratEmail='vajk@yahoo.com',\r\n",
                "@pItalTipNev='kave',\r\n",
                "@pItalNev='espresso',\r\n",
                "@pAr=10\r\n",
                "\r\n",
                "\r\n",
                "\r\n",
                "\r\n",
                "    "
            ],
            "metadata": {
                "azdata_cell_guid": "d34359c6-056f-4171-8050-28ec0083c03e",
                "language": "sql"
            },
            "outputs": [
                {
                    "output_type": "display_data",
                    "data": {
                        "text/html": "Commands completed successfully."
                    },
                    "metadata": {}
                },
                {
                    "output_type": "display_data",
                    "data": {
                        "text/html": "Batch execution time: 00:00:00.052"
                    },
                    "metadata": {}
                },
                {
                    "output_type": "display_data",
                    "data": {
                        "text/html": "A megadott kocsma mar letezik az adatbazisban."
                    },
                    "metadata": {}
                },
                {
                    "output_type": "display_data",
                    "data": {
                        "text/html": "Batch execution time: 00:00:00.030"
                    },
                    "metadata": {}
                },
                {
                    "output_type": "display_data",
                    "data": {
                        "text/html": "Total execution time: 00:00:00.082"
                    },
                    "metadata": {}
                }
            ],
            "execution_count": 7
        },
        {
            "cell_type": "code",
            "source": [
                "/*7.Írjunk függvényt, mely visszatéríti, hogy a paraméterként megadott nevű barát (@pBaratNev,@pTel) hány koncsmát kedvel azok közül, \r\n",
                "amelyekben árulnak @pItalNev nevű italt (@pItalNev-bemeneti paraméter)! \r\n",
                "Megj. Ellenőrizzük le, hogy az adott barát, ital létezik-e az adatbázisban (ha nem, térítsünk vissza -3-t).*/\r\n",
                "\r\n",
                "CREATE FUNCTION dbo.BaratKedvencKocsmakSzama\r\n",
                "(\r\n",
                "    @pBaratNev VARCHAR(30),\r\n",
                "    @pTel VARCHAR(10),\r\n",
                "    @pItalNev VARCHAR(20)\r\n",
                ")\r\n",
                "RETURNS INT\r\n",
                "AS\r\n",
                "BEGIN\r\n",
                "    DECLARE @BaratID INT\r\n",
                "    DECLARE @ItalID INT\r\n",
                "\r\n",
                "    SELECT @BaratID = BaratID\r\n",
                "    FROM Baratok\r\n",
                "    WHERE Nev = @pBaratNev AND Tel = @pTel\r\n",
                "\r\n",
                "    IF @BaratID IS NULL\r\n",
                "    BEGIN\r\n",
                "        RETURN -3\r\n",
                "    END\r\n",
                "\r\n",
                "    SELECT @ItalID = ItalID\r\n",
                "    FROM Italok\r\n",
                "    WHERE ItalNev = @pItalNev\r\n",
                "\r\n",
                "    IF @ItalID IS NULL\r\n",
                "    BEGIN\r\n",
                "        RETURN -3 \r\n",
                "    END\r\n",
                "\r\n",
                "    RETURN (\r\n",
                "        SELECT COUNT(*)\r\n",
                "        FROM Kedvencek AS k\r\n",
                "        WHERE k.BaratID = @BaratID\r\n",
                "        AND EXISTS (\r\n",
                "            SELECT 1\r\n",
                "            FROM Arak AS a\r\n",
                "            WHERE a.KocsmaID = k.KocsmaID\r\n",
                "            AND a.ItalID = @ItalID\r\n",
                "        )\r\n",
                "    )\r\n",
                "END\r\n",
                "\r\n",
                "GO\r\n",
                "\r\n",
                "DECLARE @BaratNev VARCHAR(30) = 'Csaba'\r\n",
                "DECLARE @Tel VARCHAR(10) = '0743565678'\r\n",
                "DECLARE @ItalNev VARCHAR(20) = 'Unicum'\r\n",
                "DECLARE @KedvencKocsmakSzama INT\r\n",
                "\r\n",
                "SET @KedvencKocsmakSzama = dbo.BaratKedvencKocsmakSzama(@BaratNev, @Tel, @ItalNev) /*SELECT is lehet SET helyett*/\r\n",
                "\r\n",
                "PRINT @BaratNev + ' ' + CAST(@KedvencKocsmakSzama AS VARCHAR) + ' kocsmat kedvel ahol aruljak a kovetkezo italt: ' + @ItalNev\r\n",
                "\r\n",
                ""
            ],
            "metadata": {
                "azdata_cell_guid": "91f1f67e-b815-4fa0-b10b-c558eb3cd7d6",
                "language": "sql"
            },
            "outputs": [
                {
                    "output_type": "error",
                    "ename": "",
                    "evalue": "Msg 2714, Level 16, State 3, Procedure BaratKedvencKocsmakSzama, Line 5\r\nThere is already an object named 'BaratKedvencKocsmakSzama' in the database.",
                    "traceback": []
                },
                {
                    "output_type": "display_data",
                    "data": {
                        "text/html": "Batch execution time: 00:00:00.002"
                    },
                    "metadata": {}
                },
                {
                    "output_type": "display_data",
                    "data": {
                        "text/html": "Csaba -3 kocsmat kedvel ahol aruljak a kovetkezo italt: Unicum"
                    },
                    "metadata": {}
                },
                {
                    "output_type": "display_data",
                    "data": {
                        "text/html": "Batch execution time: 00:00:00.009"
                    },
                    "metadata": {}
                },
                {
                    "output_type": "display_data",
                    "data": {
                        "text/html": "Total execution time: 00:00:00.011"
                    },
                    "metadata": {}
                }
            ],
            "execution_count": 8
        }
    ]
}